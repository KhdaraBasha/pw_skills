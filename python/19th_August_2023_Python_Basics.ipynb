{
 "cells": [
  {
   "cell_type": "markdown",
   "id": "7b842250",
   "metadata": {},
   "source": [
    "# Pytho Basics"
   ]
  },
  {
   "cell_type": "markdown",
   "id": "c6d1f168",
   "metadata": {},
   "source": [
    "## Variables"
   ]
  },
  {
   "cell_type": "raw",
   "id": "68b20119",
   "metadata": {},
   "source": [
    "1. Declare two variables, `x` and `y`, and assign them integer values. Swap the\n",
    "values of these variables without using any temporary variable."
   ]
  },
  {
   "cell_type": "code",
   "execution_count": 1,
   "id": "e3b30c0e",
   "metadata": {},
   "outputs": [
    {
     "name": "stdout",
     "output_type": "stream",
     "text": [
      "x, y values before swaping :\n",
      "x : 10\n",
      "y : 20\n"
     ]
    }
   ],
   "source": [
    "## creating x, y variables and assign them integer values\n",
    "## variable x\n",
    "x = 10\n",
    "## variables y\n",
    "y = 20\n",
    "## print the variable values\n",
    "print('x, y values before swaping :')\n",
    "print('x :', x)\n",
    "print('y :', y)"
   ]
  },
  {
   "cell_type": "code",
   "execution_count": 2,
   "id": "3e8b2fad",
   "metadata": {},
   "outputs": [
    {
     "name": "stdout",
     "output_type": "stream",
     "text": [
      "x,y values after swaping :\n",
      "x : 20\n",
      "y : 10\n"
     ]
    }
   ],
   "source": [
    "## swap the values between variables without creating temporary variable\n",
    "## step :1\n",
    "y = x + y\n",
    "## step :2\n",
    "x = y - x\n",
    "## step :3\n",
    "y = y - x\n",
    "print('x,y values after swaping :')\n",
    "print('x :', x)\n",
    "print('y :', y)"
   ]
  },
  {
   "cell_type": "raw",
   "id": "2e74b897",
   "metadata": {},
   "source": [
    "2. Create a program that calculates the area of a rectangle. Take the length and width as inputs from the user and store them in variables. Calculate and display the area\n",
    "    Area (A) = length (L) * width (w)"
   ]
  },
  {
   "cell_type": "code",
   "execution_count": 3,
   "id": "597d989a",
   "metadata": {},
   "outputs": [
    {
     "name": "stdout",
     "output_type": "stream",
     "text": [
      "Rectangle measures:\n",
      "enter length value :25\n",
      "enter width value :4\n",
      "area of rectangle = 100\n"
     ]
    }
   ],
   "source": [
    "## Create two variable, which will store the length and Width of the rectangle\n",
    "print('Rectangle measures:')\n",
    "l = int(input('enter length value :'))\n",
    "w = int(input('enter width value :'))\n",
    "# print('length =', l)\n",
    "# print('width =', w)\n",
    "## calculating area of rectangle ( l * w)\n",
    "a = l * w\n",
    "print('area of rectangle =', a)"
   ]
  },
  {
   "cell_type": "raw",
   "id": "59796461",
   "metadata": {},
   "source": [
    "3. Write a Python program that converts temperatures from Celsius to Fahrenheit. Take the temperature in Celsius as input, store it in a variable, convert it to Fahrenheit, and display the result.\n",
    "-- Celsius to Fahrenheit\n",
    "°F = (°C x 1.8) + 32 or  °F = °C × (9/5) + 32"
   ]
  },
  {
   "cell_type": "code",
   "execution_count": 4,
   "id": "ec22aaf7",
   "metadata": {},
   "outputs": [
    {
     "name": "stdout",
     "output_type": "stream",
     "text": [
      "enter temperature value in celsius(°C) :85\n",
      "Temperature value after converting into fahrenheit value(°F): 185\n"
     ]
    }
   ],
   "source": [
    "## create a varible to store the temperature in celsius\n",
    "c = int(input('enter temperature value in celsius(°C) :'))\n",
    "## convert temperature from celsius to fahrenheit\n",
    "f = int(c * 1.8 + 32)\n",
    "print('Temperature value after converting into fahrenheit value(°F):', f)"
   ]
  },
  {
   "cell_type": "markdown",
   "id": "76864790",
   "metadata": {},
   "source": [
    "## String Based Questions"
   ]
  },
  {
   "cell_type": "raw",
   "id": "dae3f0cc",
   "metadata": {},
   "source": [
    "1. Write a Python program that takes a string as input and prints the length of the string."
   ]
  },
  {
   "cell_type": "code",
   "execution_count": 5,
   "id": "1a3044de",
   "metadata": {},
   "outputs": [
    {
     "name": "stdout",
     "output_type": "stream",
     "text": [
      "insert string value :46\n",
      "length of the string: 2\n"
     ]
    }
   ],
   "source": [
    "## create a variable to store the string value\n",
    "st = input('insert string value :')\n",
    "## find length of the string\n",
    "l = len(st)\n",
    "print('length of the string:', l)"
   ]
  },
  {
   "cell_type": "raw",
   "id": "cf4b7c59",
   "metadata": {},
   "source": [
    "2. Create a program that takes a sentence from the user and counts the number of vowels (a, e, i, o, u) in the string."
   ]
  },
  {
   "cell_type": "code",
   "execution_count": 45,
   "id": "b1b42142",
   "metadata": {},
   "outputs": [
    {
     "name": "stdout",
     "output_type": "stream",
     "text": [
      "enter the text :creating loop to count the vowels with in the entered text\n",
      "18\n"
     ]
    }
   ],
   "source": [
    "## varaible to store a count of vowels \n",
    "count = 0\n",
    "## variable to store the string value\n",
    "name = input('enter the text :')\n",
    "## list of vowels in upper and lower case alphabet\n",
    "vowels = ['A','E','I','O','U','a','e','i','o','u']\n",
    "## creating loop to count the vowels with in the entered text\n",
    "for i in name:\n",
    "    if i in vowels:\n",
    "        count += 1\n",
    "print(count)"
   ]
  },
  {
   "cell_type": "raw",
   "id": "9a02ee1e",
   "metadata": {},
   "source": [
    "3. Given a string, reverse the order of characters using string slicing and print the reversed string."
   ]
  },
  {
   "cell_type": "code",
   "execution_count": 32,
   "id": "20e0544c",
   "metadata": {},
   "outputs": [
    {
     "name": "stdout",
     "output_type": "stream",
     "text": [
      "enter the string :shaik khadar basha\n"
     ]
    },
    {
     "data": {
      "text/plain": [
       "'ahsab radahk kiahs'"
      ]
     },
     "execution_count": 32,
     "metadata": {},
     "output_type": "execute_result"
    }
   ],
   "source": [
    "## create a variable to store string value\n",
    "st = input('enter the string :')\n",
    "## reveresed the string value and print it\n",
    "st[::-1]"
   ]
  },
  {
   "cell_type": "raw",
   "id": "71c35036",
   "metadata": {},
   "source": [
    "4. Write a program that takes a string as input and checks if it is a palindrome (reads the same forwards and backwards).\n",
    "ex: radar (forward) --> radar (reverse), malayalam (forward) --> malayalam (reverse)"
   ]
  },
  {
   "cell_type": "code",
   "execution_count": 34,
   "id": "bbda54fb",
   "metadata": {},
   "outputs": [
    {
     "name": "stdout",
     "output_type": "stream",
     "text": [
      "enter the string :radar\n",
      "reverse of the string value : radar\n",
      "result of forward and reverse string value comparision : True\n"
     ]
    }
   ],
   "source": [
    "## create a variable to store string value\n",
    "st = input('enter the string :')\n",
    "st1 = st[::-1]\n",
    "print('reverse of the string value :', st1)\n",
    "## comparing forward and revrese string values\n",
    "r = st == st1\n",
    "print('result of forward and reverse string value comparision :', r)"
   ]
  },
  {
   "cell_type": "raw",
   "id": "b7c6bdba",
   "metadata": {},
   "source": [
    "5. Create a program that takes a string as input and removes all the spaces from it. Print the modified string without spaces."
   ]
  },
  {
   "cell_type": "code",
   "execution_count": 37,
   "id": "86f4cf1f",
   "metadata": {},
   "outputs": [
    {
     "name": "stdout",
     "output_type": "stream",
     "text": [
      "enter the string :shaik khadar basha\n",
      "string value after removing spaces : shaikkhadarbasha\n"
     ]
    }
   ],
   "source": [
    "## create a variable to store string value\n",
    "st = input('enter the string :')\n",
    "## remove the spaces if exist\n",
    "st1 = st.replace(' ','')\n",
    "print('string value after removing spaces :', st1)"
   ]
  }
 ],
 "metadata": {
  "kernelspec": {
   "display_name": "Python 3 (ipykernel)",
   "language": "python",
   "name": "python3"
  },
  "language_info": {
   "codemirror_mode": {
    "name": "ipython",
    "version": 3
   },
   "file_extension": ".py",
   "mimetype": "text/x-python",
   "name": "python",
   "nbconvert_exporter": "python",
   "pygments_lexer": "ipython3",
   "version": "3.9.13"
  }
 },
 "nbformat": 4,
 "nbformat_minor": 5
}
