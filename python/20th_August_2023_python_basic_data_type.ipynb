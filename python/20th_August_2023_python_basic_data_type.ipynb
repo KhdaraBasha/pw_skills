{
 "cells": [
  {
   "cell_type": "markdown",
   "id": "8212e650",
   "metadata": {},
   "source": [
    "# Python Data Type"
   ]
  },
  {
   "cell_type": "markdown",
   "id": "528da8e5",
   "metadata": {},
   "source": [
    "### String Based Assignment"
   ]
  },
  {
   "cell_type": "raw",
   "id": "2b936885",
   "metadata": {},
   "source": [
    "1. Write a program to reverse a string."
   ]
  },
  {
   "cell_type": "code",
   "execution_count": 1,
   "id": "2d1dbe82",
   "metadata": {},
   "outputs": [],
   "source": [
    "## create a function to reverse passed string value\n",
    "def reverse_string(in_string):\n",
    "    ## create a variable to store the reverse string\n",
    "    rev_str = ''\n",
    "    ## create a varible to store the input string\n",
    "    st = in_string\n",
    "    ## print the passed string value \n",
    "    print('entered string :', st)\n",
    "    ## reverse the string value\n",
    "    rev_str = st[::-1]\n",
    "    ## return the reverse string as output\n",
    "    return 'reverse string :' + rev_str\n"
   ]
  },
  {
   "cell_type": "raw",
   "id": "782b78b6",
   "metadata": {},
   "source": [
    "2. Check if a string is a palindrome."
   ]
  },
  {
   "cell_type": "code",
   "execution_count": 2,
   "id": "38696832",
   "metadata": {},
   "outputs": [
    {
     "name": "stdout",
     "output_type": "stream",
     "text": [
      "enter the string :malylam\n",
      "String is a palindrome : True\n"
     ]
    }
   ],
   "source": [
    "## create a variable to store the string value\n",
    "vstr = input('enter the string :')\n",
    "\n",
    "## create if clause to verify the entered string is a palindrome or not\n",
    "if vstr == vstr[::-1]:\n",
    "    print('String is a palindrome :', True)\n",
    "else:\n",
    "    print('String is a palindrome :', False)\n",
    "        "
   ]
  },
  {
   "cell_type": "raw",
   "id": "32c1d839",
   "metadata": {},
   "source": [
    "3. Convert a string to uppercase."
   ]
  },
  {
   "cell_type": "code",
   "execution_count": 3,
   "id": "e10b97ee",
   "metadata": {},
   "outputs": [
    {
     "name": "stdout",
     "output_type": "stream",
     "text": [
      "enter the string value :basha\n",
      "upper case string : BASHA\n"
     ]
    }
   ],
   "source": [
    "## create a variabel to pass the string value\n",
    "vsr = input('enter the string value :')\n",
    "\n",
    "## create a variabel to store upper case string\n",
    "vst_upp = ''\n",
    "\n",
    "## convert the string to upper case\n",
    "vst_upp = vsr.upper()\n",
    "\n",
    "## print the upper case string value\n",
    "print('upper case string :', vst_upp)"
   ]
  },
  {
   "cell_type": "raw",
   "id": "536c7b87",
   "metadata": {},
   "source": [
    "4. Convert a string to lowercase."
   ]
  },
  {
   "cell_type": "code",
   "execution_count": 4,
   "id": "897a5759",
   "metadata": {},
   "outputs": [
    {
     "name": "stdout",
     "output_type": "stream",
     "text": [
      "enter the string value :basha\n",
      "lower case string : basha\n"
     ]
    }
   ],
   "source": [
    "## create a variabel to pass the string value\n",
    "vsr = input('enter the string value :')\n",
    "\n",
    "## create a variabel to store lower case string\n",
    "vst_low = ''\n",
    "\n",
    "## convert the string to upper case\n",
    "vst_low = vsr.lower()\n",
    "\n",
    "## print the lower case string value\n",
    "print('lower case string :', vst_low)"
   ]
  },
  {
   "cell_type": "raw",
   "id": "4007cb16",
   "metadata": {},
   "source": [
    "5. Count the number of vowels in a string."
   ]
  },
  {
   "cell_type": "code",
   "execution_count": 5,
   "id": "4c28f9c6",
   "metadata": {},
   "outputs": [],
   "source": [
    "## create a function to count vlowels in a entered string\n",
    "def cnt_vowels(string):\n",
    "    \n",
    "    ## create variable to store the count of vowels\n",
    "    count = 0\n",
    "    \n",
    "    ## create variable with list vowels\n",
    "    vowels = ['a', 'e', 'i', 'o', 'u']\n",
    "    \n",
    "    ## convert the entered string to lower case\n",
    "    st = string.lower()\n",
    "    \n",
    "    ## create a for loop to iterate through each character\n",
    "    for i in st:\n",
    "        \n",
    "        ## check if the character is vowel or not\n",
    "        if i in vowels:\n",
    "        ## increment the counter if character matches with vowel\n",
    "            count += 1\n",
    "            \n",
    "    return count"
   ]
  },
  {
   "cell_type": "code",
   "execution_count": 6,
   "id": "96a1d72b",
   "metadata": {},
   "outputs": [
    {
     "data": {
      "text/plain": [
       "11"
      ]
     },
     "execution_count": 6,
     "metadata": {},
     "output_type": "execute_result"
    }
   ],
   "source": [
    "cnt_vowels('Count the number of vowels in a string')"
   ]
  },
  {
   "cell_type": "raw",
   "id": "588a0825",
   "metadata": {},
   "source": [
    "6. Count the number of consonants in a string."
   ]
  },
  {
   "cell_type": "code",
   "execution_count": 7,
   "id": "6cb44944",
   "metadata": {},
   "outputs": [],
   "source": [
    "## create a function to count consonants in a entered string\n",
    "def cnt_consonants(string):\n",
    "    ## create variable to store the count of consonants\n",
    "    count = 0\n",
    "    ## create a set with vowels\n",
    "    vowels = set('aeiou')\n",
    "    ## convert the entered string to lower case\n",
    "    st = string.lower()\n",
    "    ## create a for loop to iterate through each character\n",
    "    for i in st:\n",
    "        ## check if the character is consonant or not\n",
    "        if i not in vowels:\n",
    "        ## increment the counter if character matches with consonant\n",
    "            count += 1\n",
    "    return count"
   ]
  },
  {
   "cell_type": "code",
   "execution_count": 8,
   "id": "ed9609c5",
   "metadata": {},
   "outputs": [
    {
     "data": {
      "text/plain": [
       "30"
      ]
     },
     "execution_count": 8,
     "metadata": {},
     "output_type": "execute_result"
    }
   ],
   "source": [
    "cnt_consonants('Count the number of consonants in a string')"
   ]
  },
  {
   "cell_type": "raw",
   "id": "ccb1cc44",
   "metadata": {},
   "source": [
    "7. Remove all whitespaces from a string."
   ]
  },
  {
   "cell_type": "code",
   "execution_count": 94,
   "id": "8c52d0b6",
   "metadata": {},
   "outputs": [],
   "source": [
    "## create a function to remove whitespaces from the string\n",
    "def remv_spaces(string):\n",
    "    \n",
    "    # Print the original string\n",
    "    print(string)\n",
    "    \n",
    "    # Initialize an empty string to store characters without spaces\n",
    "    s = ''\n",
    "    \n",
    "    # Iterate through each character in the string\n",
    "    for i in string:\n",
    "        # Check if the character is not a space\n",
    "        if i != ' ':\n",
    "            # If it's not a space, append it to the new string\n",
    "            s = s + i\n",
    "    # Return the string without spaces\n",
    "    return s\n",
    "    "
   ]
  },
  {
   "cell_type": "code",
   "execution_count": 95,
   "id": "575857a8",
   "metadata": {},
   "outputs": [
    {
     "name": "stdout",
     "output_type": "stream",
     "text": [
      "Remove all whitespaces from a string\n"
     ]
    },
    {
     "data": {
      "text/plain": [
       "'Removeallwhitespacesfromastring'"
      ]
     },
     "execution_count": 95,
     "metadata": {},
     "output_type": "execute_result"
    }
   ],
   "source": [
    "remv_spaces('Remove all whitespaces from a string')"
   ]
  },
  {
   "cell_type": "raw",
   "id": "6f0b2c29",
   "metadata": {},
   "source": [
    "8. Find the length of a string without using the `len()` function."
   ]
  },
  {
   "cell_type": "code",
   "execution_count": 96,
   "id": "4c891245",
   "metadata": {},
   "outputs": [],
   "source": [
    "## create a function to find the length of the string\n",
    "def len_string(string):\n",
    "    \n",
    "    # Print the original string\n",
    "    print(string)\n",
    "    \n",
    "    # Initialize a counter to keep track of the length of the string\n",
    "    cnt = 0\n",
    "    \n",
    "    # Iterate through each character in the string\n",
    "    for i in string:\n",
    "        # Increment the counter for each character in the string\n",
    "        cnt += 1\n",
    "        \n",
    "    # Return the count, representing the length of the string\n",
    "    return cnt"
   ]
  },
  {
   "cell_type": "code",
   "execution_count": 12,
   "id": "75f055d4",
   "metadata": {},
   "outputs": [
    {
     "name": "stdout",
     "output_type": "stream",
     "text": [
      "Find the length of a string without using the `len()` function\n"
     ]
    },
    {
     "data": {
      "text/plain": [
       "62"
      ]
     },
     "execution_count": 12,
     "metadata": {},
     "output_type": "execute_result"
    }
   ],
   "source": [
    "len_string('Find the length of a string without using the `len()` function')"
   ]
  },
  {
   "cell_type": "raw",
   "id": "458385a3",
   "metadata": {},
   "source": [
    "9. Check if a string contains a specific word."
   ]
  },
  {
   "cell_type": "code",
   "execution_count": 13,
   "id": "904fbb40",
   "metadata": {},
   "outputs": [
    {
     "name": "stdout",
     "output_type": "stream",
     "text": [
      "enter the string :Check if a string contains a specific word\n",
      "enter searching word:che\n",
      "yes, che word is available in \"check if a string contains a specific word\"\n"
     ]
    }
   ],
   "source": [
    "## create a function to find the length of the string\n",
    "var_string = input('enter the string :')\n",
    "var_word = input('enter searching word:')\n",
    "## convert a string to lower case\n",
    "var_string_low = var_string.lower()\n",
    "var_word_low = var_word.lower()\n",
    "## find whether entred word is available in given string or not\n",
    "if var_word_low in var_string_low:\n",
    "    print(f'yes, {var_word_low} word is available in \"{var_string_low}\"')\n",
    "else:\n",
    "    print(f'no, {var_word_low} word is not available in \"{var_string_low}\"' )"
   ]
  },
  {
   "cell_type": "raw",
   "id": "342c79c1",
   "metadata": {},
   "source": [
    "10. Replace a word in a string with another word."
   ]
  },
  {
   "cell_type": "code",
   "execution_count": 97,
   "id": "4dd5bfd4",
   "metadata": {},
   "outputs": [
    {
     "name": "stdout",
     "output_type": "stream",
     "text": [
      "enter the string :shaik\n",
      "old key word :basha\n",
      " new key word :et\n",
      "old string : shaik\n",
      "et ---> basha\n",
      "new string : shaik\n"
     ]
    }
   ],
   "source": [
    "# Get input string from the user\n",
    "string = input('enter the string :')\n",
    "\n",
    "# Get the old word to be replaced from the user\n",
    "old_word = input('old key word :')\n",
    "\n",
    "# Get the new word to replace the old word from the user\n",
    "new_word = input(' new key word :')\n",
    "\n",
    "# Initialize an empty string to store the updated string\n",
    "new_string = ''\n",
    "\n",
    "# Replace the old word with the new word in the string\n",
    "new_string = string.replace(old_word,new_word)\n",
    "\n",
    "# Print the original string\n",
    "print('old string :', string)\n",
    "\n",
    "# Print the replacement operation\n",
    "print(f'{new_word} ---> {old_word}')\n",
    "\n",
    "# Print the updated string\n",
    "print('new string :', new_string)\n"
   ]
  },
  {
   "cell_type": "raw",
   "id": "83709cc2",
   "metadata": {},
   "source": [
    "11. Count the occurrences of a word in a string."
   ]
  },
  {
   "cell_type": "code",
   "execution_count": 99,
   "id": "53f402c7",
   "metadata": {},
   "outputs": [],
   "source": [
    "## Create a function to count the occurrence of word in a string\n",
    "def word_occurrence(in_string,word):\n",
    "    \n",
    "    # Convert the input string to lowercase and split it into a list of words\n",
    "    string = in_string.lower().split()\n",
    "    \n",
    "    # Print the lowercase input string\n",
    "    print('input string :',in_string.lower())\n",
    "    \n",
    "    # Convert the word to be searched to lowercase\n",
    "    ser_word = word.lower()\n",
    "    \n",
    "    # Initialize a counter to keep track of the occurrences of the word\n",
    "    cnt = 0\n",
    "    \n",
    "    # Iterate through each word in the list of words\n",
    "    for i in string:\n",
    "        # Check if the lowercase word matches the word in the list\n",
    "        if ser_word == i:\n",
    "            # If there is a match, increment the counter\n",
    "            cnt += 1\n",
    "            \n",
    "    # Print the count of occurrences of the word in the string\n",
    "    print(f\"count of {ser_word} occurrences in string is : {cnt}\")\n",
    "    "
   ]
  },
  {
   "cell_type": "code",
   "execution_count": 100,
   "id": "cab6cc12",
   "metadata": {},
   "outputs": [
    {
     "name": "stdout",
     "output_type": "stream",
     "text": [
      "input string : count the occurrences of a word in a string\n",
      "count of a occurrences in string is : 2\n"
     ]
    }
   ],
   "source": [
    "word_occurrence('Count the occurrences of a word in a string','a')"
   ]
  },
  {
   "cell_type": "raw",
   "id": "81999ae6",
   "metadata": {},
   "source": [
    "12. Find the first occurrence of a word in a string."
   ]
  },
  {
   "cell_type": "code",
   "execution_count": 17,
   "id": "96157576",
   "metadata": {},
   "outputs": [],
   "source": [
    "# Create a function to find the first occurence of a word in string\n",
    "def word_first_occurrence(string,word):\n",
    "    \n",
    "    # Convert the string to lowercase\n",
    "    string_low = string.lower()\n",
    "    \n",
    "    # Convert the word to be searched to lowercase\n",
    "    ser_word = word.lower()\n",
    "    \n",
    "    # Find the index of the first occurrence of the word in the string\n",
    "    index_word = string_low.find(ser_word)\n",
    "    \n",
    "    # Print the lowercase input string\n",
    "    print('input string :', string_low)\n",
    "    \n",
    "    # Print the index of the first occurrence of the word in the string\n",
    "    print(f'\"{ser_word}\" word first occurrence at :',index_word)"
   ]
  },
  {
   "cell_type": "code",
   "execution_count": 18,
   "id": "0d6ddfae",
   "metadata": {},
   "outputs": [
    {
     "name": "stdout",
     "output_type": "stream",
     "text": [
      "input string : find the first occurrence of a word in a string\n",
      "\"a\" word first occurrence at : 29\n"
     ]
    }
   ],
   "source": [
    "word_first_occurrence('Find the first occurrence of a word in a string','a')"
   ]
  },
  {
   "cell_type": "raw",
   "id": "f27993e3",
   "metadata": {},
   "source": [
    "13. Find the last occurrence of a word in a string."
   ]
  },
  {
   "cell_type": "code",
   "execution_count": 19,
   "id": "b2a43c2a",
   "metadata": {},
   "outputs": [],
   "source": [
    "# Create a function to find the last occurrence of a word in string\n",
    "def word_first_occurrence(string,word):\n",
    "    \n",
    "    # Convert the string to lowercase\n",
    "    string_low = string.lower()\n",
    "    \n",
    "    # Convert the word to be searched to lowercase\n",
    "    ser_word = word.lower()\n",
    "    \n",
    "    # Find the index of the first occurrence of the word in the string\n",
    "    index_word = string_low.rfind(ser_word)\n",
    "    \n",
    "    # Print the lowercase input string\n",
    "    print('input string :', string_low)\n",
    "    \n",
    "    # Print the index of the first occurrence of the word in the string\n",
    "    print(f'\"{ser_word}\" word last occurrence at :',index_word)"
   ]
  },
  {
   "cell_type": "code",
   "execution_count": 20,
   "id": "41cd24f1",
   "metadata": {},
   "outputs": [
    {
     "name": "stdout",
     "output_type": "stream",
     "text": [
      "input string : find the first occurrence of a word in a string\n",
      "\"a\" word last occurrence at : 39\n"
     ]
    }
   ],
   "source": [
    "word_first_occurrence('Find the first occurrence of a word in a string','a')"
   ]
  },
  {
   "cell_type": "raw",
   "id": "d77c4774",
   "metadata": {},
   "source": [
    "14. Split a string into a list of words."
   ]
  },
  {
   "cell_type": "code",
   "execution_count": 21,
   "id": "ef406057",
   "metadata": {},
   "outputs": [],
   "source": [
    "# Create function to split the string into words\n",
    "def string_to_word(string):\n",
    "    \n",
    "    # Convert the string to lowercase\n",
    "    string_low = string.lower()\n",
    "    \n",
    "    # Split the lowercase string into a list of words\n",
    "    word = string_low.split()\n",
    "    \n",
    "    # Print the lowercase input string\n",
    "    print('input string :', string_low)\n",
    "    \n",
    "    # Print the list of words from the string\n",
    "    print('list of words :', word)"
   ]
  },
  {
   "cell_type": "code",
   "execution_count": 22,
   "id": "2e79c4b8",
   "metadata": {},
   "outputs": [
    {
     "name": "stdout",
     "output_type": "stream",
     "text": [
      "input string : split a string into a list of words\n",
      "list of words : ['split', 'a', 'string', 'into', 'a', 'list', 'of', 'words']\n"
     ]
    }
   ],
   "source": [
    "string_to_word('Split a string into a list of words')"
   ]
  },
  {
   "cell_type": "raw",
   "id": "2a4e4ba6",
   "metadata": {},
   "source": [
    "15. Join a list of words into a string."
   ]
  },
  {
   "cell_type": "code",
   "execution_count": 23,
   "id": "a1d010ab",
   "metadata": {},
   "outputs": [],
   "source": [
    "# Create a function to join list of word into a string\n",
    "def word_to_string(list_word):\n",
    "    \n",
    "    # Join the list of words into a single string separated by spaces\n",
    "    string = ' '.join(list_word)\n",
    "    \n",
    "    # Print the resulting string\n",
    "    print(string)"
   ]
  },
  {
   "cell_type": "code",
   "execution_count": 24,
   "id": "96b58cdd",
   "metadata": {},
   "outputs": [
    {
     "name": "stdout",
     "output_type": "stream",
     "text": [
      "split a string into a list of words\n"
     ]
    }
   ],
   "source": [
    "word_to_string(['split', 'a', 'string', 'into', 'a', 'list', 'of', 'words'])"
   ]
  },
  {
   "cell_type": "raw",
   "id": "44b48ac9",
   "metadata": {},
   "source": [
    "16. Convert a string where words are separated by spaces to one where words are separated by underscores."
   ]
  },
  {
   "cell_type": "code",
   "execution_count": 101,
   "id": "e45cf889",
   "metadata": {},
   "outputs": [],
   "source": [
    "# Create a function to replace space with underscore\n",
    "def spaces_to_underscore(string):\n",
    "    \n",
    "    # Convert the string to lowercase\n",
    "    string_low = string.lower()\n",
    "    \n",
    "    # Replace spaces with underscores in the lowercase string\n",
    "    new_string = string_low.replace(' ','_')\n",
    "    \n",
    "    # Print the lowercase input string\n",
    "    print('input string :', string_low)\n",
    "    \n",
    "    # Print the string with spaces replaced by underscores\n",
    "    print('output string :', new_string)"
   ]
  },
  {
   "cell_type": "code",
   "execution_count": 102,
   "id": "a10e8b81",
   "metadata": {},
   "outputs": [
    {
     "name": "stdout",
     "output_type": "stream",
     "text": [
      "input string : convert a string where words are separated by spaces to one where words are separated by underscores\n",
      "output string : convert_a_string_where_words_are_separated_by_spaces_to_one_where_words_are_separated_by_underscores\n"
     ]
    }
   ],
   "source": [
    "spaces_to_underscore('Convert a string where words are separated by spaces to one where words are separated by underscores')"
   ]
  },
  {
   "cell_type": "raw",
   "id": "e95bcef9",
   "metadata": {},
   "source": [
    "17. Check if a string starts with a specific word or phrase."
   ]
  },
  {
   "cell_type": "code",
   "execution_count": 103,
   "id": "633e1f83",
   "metadata": {},
   "outputs": [],
   "source": [
    "def check_start_str_words(string, word):\n",
    "    # Convert the input string to lowercase and remove leading and trailing whitespaces\n",
    "    str_low = string.lower().strip()\n",
    "    \n",
    "    # Convert the word to be checked to lowercase and remove leading and trailing whitespaces\n",
    "    word_low = word.lower().strip()\n",
    "    \n",
    "    # Print the lowercase input string\n",
    "    print('input string :', str_low)\n",
    "    \n",
    "    # Check if the lowercase string starts with the lowercase word\n",
    "    if str_low.startswith(word_low):\n",
    "        print(f'string started with word : {word_low}')\n",
    "    else:\n",
    "        print(f'string not started with word : {word_low}')"
   ]
  },
  {
   "cell_type": "code",
   "execution_count": 104,
   "id": "174d41b5",
   "metadata": {},
   "outputs": [
    {
     "name": "stdout",
     "output_type": "stream",
     "text": [
      "input string : hi this pwskills mentor\n",
      "string started with word : hi\n"
     ]
    }
   ],
   "source": [
    "check_start_str_words(' hi this pwskills mentor ','HI')"
   ]
  },
  {
   "cell_type": "raw",
   "id": "aabd7ba7",
   "metadata": {},
   "source": [
    "18. Check if a string ends with a specific word or phrase."
   ]
  },
  {
   "cell_type": "code",
   "execution_count": 105,
   "id": "99e111c2",
   "metadata": {},
   "outputs": [],
   "source": [
    "def check_end_str_words(string, word):\n",
    "    # Convert the input string to lowercase and remove leading and trailing whitespaces\n",
    "    str_low = string.lower().strip()\n",
    "    \n",
    "    # Convert the word to be checked to lowercase and remove leading and trailing whitespaces\n",
    "    word_low = word.lower().strip()\n",
    "    \n",
    "    # Print the lowercase input string\n",
    "    print('input string :', str_low)\n",
    "    \n",
    "    # Check if the lowercase string ends with the lowercase word\n",
    "    if str_low.endswith(word_low):\n",
    "        print(f'string ended with word : {word_low}')\n",
    "    else:\n",
    "        print(f'string not ended with word : {word_low}')\n"
   ]
  },
  {
   "cell_type": "code",
   "execution_count": 106,
   "id": "f157c437",
   "metadata": {},
   "outputs": [
    {
     "name": "stdout",
     "output_type": "stream",
     "text": [
      "input string : hi this pwskills mentor\n",
      "string not ended with word : to\n"
     ]
    }
   ],
   "source": [
    "check_end_str_words(' hi this pwskills mentor ','to')"
   ]
  },
  {
   "cell_type": "raw",
   "id": "2abb3aa0",
   "metadata": {},
   "source": [
    "19. Convert a string to title case (e.g., \"hello world\" to \"Hello World\")."
   ]
  },
  {
   "cell_type": "code",
   "execution_count": 31,
   "id": "891ed946",
   "metadata": {},
   "outputs": [],
   "source": [
    "def str_to_title_case(string):\n",
    "    # Convert the string to title case and remove leading and trailing whitespaces\n",
    "    str_title = string.strip().title()\n",
    "    \n",
    "    # Print the original input string\n",
    "    print('input string:', string)\n",
    "    \n",
    "    # Print the string converted to title case\n",
    "    print('output string :', str_title)"
   ]
  },
  {
   "cell_type": "code",
   "execution_count": 32,
   "id": "c4c594b8",
   "metadata": {},
   "outputs": [
    {
     "name": "stdout",
     "output_type": "stream",
     "text": [
      "input string:  Convert a string to title case \n",
      "output string : Convert A String To Title Case\n"
     ]
    }
   ],
   "source": [
    "str_to_title_case(' Convert a string to title case ')"
   ]
  },
  {
   "cell_type": "raw",
   "id": "688025a4",
   "metadata": {},
   "source": [
    "20. Find the longest word in a string."
   ]
  },
  {
   "cell_type": "code",
   "execution_count": 93,
   "id": "1fa14544",
   "metadata": {},
   "outputs": [
    {
     "name": "stdout",
     "output_type": "stream",
     "text": [
      "Longest word in string : longest\n"
     ]
    }
   ],
   "source": [
    "# Create a function to find longest word in a string\n",
    "def longest_word(string):\n",
    "    \n",
    "    # Split the string into words\n",
    "    s = string.lower().split()\n",
    "    \n",
    "    # Initialize the variable with first word from string\n",
    "    long_word = s[0]\n",
    "    \n",
    "    # Iterate through string of words to find longest word\n",
    "    for i in s:\n",
    "        if len(i) > len(long_word):\n",
    "            long_word = i\n",
    "            \n",
    "    return long_word     \n",
    "\n",
    "# Call the function with string value\n",
    "result = longest_word('Find the longest word in a string')\n",
    "\n",
    "# Print the result\n",
    "print('Longest word in string :', result)\n"
   ]
  },
  {
   "cell_type": "code",
   "execution_count": 87,
   "id": "21561485",
   "metadata": {},
   "outputs": [
    {
     "name": "stdout",
     "output_type": "stream",
     "text": [
      "['find', 'the', 'longest', 'stronge', 'word', 'in', 'a', 'string']\n",
      "stronge\n"
     ]
    }
   ],
   "source": [
    "longest_word('Find the longest stronge word in a string')"
   ]
  },
  {
   "cell_type": "raw",
   "id": "d16a1772",
   "metadata": {},
   "source": [
    "21. Find the shortest word in a string."
   ]
  },
  {
   "cell_type": "code",
   "execution_count": 92,
   "id": "c1b0e866",
   "metadata": {},
   "outputs": [
    {
     "name": "stdout",
     "output_type": "stream",
     "text": [
      "Shortest word in string : a\n"
     ]
    }
   ],
   "source": [
    "# Create a function to find shortest word in a string\n",
    "def shortes_word(string):\n",
    "    \n",
    "    # Split the string into words\n",
    "    s = string.lower().split()\n",
    "    \n",
    "    # Initialize the variable with first word from string\n",
    "    short_word = s[0]\n",
    "    \n",
    "    # Iterate through string of words to find shortest word\n",
    "    for i in s:\n",
    "        if len(i) < len(short_word):\n",
    "            short_word = i\n",
    "            \n",
    "    return short_word     \n",
    "\n",
    "# Call the function with string value\n",
    "result = shortes_word('Find the shortest word in a string')\n",
    "\n",
    "# Print the result\n",
    "print('Shortest word in string :', result)"
   ]
  },
  {
   "cell_type": "raw",
   "id": "0198a4d4",
   "metadata": {},
   "source": [
    "22. Reverse the order of words in a string."
   ]
  },
  {
   "cell_type": "code",
   "execution_count": 107,
   "id": "7e3c8b2c",
   "metadata": {},
   "outputs": [
    {
     "name": "stdout",
     "output_type": "stream",
     "text": [
      "input string: reverse the order of words in a string\n",
      "output string: gnirts a ni sdrow fo redro eht esrever\n"
     ]
    }
   ],
   "source": [
    "def reverse_word(string):\n",
    "    # Convert the string to lowercase and store it in a variable\n",
    "    old_str = string.lower()\n",
    "    \n",
    "    # Reverse the string and store it in a new variable\n",
    "    new_str = old_str[::-1]\n",
    "    \n",
    "    # Print the original input string\n",
    "    print('input string:', old_str)\n",
    "    \n",
    "    # Print the reversed string\n",
    "    print('output string:', new_str)\n",
    "\n",
    "# Calling the function with an example string\n",
    "reverse_word('Reverse the order of words in a string')    "
   ]
  },
  {
   "cell_type": "raw",
   "id": "11a33d7e",
   "metadata": {},
   "source": [
    "23. Check if a string is alphanumeric."
   ]
  },
  {
   "cell_type": "code",
   "execution_count": 36,
   "id": "ea195dd9",
   "metadata": {},
   "outputs": [
    {
     "name": "stdout",
     "output_type": "stream",
     "text": [
      "Yes, input string is alphanumeric\n"
     ]
    }
   ],
   "source": [
    "# Define the string\n",
    "st = '123psw'\n",
    "\n",
    "# Define a function to check if the string is alphanumeric\n",
    "def str_alpha(string):\n",
    "    # Initialize a boolean variable x\n",
    "    x = bool\n",
    "    # Check if the string is alphanumeric\n",
    "    if string.isalnum():\n",
    "        x = True\n",
    "    else:\n",
    "        x = False\n",
    "    return x\n",
    "\n",
    "# Call the function and print the result\n",
    "if str_alpha(st) == True:\n",
    "    print(\"Yes, input string is alphanumeric\")\n",
    "else:\n",
    "    print('No, input string is not alphanumeric')\n",
    "    "
   ]
  },
  {
   "cell_type": "raw",
   "id": "c8889b60",
   "metadata": {},
   "source": [
    "24. Extract all digits from a string."
   ]
  },
  {
   "cell_type": "code",
   "execution_count": 108,
   "id": "f3023720",
   "metadata": {},
   "outputs": [
    {
     "name": "stdout",
     "output_type": "stream",
     "text": [
      "123\n"
     ]
    }
   ],
   "source": [
    "# Define the input string\n",
    "st = 'hello123'\n",
    "\n",
    "# Define a function to extract digits from a string\n",
    "def extract_digit(input_str):\n",
    "    # Initialize an empty string to store digits\n",
    "    digits = ''\n",
    "    \n",
    "    # Iterate through each character in the input string\n",
    "    for char in input_str:\n",
    "        # Check if the character is numeric (a digit)\n",
    "        if char.isnumeric():\n",
    "            digits += char\n",
    "    \n",
    "    # Return the extracted digits as a string\n",
    "    return digits\n",
    "\n",
    "# Call the function and store the result in a variable\n",
    "result = extract_digit(st)\n",
    "\n",
    "# Print the extracted digits\n",
    "print(result)   "
   ]
  },
  {
   "cell_type": "raw",
   "id": "3add1f64",
   "metadata": {},
   "source": [
    "25. Extract all alphabets from a string."
   ]
  },
  {
   "cell_type": "code",
   "execution_count": 38,
   "id": "a8e9e680",
   "metadata": {},
   "outputs": [
    {
     "data": {
      "text/plain": [
       "'hello'"
      ]
     },
     "execution_count": 38,
     "metadata": {},
     "output_type": "execute_result"
    }
   ],
   "source": [
    "# Define the input string\n",
    "st = 'hello123'\n",
    "\n",
    "# Define a function to extract alphabetic characters from the string\n",
    "def extract_alphabets(string):\n",
    "    # Initialize an empty string to store the alphabetic characters\n",
    "    alphabets = ''\n",
    "    \n",
    "    # Iterate through each character in the string\n",
    "    for i in string:\n",
    "        # Check if the character is an alphabet using the isalpha method\n",
    "        if i.isalpha():\n",
    "            # If it is an alphabet, add it to the alphabets string\n",
    "            alphabets += i\n",
    "    \n",
    "    # Return the string containing the extracted alphabetic characters\n",
    "    return alphabets\n",
    "\n",
    "# Call the function with the input string and print the result\n",
    "print(extract_alphabets(st))\n"
   ]
  },
  {
   "cell_type": "raw",
   "id": "6483ddd6",
   "metadata": {},
   "source": [
    "26. Count the number of uppercase letters in a string."
   ]
  },
  {
   "cell_type": "code",
   "execution_count": 39,
   "id": "fc1dc0a0",
   "metadata": {},
   "outputs": [
    {
     "data": {
      "text/plain": [
       "2"
      ]
     },
     "execution_count": 39,
     "metadata": {},
     "output_type": "execute_result"
    }
   ],
   "source": [
    "# Define the input string\n",
    "st = 'HellO123'\n",
    "\n",
    "# Define a function to extract and count uppercase letters in the string\n",
    "def extract_upper_letters(string):\n",
    "    # Initialize an empty string to store the uppercase letters\n",
    "    upper_letters = ''\n",
    "    \n",
    "    # Iterate through each character in the string\n",
    "    for i in string:\n",
    "        # Check if the character is an uppercase letter using the isupper method\n",
    "        if i.isupper():\n",
    "            # If it is an uppercase letter, add it to the upper_letters string\n",
    "            upper_letters += i\n",
    "    \n",
    "    # Return the count of uppercase letters\n",
    "    return len(upper_letters)\n",
    "\n",
    "# Call the function with the input string and print the count of uppercase letters\n",
    "print(extract_upper_letters(st))\n"
   ]
  },
  {
   "cell_type": "raw",
   "id": "6ccd2469",
   "metadata": {},
   "source": [
    "27. Count the number of lowercase letters in a string."
   ]
  },
  {
   "cell_type": "code",
   "execution_count": 40,
   "id": "5b0b3bcd",
   "metadata": {},
   "outputs": [
    {
     "data": {
      "text/plain": [
       "3"
      ]
     },
     "execution_count": 40,
     "metadata": {},
     "output_type": "execute_result"
    }
   ],
   "source": [
    "# Define the input string\n",
    "st = 'HellO123'\n",
    "\n",
    "# Define a function to extract and count lowercase letters in the string\n",
    "def extract_lower_letters(string):\n",
    "    # Initialize an empty string to store the lowercase letters\n",
    "    lower_letters = ''\n",
    "    \n",
    "    # Iterate through each character in the string\n",
    "    for i in string:\n",
    "        # Check if the character is a lowercase letter using the islower method\n",
    "        if i.islower():\n",
    "            # If it is a lowercase letter, add it to the lower_letters string\n",
    "            lower_letters += i\n",
    "    \n",
    "    # Return the count of lowercase letters\n",
    "    return len(lower_letters)\n",
    "\n",
    "# Call the function with the input string and print the count of lowercase letters\n",
    "print(extract_lower_letters(st))\n"
   ]
  },
  {
   "cell_type": "raw",
   "id": "dfaf2722",
   "metadata": {},
   "source": [
    "28. Swap the case of each character in a string."
   ]
  },
  {
   "cell_type": "code",
   "execution_count": 109,
   "id": "b6312778",
   "metadata": {},
   "outputs": [
    {
     "name": "stdout",
     "output_type": "stream",
     "text": [
      "sWAP tHE cASE oF eACH cHARACTER iN a sTRING\n"
     ]
    }
   ],
   "source": [
    "# Define the input string\n",
    "st = 'Swap The Case Of Each Character In A String'\n",
    "\n",
    "# Function to check if a letter is in uppercase\n",
    "def upper_case_letter(x):\n",
    "    if x.isupper():\n",
    "        return True\n",
    "\n",
    "# Function to swap the case of each character in a string\n",
    "def swap_letter_case(string):\n",
    "    # Initialize an empty string to store the output\n",
    "    output_str = ''\n",
    "    \n",
    "    # Iterate through each character in the string\n",
    "    for i in string:\n",
    "        # Check if the character is an alphabet\n",
    "        if i.isalpha():\n",
    "            # If it's an alphabet, check if it's in uppercase using the upper_case_letter function\n",
    "            if upper_case_letter(i):\n",
    "                # If it's in uppercase, convert it to lowercase and add it to the output string\n",
    "                output_str += i.lower()               \n",
    "            else:\n",
    "                # If it's in lowercase, convert it to uppercase and add it to the output string\n",
    "                output_str += i.upper()\n",
    "        else:\n",
    "            # If it's not an alphabet, directly add it to the output string\n",
    "            output_str += i\n",
    "    \n",
    "    # Return the resulting string with swapped letter cases\n",
    "    return output_str\n",
    "\n",
    "# Call the function with the input string and print the result\n",
    "print(swap_letter_case(st))\n"
   ]
  },
  {
   "cell_type": "raw",
   "id": "e66e0cd6",
   "metadata": {},
   "source": [
    "29. Remove a specific word from a string."
   ]
  },
  {
   "cell_type": "code",
   "execution_count": 110,
   "id": "a317202c",
   "metadata": {},
   "outputs": [
    {
     "name": "stdout",
     "output_type": "stream",
     "text": [
      "('input string :', 'remove a specific word from a string', 'word to remove :', 'specific', 'output string :', 'remove a word from a string')\n"
     ]
    }
   ],
   "source": [
    "def remove_specific_word(string, word):\n",
    "    # Convert the input string to lowercase and split it into a list of words\n",
    "    input_str = string.lower().split()\n",
    "    \n",
    "    # Convert the word to be removed to lowercase\n",
    "    input_word = word.lower()\n",
    "    \n",
    "    # Initialize an empty string to store the output\n",
    "    output_str = ''\n",
    "    \n",
    "    # Iterate through each word in the list\n",
    "    for i in input_str:\n",
    "        # Check if the word is not the word to be removed\n",
    "        if i != input_word:\n",
    "            # If it's not the word to be removed, add it to the output string\n",
    "            output_str += ' ' + i\n",
    "    \n",
    "    # Return the formatted result with the input string, word to remove, and output string\n",
    "    return 'input string :', string.lower(), 'word to remove :', input_word, 'output string :', output_str.strip()\n",
    "\n",
    "# Call the function with the input string and word, and print the result\n",
    "print(remove_specific_word('Remove a specific word from a string', 'specific'))\n"
   ]
  },
  {
   "cell_type": "raw",
   "id": "4dd29049",
   "metadata": {},
   "source": [
    "30. Check if a string is a valid email address.\n",
    "sources:\n",
    "1. https://www.geeksforgeeks.org/check-if-email-address-valid-or-not-in-python/\n",
    "2. https://www.abstractapi.com/guides/how-to-validate-an-email-address-in-python"
   ]
  },
  {
   "cell_type": "code",
   "execution_count": 135,
   "id": "93d0b5d7",
   "metadata": {},
   "outputs": [
    {
     "name": "stdout",
     "output_type": "stream",
     "text": [
      "Eneter the meail to validate :tstemail.com\n",
      "tstemail.com is not valid email address\n"
     ]
    }
   ],
   "source": [
    "import re\n",
    "\n",
    "def is_valid_check(email):\n",
    "    # Define a regular expression pattern for validating email addresses\n",
    "    pat = r'\\b[A-Za-z0-9._%+-]+@[A-Za-z0-9.-]+\\.[A-Z|a-z]{2,7}\\b'\n",
    "    \n",
    "    if re.match(pat,email):\n",
    "        return True\n",
    "    else:\n",
    "        return False\n",
    "    \n",
    "# User input\n",
    "email = input('Eneter the meail to validate :')\n",
    "\n",
    "# calling the funstion and print the result\n",
    "if is_valid_check(email):\n",
    "    print(f'{email} is valid email address')    \n",
    "else:\n",
    "    print(f'{email} is not valid email address')   \n",
    "    "
   ]
  },
  {
   "cell_type": "raw",
   "id": "5aeca00e",
   "metadata": {},
   "source": [
    "31. Extract the username from an email address string."
   ]
  },
  {
   "cell_type": "code",
   "execution_count": 111,
   "id": "a1f316c0",
   "metadata": {},
   "outputs": [
    {
     "name": "stdout",
     "output_type": "stream",
     "text": [
      "pws\n"
     ]
    }
   ],
   "source": [
    "def ext_user_nm_email(string):\n",
    "    # Split the string at the '@' symbol and get the substring before it as the user name\n",
    "    user_nm = string.split('@')[0]\n",
    "    return user_nm\n",
    "\n",
    "# Call the function with the email string and print the result\n",
    "print(ext_user_nm_email('pws@email.com'))\n"
   ]
  },
  {
   "cell_type": "raw",
   "id": "66047cd6",
   "metadata": {},
   "source": [
    "32. Extract the domain name from an email address string."
   ]
  },
  {
   "cell_type": "code",
   "execution_count": 44,
   "id": "2368ecaf",
   "metadata": {},
   "outputs": [
    {
     "data": {
      "text/plain": [
       "'email.com'"
      ]
     },
     "execution_count": 44,
     "metadata": {},
     "output_type": "execute_result"
    }
   ],
   "source": [
    "def ext_domain_nm_email(string):\n",
    "    # Split the string at the '@' symbol and get the substring after it as the domain name\n",
    "    domain_nm = string.split('@')[1]\n",
    "    return domain_nm\n",
    "\n",
    "# Call the function with the email string and print the result\n",
    "print(ext_domain_nm_email('pws@email.com'))\n"
   ]
  },
  {
   "cell_type": "raw",
   "id": "efec0ce6",
   "metadata": {},
   "source": [
    "33. Replace multiple spaces in a string with a single space"
   ]
  },
  {
   "cell_type": "code",
   "execution_count": 45,
   "id": "39be4d15",
   "metadata": {},
   "outputs": [
    {
     "data": {
      "text/plain": [
       "('input string:', 'pw  skills portal', 'output string', 'pw skills portal')"
      ]
     },
     "execution_count": 45,
     "metadata": {},
     "output_type": "execute_result"
    }
   ],
   "source": [
    "def replace_multi_spaces(string):\n",
    "    # Replace multiple spaces with a single space in the string\n",
    "    output_str = string.replace('  ', ' ')\n",
    "    return 'input string:', string, 'output string', output_str\n",
    "\n",
    "# Call the function with the input string and print the result\n",
    "print(replace_multi_spaces('pw  skills portal'))\n"
   ]
  },
  {
   "cell_type": "raw",
   "id": "06527e7f",
   "metadata": {},
   "source": [
    "34. Check if a string is a valid URL.\n",
    "Resources:\n",
    "1. https://www.slingacademy.com/article/python-ways-to-check-if-a-string-is-a-valid-url/\n",
    "2. https://www.geeksforgeeks.org/check-if-an-url-is-valid-or-not-using-regular-expression/\n",
    "3. https://www.codespeedy.com/check-if-a-string-is-a-valid-url-or-not-in-python/"
   ]
  },
  {
   "cell_type": "code",
   "execution_count": 46,
   "id": "ca878e6c",
   "metadata": {},
   "outputs": [
    {
     "name": "stdout",
     "output_type": "stream",
     "text": [
      "Yes, it is a valid URL\n"
     ]
    }
   ],
   "source": [
    "# !pip install validators\n",
    "# Import the validators module\n",
    "import validators\n",
    "\n",
    "# Define a function to validate a URL\n",
    "def validate_url(string):\n",
    "    # Check if the provided string is a valid URL using validators.url\n",
    "    url_validate = validators.url(string)\n",
    "    if url_validate == True:\n",
    "        print('Yes, it is a valid URL')\n",
    "    else:\n",
    "        print('No, it is not a valid URL')\n",
    "\n",
    "# Call the function with the URL and print the result\n",
    "validate_url('https://www.codespeedy.com/check-if-a-string-is-a-valid-url-or-not-in-python/')\n"
   ]
  },
  {
   "cell_type": "raw",
   "id": "733f27b4",
   "metadata": {},
   "source": [
    "35. Extract the protocol (http or https) from a URL string."
   ]
  },
  {
   "cell_type": "code",
   "execution_count": 47,
   "id": "fe4770f5",
   "metadata": {},
   "outputs": [
    {
     "data": {
      "text/plain": [
       "('URL protocol :', 'https')"
      ]
     },
     "execution_count": 47,
     "metadata": {},
     "output_type": "execute_result"
    }
   ],
   "source": [
    "def extract_url_protocol(url):\n",
    "    # Split the URL at '://' and get the substring before it as the URL protocol\n",
    "    url_protocol = url.split('://')[0]\n",
    "    return 'URL protocol :', url_protocol\n",
    "\n",
    "# Call the function with the URL and print the result\n",
    "print(extract_url_protocol(\"https://www.codespeedy.com/check-if-a-string-is-a-valid-url-or-not-in-python/\"))\n"
   ]
  },
  {
   "cell_type": "raw",
   "id": "ab03ace2",
   "metadata": {},
   "source": [
    "36. Find the frequency of each character in a string."
   ]
  },
  {
   "cell_type": "code",
   "execution_count": 112,
   "id": "d3d982bb",
   "metadata": {},
   "outputs": [
    {
     "name": "stdout",
     "output_type": "stream",
     "text": [
      "{'f': 3, 'i': 3, 'n': 4, 'd': 1, ' ': 8, 't': 3, 'h': 3, 'e': 5, 'r': 4, 'q': 1, 'u': 1, 'c': 4, 'y': 1, 'o': 1, 'a': 4, 's': 1, 'g': 1, '.': 1}\n"
     ]
    }
   ],
   "source": [
    "def freq_of_character(string):\n",
    "    # Convert the string to lowercase\n",
    "    st_lower = string.lower()\n",
    "    \n",
    "    # Initialize an empty dictionary to store character frequencies\n",
    "    list_char = {}\n",
    "    \n",
    "    # Iterate through each character in the lowercase string\n",
    "    for i in st_lower:\n",
    "        # If the character is already in the dictionary, increment its count\n",
    "        if i in list_char:\n",
    "            list_char[i] += 1\n",
    "        # If the character is not in the dictionary, add it with a count of 1\n",
    "        else:\n",
    "            list_char[i] = 1\n",
    "    \n",
    "    # Return the dictionary containing the frequencies of each character\n",
    "    return list_char\n",
    "\n",
    "# Call the function with the input string and print the result\n",
    "print(freq_of_character('Find the frequency of each character in a string.'))\n"
   ]
  },
  {
   "cell_type": "raw",
   "id": "1c9691de",
   "metadata": {},
   "source": [
    "37. Remove all punctuation from a string.\n",
    "1. https://www.geeksforgeeks.org/string-punctuation-in-python/ -- list punctuations"
   ]
  },
  {
   "cell_type": "code",
   "execution_count": 49,
   "id": "550ac856",
   "metadata": {},
   "outputs": [
    {
     "data": {
      "text/plain": [
       "'hello pwskills How are you doing'"
      ]
     },
     "execution_count": 49,
     "metadata": {},
     "output_type": "execute_result"
    }
   ],
   "source": [
    "import string\n",
    "\n",
    "# Get the list of all punctuation characters\n",
    "list_punc = string.punctuation\n",
    "\n",
    "# Function to remove all punctuation from a string\n",
    "def remove_all_punctuation(string):\n",
    "    # Iterate through each punctuation character in the list\n",
    "    for i in list_punc:\n",
    "        # Check if the punctuation character is present in the string\n",
    "        if i in list_punc:\n",
    "            # Replace the punctuation character with an empty string\n",
    "            string = string.replace(i, '')\n",
    "    return string\n",
    "\n",
    "# Call the function with the input string and print the result\n",
    "print(remove_all_punctuation('hello, pwsk\"ills. How are you doing!.'))\n"
   ]
  },
  {
   "cell_type": "raw",
   "id": "b01b719d",
   "metadata": {},
   "source": [
    "38. Check if a string contains only digits."
   ]
  },
  {
   "cell_type": "code",
   "execution_count": 50,
   "id": "5fd77e07",
   "metadata": {},
   "outputs": [
    {
     "name": "stdout",
     "output_type": "stream",
     "text": [
      "Yes, string contains only digits\n"
     ]
    }
   ],
   "source": [
    "def check_digits(string):\n",
    "    # Check if the entire string consists only of digits using isdigit\n",
    "    if string.isdigit():\n",
    "        print('Yes, string contains only digits')\n",
    "    else:\n",
    "        print('No, string contains other letters as well')\n",
    "\n",
    "# Call the function with the input string and print the result\n",
    "check_digits('1234')\n"
   ]
  },
  {
   "cell_type": "raw",
   "id": "220b5762",
   "metadata": {},
   "source": [
    "39. Check if a string contains only alphabets."
   ]
  },
  {
   "cell_type": "code",
   "execution_count": 113,
   "id": "58c2b2df",
   "metadata": {},
   "outputs": [
    {
     "name": "stdout",
     "output_type": "stream",
     "text": [
      "No, string contains other letters as well\n"
     ]
    }
   ],
   "source": [
    "def check_alphabets(string):\n",
    "    # Check if the entire string consists only of alphabetic characters using isalpha\n",
    "    if string.isalpha():\n",
    "        print('Yes, string contains only alphabets')\n",
    "    else:\n",
    "        print('No, string contains other letters as well')\n",
    "\n",
    "# Call the function with the input string and print the result\n",
    "check_alphabets('pwskills@123')"
   ]
  },
  {
   "cell_type": "raw",
   "id": "3fa11641",
   "metadata": {},
   "source": [
    "40. Convert a string to a list of characters."
   ]
  },
  {
   "cell_type": "code",
   "execution_count": 52,
   "id": "1885bab5",
   "metadata": {},
   "outputs": [
    {
     "name": "stdout",
     "output_type": "stream",
     "text": [
      "input string : Convert a string to a list of characters.\n",
      "output list : ['C', 'o', 'n', 'v', 'e', 'r', 't', ' ', 'a', ' ', 's', 't', 'r', 'i', 'n', 'g', ' ', 't', 'o', ' ', 'a', ' ', 'l', 'i', 's', 't', ' ', 'o', 'f', ' ', 'c', 'h', 'a', 'r', 'a', 'c', 't', 'e', 'r', 's', '.']\n"
     ]
    }
   ],
   "source": [
    "def str_to_list_char(string):\n",
    "    # Print the input string\n",
    "    print('input string :', string)\n",
    "    \n",
    "    # Initialize an empty list to store characters\n",
    "    list_char = []\n",
    "    \n",
    "    # Iterate through each character in the string and append it to the list\n",
    "    for i in string:\n",
    "        list_char.append(i)\n",
    "    \n",
    "    # Print the resulting list of characters\n",
    "    print('output list :', list_char)\n",
    "\n",
    "# Call the function with the input string and print the result\n",
    "str_to_list_char('Convert a string to a list of characters.')\n"
   ]
  },
  {
   "cell_type": "raw",
   "id": "1cb381b5",
   "metadata": {},
   "source": [
    "41. Check if two strings are anagrams.\n",
    "sources:\n",
    "1. https://www.geeksforgeeks.org/python-sorted-check-two-strings-anagram-not/"
   ]
  },
  {
   "cell_type": "code",
   "execution_count": 53,
   "id": "b5a97311",
   "metadata": {},
   "outputs": [
    {
     "name": "stdout",
     "output_type": "stream",
     "text": [
      "input string 1: silent\n",
      "input string 2: listen\n",
      "Yes, two strings are anagrams\n"
     ]
    }
   ],
   "source": [
    "def check_anagrams(str1, str2):\n",
    "    # Print the first input string\n",
    "    print('input string 1:', str1)\n",
    "    \n",
    "    # Print the second input string\n",
    "    print('input string 2:', str2)\n",
    "    \n",
    "    # Sort the characters in both input strings\n",
    "    input_str1 = sorted(str1)\n",
    "    input_str2 = sorted(str2)\n",
    "    \n",
    "    # Check if the sorted strings are equal to determine whether they are anagrams\n",
    "    if input_str1 == input_str2:\n",
    "        print('Yes, the two strings are anagrams')\n",
    "    else:\n",
    "        print('No, the two strings are not anagrams')\n",
    "\n",
    "# Call the function with the input strings and print the result\n",
    "check_anagrams('silent', 'listen')\n"
   ]
  },
  {
   "cell_type": "raw",
   "id": "1f0909fb",
   "metadata": {},
   "source": [
    "42. Encode a string using a Caesar cipher.\n",
    "sources:\n",
    "1. https://www.geeksforgeeks.org/caesar-cipher-in-cryptography/\n",
    "2. https://www.tutorialspoint.com/cryptography_with_python/cryptography_with_python_caesar_cipher.htm\n",
    "3. https://www.scaler.com/topics/caesar-cipher-python/"
   ]
  },
  {
   "cell_type": "code",
   "execution_count": 54,
   "id": "7358e67d",
   "metadata": {},
   "outputs": [
    {
     "name": "stdout",
     "output_type": "stream",
     "text": [
      "input string : Encode a string using a Caesar cipher\n",
      "encoded string : Jshtij f xywnsl zxnsl f Hfjxfw hnumjw\n"
     ]
    }
   ],
   "source": [
    "def strig_encode(string, shift):\n",
    "    # Print the input string\n",
    "    print('input string :', string)\n",
    "    \n",
    "    # Initialize an empty string to store the encoded result\n",
    "    result = ''\n",
    "    \n",
    "    # Iterate through each character in the string\n",
    "    for i in string:\n",
    "        # Check if the character is uppercase\n",
    "        if i.isupper():\n",
    "            # Apply the Caesar cipher shift for uppercase letters\n",
    "            result += chr((ord(i) + shift - 65) % 26 + 65)\n",
    "        # Check if the character is lowercase\n",
    "        elif i.islower():\n",
    "            # Apply the Caesar cipher shift for lowercase letters\n",
    "            result += chr((ord(i) + shift - 97) % 26 + 97)\n",
    "        else:\n",
    "            # If the character is not a letter, add it as is\n",
    "            result += i\n",
    "    \n",
    "    # Print the encoded string\n",
    "    print('encoded string :', result)\n",
    "\n",
    "# Call the function with the input string and the shift value\n",
    "strig_encode('Encode a string using a Caesar cipher', 5)        \n"
   ]
  },
  {
   "cell_type": "raw",
   "id": "2e00f46a",
   "metadata": {},
   "source": [
    "43. Decode a Caesar cipher encoded string."
   ]
  },
  {
   "cell_type": "code",
   "execution_count": 55,
   "id": "1e4c6cb1",
   "metadata": {},
   "outputs": [
    {
     "name": "stdout",
     "output_type": "stream",
     "text": [
      "input string : Jshtij f xywnsl zxnsl f Hfjxfw hnumjw\n",
      "encoded string : Encode a string using a Caesar cipher\n"
     ]
    }
   ],
   "source": [
    "def strig_decode(string, shift):\n",
    "    # Print the input string\n",
    "    print('input string :', string)\n",
    "    \n",
    "    # Initialize an empty string to store the decoded result\n",
    "    result = ''\n",
    "    \n",
    "    # Iterate through each character in the string\n",
    "    for i in string:\n",
    "        # Check if the character is uppercase\n",
    "        if i.isupper():\n",
    "            # Apply the reverse Caesar cipher shift for uppercase letters\n",
    "            result += chr((ord(i) - shift - 65) % 26 + 65)\n",
    "        # Check if the character is lowercase\n",
    "        elif i.islower():\n",
    "            # Apply the reverse Caesar cipher shift for lowercase letters\n",
    "            result += chr((ord(i) - shift - 97) % 26 + 97)\n",
    "        else:\n",
    "            # If the character is not a letter, add it as is\n",
    "            result += i\n",
    "    \n",
    "    # Print the decoded string\n",
    "    print('decoded string :', result)\n",
    "\n",
    "# Call the function with the input string and the shift value\n",
    "strig_decode('Jshtij f xywnsl zxnsl f Hfjxfw hnumjw', 5)\n"
   ]
  },
  {
   "cell_type": "raw",
   "id": "2caa341a",
   "metadata": {},
   "source": [
    "44. Find the most frequent word in a string."
   ]
  },
  {
   "cell_type": "code",
   "execution_count": 146,
   "id": "8eb0e070",
   "metadata": {},
   "outputs": [
    {
     "name": "stdout",
     "output_type": "stream",
     "text": [
      "Input string: Bob hit a ball, the hit BALL flew far after it was hit\n",
      "Most frequent word: hit\n",
      "Frequency of the word: 3\n"
     ]
    }
   ],
   "source": [
    "def find_most_freq_word(string):\n",
    "    # Convert the string to lowercase and split it into words\n",
    "    lst_words = string.lower().split()\n",
    "\n",
    "    # Create a set of unique words from the list\n",
    "    unique_lst_words = list(set(lst_words))\n",
    "\n",
    "    # Initialize variables for tracking the most frequent word\n",
    "    max_freq = 0\n",
    "    most_freq_word = ''\n",
    "\n",
    "    # Iterate through unique words and find the most frequent word\n",
    "    for word in unique_lst_words:\n",
    "        cnt = lst_words.count(word)\n",
    "        if cnt > max_freq:\n",
    "            max_freq = cnt\n",
    "            most_freq_word = word\n",
    "\n",
    "    return max_freq, most_freq_word\n",
    "\n",
    "# User input\n",
    "string = 'Bob hit a ball, the hit BALL flew far after it was hit'\n",
    "print('Input string:', string)\n",
    "\n",
    "# Call the function and print the result\n",
    "frequency, most_frequent_word = find_most_freq_word(string)\n",
    "\n",
    "print('Most frequent word:', most_frequent_word)\n",
    "print('Frequency of the word:', frequency) \n"
   ]
  },
  {
   "cell_type": "raw",
   "id": "5609f99c",
   "metadata": {},
   "source": [
    "45. Find all unique words in a string."
   ]
  },
  {
   "cell_type": "code",
   "execution_count": 138,
   "id": "d5b341bc",
   "metadata": {},
   "outputs": [
    {
     "name": "stdout",
     "output_type": "stream",
     "text": [
      "Input string:  Create a function to find the unique words in a string\n",
      "List of unique words: ['function', 'words', 'create', 'to', 'find', 'a', 'in', 'the', 'unique', 'string']\n"
     ]
    }
   ],
   "source": [
    "# Create a function to find the unique words in a string\n",
    "def find_unique_words(string):\n",
    "    \n",
    "    # Converting the string to a list of words in lowercase\n",
    "    list_words = string.lower().split()\n",
    "    \n",
    "    # Extracting unique words from the list\n",
    "    unique_words = list(set(list_words))\n",
    "    \n",
    "    return unique_words\n",
    "\n",
    "# user input to the function\n",
    "string = 'Create a function to find the unique words in a string'\n",
    "print('Input string: ', string)\n",
    "\n",
    "# Call the function and print the result\n",
    "result = find_unique_words(string)\n",
    "print('List of unique words:', result)    "
   ]
  },
  {
   "cell_type": "raw",
   "id": "36e38a18",
   "metadata": {},
   "source": [
    "46. Count the number of syllables in a string."
   ]
  },
  {
   "cell_type": "code",
   "execution_count": null,
   "id": "beb802b9",
   "metadata": {},
   "outputs": [],
   "source": []
  },
  {
   "cell_type": "raw",
   "id": "c4a6f632",
   "metadata": {},
   "source": [
    "47. Check if a string contains any special characters.\n",
    "sources:\n",
    "1. https://www.geeksforgeeks.org/python-program-check-string-contains-special-character/"
   ]
  },
  {
   "cell_type": "code",
   "execution_count": 154,
   "id": "9a0240db",
   "metadata": {},
   "outputs": [
    {
     "name": "stdout",
     "output_type": "stream",
     "text": [
      "Yes, the string contains special characters.\n"
     ]
    }
   ],
   "source": [
    "# Define the set of special characters\n",
    "special_characters = '[@_!#$%^&*()<>?/\\|}{~:]'\n",
    "\n",
    "# Function to check if a string contains any special characters\n",
    "def check_any_special_char(string):\n",
    "    # Convert the string to lowercase for case-insensitive comparison\n",
    "    string = string.lower()\n",
    "    \n",
    "    # Iterate through each character in the string\n",
    "    for char in string:\n",
    "        # Check if the character is in the set of special characters\n",
    "        if char in special_characters:\n",
    "            return True\n",
    "    return False\n",
    "\n",
    "# Example usage\n",
    "result = check_any_special_char('HelloWorld!')\n",
    "\n",
    "# Print the result based on whether the string contains any special characters\n",
    "if result:\n",
    "    print('Yes, the string contains special characters.')\n",
    "else:\n",
    "    print(\"No, the string doesn't have any special characters.\")\n"
   ]
  },
  {
   "cell_type": "raw",
   "id": "5da7d1f2",
   "metadata": {},
   "source": [
    "48. Remove the nth word from a string."
   ]
  },
  {
   "cell_type": "code",
   "execution_count": 198,
   "id": "1fc38dc5",
   "metadata": {},
   "outputs": [
    {
     "name": "stdout",
     "output_type": "stream",
     "text": [
      "Original string: This is an example string for testing\n",
      "String after removing the 3th word: This is example string for testing\n"
     ]
    }
   ],
   "source": [
    "def remove_nth_word(string, n):\n",
    "    # Split the string into a list of words\n",
    "    words = string.split()\n",
    "    \n",
    "    # Check if the value of n is within the range of the list\n",
    "    if n > 0 and n <= len(words):\n",
    "        # Remove the nth word using list slicing\n",
    "        del words[n - 1]\n",
    "        # Join the words back into a string\n",
    "        new_string = ' '.join(words)\n",
    "        return new_string\n",
    "    else:\n",
    "        return \"Invalid value of n\"\n",
    "\n",
    "# Example usage\n",
    "string = \"This is an example string for testing\"\n",
    "n = 3\n",
    "new_string = remove_nth_word(string, n)\n",
    "print(\"Original string:\", string)\n",
    "print(f\"String after removing the {n}th word:\", new_string)\n"
   ]
  },
  {
   "cell_type": "raw",
   "id": "b0bac1f0",
   "metadata": {},
   "source": [
    "49. Insert a word at the nth position in a string."
   ]
  },
  {
   "cell_type": "code",
   "execution_count": 203,
   "id": "22c4d0e4",
   "metadata": {},
   "outputs": [
    {
     "name": "stdout",
     "output_type": "stream",
     "text": [
      "Original string: This is an example string for testing\n",
      "String after removing the 3th word: This is pwskills an example string for testing\n"
     ]
    }
   ],
   "source": [
    "def insert_nth_word(string, word, n):\n",
    "    # Split the string into a list of words\n",
    "    words = string.split()\n",
    "    \n",
    "    # Check if the value of n is within the range of the list\n",
    "    if n > 0 and n <= len(words):\n",
    "        # Remove the nth word using list slicing\n",
    "        words.insert(n - 1,word)\n",
    "        # Join the words back into a string\n",
    "        new_string = ' '.join(words)\n",
    "        return new_string\n",
    "    else:\n",
    "        return \"Invalid value of n\"\n",
    "\n",
    "# Example usage\n",
    "string = \"This is an example string for testing\"\n",
    "word = 'pwskills'\n",
    "n = 3\n",
    "new_string = insert_nth_word(string,word, n)\n",
    "print(\"Original string:\", string)\n",
    "print(f\"String after removing the {n}th word:\", new_string)"
   ]
  },
  {
   "cell_type": "raw",
   "id": "f8b713f7",
   "metadata": {},
   "source": [
    "50. Convert a CSV string to a list of lists.\n",
    "sources:\n",
    "    1. https://www.geeksforgeeks.org/read-a-csv-into-list-of-lists-in-python/"
   ]
  },
  {
   "cell_type": "code",
   "execution_count": 204,
   "id": "578f056a",
   "metadata": {},
   "outputs": [
    {
     "name": "stdout",
     "output_type": "stream",
     "text": [
      "CSV List:\n",
      "['1', '2', '3']\n",
      "['4', '5', '6']\n",
      "['7', '8', '9']\n"
     ]
    }
   ],
   "source": []
  },
  {
   "cell_type": "markdown",
   "id": "d9fc4db0",
   "metadata": {},
   "source": [
    "### List Based Practice Problem :"
   ]
  },
  {
   "cell_type": "raw",
   "id": "6db719e4",
   "metadata": {},
   "source": [
    "1. Create a list with integers from 1 to 10."
   ]
  },
  {
   "cell_type": "code",
   "execution_count": 114,
   "id": "88d5784e",
   "metadata": {},
   "outputs": [
    {
     "name": "stdout",
     "output_type": "stream",
     "text": [
      "[1, 2, 3, 4, 5, 6, 7, 8, 9, 10]\n"
     ]
    }
   ],
   "source": [
    "# Initialize an empty list\n",
    "my_list = []\n",
    "\n",
    "# Use a for loop to iterate over the range from 1 to 10 (inclusive)\n",
    "for i in range(1, 11):\n",
    "    # Append each number in the range to the list\n",
    "    my_list.append(i)\n",
    "\n",
    "# Print the list\n",
    "print(my_list)\n"
   ]
  },
  {
   "cell_type": "raw",
   "id": "bc22e01d",
   "metadata": {},
   "source": [
    "2. Find the length of a list without using the `len()` function."
   ]
  },
  {
   "cell_type": "code",
   "execution_count": 58,
   "id": "d72a9354",
   "metadata": {},
   "outputs": [
    {
     "name": "stdout",
     "output_type": "stream",
     "text": [
      "lenth of list will be : 8\n"
     ]
    }
   ],
   "source": [
    "def len_list(in_list):\n",
    "    # Initialize a counter variable\n",
    "    cnt = 0\n",
    "    \n",
    "    # Iterate through each element in the input list\n",
    "    for i in in_list:\n",
    "        # Increment the counter for each element\n",
    "        cnt += 1\n",
    "    \n",
    "    # Print the length of the list\n",
    "    print('length of the list will be:', cnt)\n",
    "\n",
    "# Call the function with an example list and print the result\n",
    "len_list([1, 2, 3, 4, 5, 6, 77, 78])\n"
   ]
  },
  {
   "cell_type": "raw",
   "id": "4f432730",
   "metadata": {},
   "source": [
    "3. Append an element to the end of a list."
   ]
  },
  {
   "cell_type": "code",
   "execution_count": 59,
   "id": "56f56e44",
   "metadata": {},
   "outputs": [
    {
     "name": "stdout",
     "output_type": "stream",
     "text": [
      "before append an element : [1, 3, 4, 5, 6]\n",
      "after append an element : [1, 3, 4, 5, 6, 7]\n"
     ]
    }
   ],
   "source": [
    "# Create a list with initial elements\n",
    "l = [1, 3, 4, 5, 6]\n",
    "\n",
    "# Print the list before appending an element\n",
    "print('before append an element:', l)\n",
    "\n",
    "# Append the element 7 to the list\n",
    "l.append(7)\n",
    "\n",
    "# Print the list after appending the element\n",
    "print('after append an element:', l)\n"
   ]
  },
  {
   "cell_type": "raw",
   "id": "83ac321d",
   "metadata": {},
   "source": [
    "4. Insert an element at a specific index in a list."
   ]
  },
  {
   "cell_type": "code",
   "execution_count": 60,
   "id": "40c9078a",
   "metadata": {},
   "outputs": [
    {
     "name": "stdout",
     "output_type": "stream",
     "text": [
      "before insert an element : [1, 3, 4, 5, 6]\n",
      "after insert an element : [1, 2, 3, 4, 5, 6]\n"
     ]
    }
   ],
   "source": [
    "# Create a list with initial elements\n",
    "l = [1, 3, 4, 5, 6]\n",
    "\n",
    "# Print the list before inserting an element\n",
    "print('before insert an element:', l)\n",
    "\n",
    "# Insert the element 2 at the second position in the list\n",
    "l.insert(1, 2)\n",
    "\n",
    "# Print the list after inserting the element\n",
    "print('after insert an element:', l)\n"
   ]
  },
  {
   "cell_type": "raw",
   "id": "0ee225ef",
   "metadata": {},
   "source": [
    "5. Remove an element from a list by its value."
   ]
  },
  {
   "cell_type": "code",
   "execution_count": 61,
   "id": "5b2d4844",
   "metadata": {},
   "outputs": [
    {
     "name": "stdout",
     "output_type": "stream",
     "text": [
      "before remove an element : [1, 3, 4, 5, 6]\n",
      "after remove an element : [1, 4, 5, 6]\n"
     ]
    }
   ],
   "source": [
    "# Create a list with initial elements\n",
    "l = [1, 3, 4, 5, 6]\n",
    "\n",
    "# Print the list before removing an element\n",
    "print('before remove an element:', l)\n",
    "\n",
    "# Remove the element 3 from the list using the remove method\n",
    "l.remove(3)\n",
    "\n",
    "# Print the list after removing the element\n",
    "print('after remove an element:', l)\n"
   ]
  },
  {
   "cell_type": "raw",
   "id": "d0a182ab",
   "metadata": {},
   "source": [
    "6. Remove an element from a list by its index."
   ]
  },
  {
   "cell_type": "code",
   "execution_count": 62,
   "id": "4a9159a9",
   "metadata": {},
   "outputs": [
    {
     "name": "stdout",
     "output_type": "stream",
     "text": [
      "before remove an element : [1, 3, 4, 5, 6]\n",
      "after remove an element : [1, 3, 5, 6]\n"
     ]
    }
   ],
   "source": [
    "# Create a list with initial elements\n",
    "l = [1, 3, 4, 5, 6]\n",
    "\n",
    "# Print the list before removing an element\n",
    "print('before remove an element:', l)\n",
    "\n",
    "# Remove the element at the specified index 2 from the list using the pop method\n",
    "l.pop(2)\n",
    "\n",
    "# Print the list after removing the element\n",
    "print('after remove an element:', l)\n"
   ]
  },
  {
   "cell_type": "raw",
   "id": "02037041",
   "metadata": {},
   "source": [
    "7. Check if an element exists in a list."
   ]
  },
  {
   "cell_type": "code",
   "execution_count": 115,
   "id": "f8210cc3",
   "metadata": {},
   "outputs": [
    {
     "name": "stdout",
     "output_type": "stream",
     "text": [
      "list : [1, 2, 3, 4, 6, 7, 8]\n",
      "element : 3\n",
      "Yes, the element exists in the list\n"
     ]
    }
   ],
   "source": [
    "def check_element_in_list(l, e):\n",
    "    # Print the input list\n",
    "    print('list :', l)\n",
    "    \n",
    "    # Print the input element\n",
    "    print('element :', e)\n",
    "    \n",
    "    # Check if the element exists in the list\n",
    "    if e in l:\n",
    "        print('Yes, the element exists in the list')\n",
    "    else:\n",
    "        print(\"No, the element doesn't exist in the list\")\n",
    "\n",
    "# Define a list and an element to check\n",
    "l = [1, 2, 3, 4, 6, 7, 8]\n",
    "e = 3\n",
    "\n",
    "# Call the function with the list and element and print the result\n",
    "check_element_in_list(l, e)"
   ]
  },
  {
   "cell_type": "raw",
   "id": "d2565e51",
   "metadata": {},
   "source": [
    "8. Find the index of the first occurrence of an element in a list."
   ]
  },
  {
   "cell_type": "code",
   "execution_count": 64,
   "id": "ed5baf52",
   "metadata": {},
   "outputs": [
    {
     "name": "stdout",
     "output_type": "stream",
     "text": [
      "index of 4 in the list is 3\n"
     ]
    }
   ],
   "source": [
    "# Define a list with some elements\n",
    "my_list = [1, 2, 3, 4, 5, 6, 4, 3, 6, 5, 2, 8, 9, 10, 15, 1]\n",
    "\n",
    "# Find the index of the first occurrence of the element 4 in the list\n",
    "index = my_list.index(4)\n",
    "\n",
    "# Print the index of the element 4 in the list\n",
    "print(f'index of 4 in the list is {index}')\n"
   ]
  },
  {
   "cell_type": "raw",
   "id": "4efad098",
   "metadata": {},
   "source": [
    "9. Count the occurrences of an element in a list."
   ]
  },
  {
   "cell_type": "code",
   "execution_count": 116,
   "id": "5a950874",
   "metadata": {},
   "outputs": [
    {
     "name": "stdout",
     "output_type": "stream",
     "text": [
      "count of 1 occurrences in the list: 2\n"
     ]
    }
   ],
   "source": [
    "# Define a list with some elements\n",
    "my_list = [1, 2, 3, 4, 5, 6, 4, 3, 6, 5, 2, 8, 9, 10, 15, 1, 4]\n",
    "\n",
    "# Define the element to count its occurrences in the list\n",
    "element = 1\n",
    "\n",
    "# Count the number of occurrences of the element in the list using the count method\n",
    "element_cnt = my_list.count(element)\n",
    "\n",
    "# Print the count of occurrences of the element in the list\n",
    "print(f'count of {element} occurrences in the list:', element_cnt)\n"
   ]
  },
  {
   "cell_type": "raw",
   "id": "3557f1a9",
   "metadata": {},
   "source": [
    "10. Reverse the order of elements in a list."
   ]
  },
  {
   "cell_type": "code",
   "execution_count": 66,
   "id": "4fed3b97",
   "metadata": {},
   "outputs": [
    {
     "name": "stdout",
     "output_type": "stream",
     "text": [
      "list : [1, 2, 3, 4, 5, 6, 4, 3, 6, 5, 2, 8, 9, 10, 15, 1, 4]\n",
      "reverse the list : [4, 1, 15, 10, 9, 8, 2, 5, 6, 3, 4, 6, 5, 4, 3, 2, 1]\n"
     ]
    }
   ],
   "source": [
    "# Define a list with some elements\n",
    "my_list = [1, 2, 3, 4, 5, 6, 4, 3, 6, 5, 2, 8, 9, 10, 15, 1, 4]\n",
    "\n",
    "# Create a reversed version of the list using slicing\n",
    "rev_my_list = my_list[::-1]\n",
    "\n",
    "# Print the original list\n",
    "print('list:', my_list)\n",
    "\n",
    "# Print the reversed list\n",
    "print('reverse the list:', rev_my_list)\n"
   ]
  },
  {
   "cell_type": "raw",
   "id": "87aef440",
   "metadata": {},
   "source": [
    "11. Sort a list in ascending order."
   ]
  },
  {
   "cell_type": "code",
   "execution_count": 117,
   "id": "1d2fc1c9",
   "metadata": {},
   "outputs": [
    {
     "name": "stdout",
     "output_type": "stream",
     "text": [
      "before sorting: [1, 4, 2, 6, 5, 8, 9, 2, 4, 5, 9, 10]\n",
      "after sorting: [1, 2, 2, 4, 4, 5, 5, 6, 8, 9, 9, 10]\n"
     ]
    }
   ],
   "source": [
    "# Define a list with some elements\n",
    "my_list = [1, 4, 2, 6, 5, 8, 9, 2, 4, 5, 9, 10]\n",
    "\n",
    "# Print the list before sorting\n",
    "print('before sorting:', my_list)\n",
    "\n",
    "# Sort the list in ascending order using the sort method\n",
    "my_list.sort()\n",
    "\n",
    "# Print the list after sorting\n",
    "print('after sorting:', my_list)\n"
   ]
  },
  {
   "cell_type": "raw",
   "id": "a01b52a7",
   "metadata": {},
   "source": [
    "12. Sort a list in descending order"
   ]
  },
  {
   "cell_type": "code",
   "execution_count": 255,
   "id": "43d90db0",
   "metadata": {},
   "outputs": [
    {
     "name": "stdout",
     "output_type": "stream",
     "text": [
      "before sorting: [1, 4, 2, 6, 5, 8, 9, 2, 4, 5, 9, 10]\n",
      "after sorting: [10, 9, 9, 8, 6, 5, 5, 4, 4, 2, 2, 1]\n"
     ]
    }
   ],
   "source": [
    "# Define a list with some elements\n",
    "my_list = [1, 4, 2, 6, 5, 8, 9, 2, 4, 5, 9, 10]\n",
    "\n",
    "# Print the list before sorting\n",
    "print('before sorting:', my_list)\n",
    "\n",
    "# Sort the list in descending order using the sort method with reverse=True argument\n",
    "my_list.sort(reverse=True)\n",
    "\n",
    "# Print the list after sorting\n",
    "print('after sorting:', my_list)"
   ]
  },
  {
   "cell_type": "raw",
   "id": "4c8be927",
   "metadata": {},
   "source": [
    "13. Create a list of even numbers from 1 to 20."
   ]
  },
  {
   "cell_type": "code",
   "execution_count": 69,
   "id": "cb8143d2",
   "metadata": {},
   "outputs": [
    {
     "name": "stdout",
     "output_type": "stream",
     "text": [
      "list of even numbers : [2, 4, 6, 8, 10, 12, 14, 16, 18, 20]\n"
     ]
    }
   ],
   "source": [
    "# Initialize an empty list to store even numbers\n",
    "even_num = []\n",
    "\n",
    "# Iterate through numbers from 1 to 20 (inclusive)\n",
    "for i in range(1, 21):\n",
    "    # Check if the number is even\n",
    "    if i % 2 == 0:\n",
    "        # Append the even number to the list\n",
    "        even_num.append(i)\n",
    "\n",
    "# Print the list of even numbers\n",
    "print('list of even numbers:', even_num)"
   ]
  },
  {
   "cell_type": "raw",
   "id": "62b1d1a5",
   "metadata": {},
   "source": [
    "14. Create a list of odd numbers from 1 to 20."
   ]
  },
  {
   "cell_type": "code",
   "execution_count": 70,
   "id": "cadf8ca4",
   "metadata": {},
   "outputs": [
    {
     "name": "stdout",
     "output_type": "stream",
     "text": [
      "list of even numbers : [1, 3, 5, 7, 9, 11, 13, 15, 17, 19]\n"
     ]
    }
   ],
   "source": [
    "# Initialize an empty list to store odd numbers\n",
    "odd_num = []\n",
    "\n",
    "# Iterate through numbers from 1 to 20 (inclusive)\n",
    "for i in range(1, 21):\n",
    "    # Check if the number is odd\n",
    "    if i % 2 != 0:\n",
    "        # Append the odd number to the list\n",
    "        odd_num.append(i)\n",
    "\n",
    "# Print the list of odd numbers\n",
    "print('list of odd numbers:', odd_num)\n"
   ]
  },
  {
   "cell_type": "raw",
   "id": "c4d1da80",
   "metadata": {},
   "source": [
    "15. Find the sum of all elements in a list."
   ]
  },
  {
   "cell_type": "code",
   "execution_count": 71,
   "id": "9b9210b2",
   "metadata": {},
   "outputs": [
    {
     "name": "stdout",
     "output_type": "stream",
     "text": [
      "110\n"
     ]
    }
   ],
   "source": [
    "# Define a list of numbers\n",
    "my_list = [2, 4, 6, 8, 10, 12, 14, 16, 18, 20]\n",
    "\n",
    "# Calculate the sum of all elements in the list using the sum function\n",
    "list_sum = sum(my_list)\n",
    "\n",
    "# Print the sum of the elements in the list\n",
    "print(list_sum)\n"
   ]
  },
  {
   "cell_type": "raw",
   "id": "3a855892",
   "metadata": {},
   "source": [
    "16. Find the maximum value in a list."
   ]
  },
  {
   "cell_type": "code",
   "execution_count": 119,
   "id": "9f4ca526",
   "metadata": {},
   "outputs": [
    {
     "name": "stdout",
     "output_type": "stream",
     "text": [
      "20\n"
     ]
    }
   ],
   "source": [
    "# Define a list of numbers\n",
    "my_list = [2, 4, 6, 8, 10, 12, 14, 16, 18, 20]\n",
    "\n",
    "# Find the maximum value in the list using the max function\n",
    "max_value = max(my_list)\n",
    "\n",
    "# Print the maximum value in the list\n",
    "print(max_value)\n"
   ]
  },
  {
   "cell_type": "raw",
   "id": "e4da1309",
   "metadata": {},
   "source": [
    "17. Find the minimum value in a list."
   ]
  },
  {
   "cell_type": "code",
   "execution_count": 73,
   "id": "02c4171f",
   "metadata": {},
   "outputs": [
    {
     "name": "stdout",
     "output_type": "stream",
     "text": [
      "2\n"
     ]
    }
   ],
   "source": [
    "# Define a list of numbers\n",
    "my_list = [2, 4, 6, 8, 10, 12, 14, 16, 18, 20]\n",
    "\n",
    "# Find the minimum value in the list using the min function\n",
    "min_value = min(my_list)\n",
    "\n",
    "# Print the minimum value in the list\n",
    "print(min_value)"
   ]
  },
  {
   "cell_type": "raw",
   "id": "97855832",
   "metadata": {},
   "source": [
    "18. Create a list of squares of numbers from 1 to 10."
   ]
  },
  {
   "cell_type": "code",
   "execution_count": 74,
   "id": "c49d4881",
   "metadata": {},
   "outputs": [
    {
     "name": "stdout",
     "output_type": "stream",
     "text": [
      "[1, 4, 9, 16, 25, 36, 49, 64, 81, 100]\n"
     ]
    }
   ],
   "source": [
    "# Initialize an empty list\n",
    "l = []\n",
    "\n",
    "# Iterate through numbers from 1 to 10 (inclusive) and append their squares to the list\n",
    "for i in range(1, 11):\n",
    "    l.append(i**2)\n",
    "\n",
    "# Print the list of squares\n",
    "print(l)"
   ]
  },
  {
   "cell_type": "raw",
   "id": "731807cb",
   "metadata": {},
   "source": [
    "19. Create a list of random numbers.\n",
    "sources:\n",
    "1. https://www.geeksforgeeks.org/generating-random-number-list-in-python/\n",
    "2. https://www.tutorialspoint.com/generating-random-number-list-in-python\n",
    "3. https://www.techbeamers.com/python-generate-random-numbers-list/"
   ]
  },
  {
   "cell_type": "code",
   "execution_count": 75,
   "id": "a923db18",
   "metadata": {},
   "outputs": [
    {
     "name": "stdout",
     "output_type": "stream",
     "text": [
      "random list : [8, 11, 13, 62, 52, 21, 41, 88, 138, 119]\n"
     ]
    }
   ],
   "source": [
    "# Import the random module\n",
    "import random\n",
    "\n",
    "# Initialize an empty list\n",
    "rand_list = []\n",
    "\n",
    "# Iterate through numbers from 1 to 10 (inclusive) and append random integers to the list\n",
    "for i in range(1, 11):\n",
    "    rand_list.append(random.randint(0, i * 25))\n",
    "\n",
    "# Print the list of random integers\n",
    "print('random list:', rand_list)\n"
   ]
  },
  {
   "cell_type": "raw",
   "id": "17110d21",
   "metadata": {},
   "source": [
    "20. Remove duplicates from a list."
   ]
  },
  {
   "cell_type": "code",
   "execution_count": 76,
   "id": "967fb987",
   "metadata": {},
   "outputs": [
    {
     "name": "stdout",
     "output_type": "stream",
     "text": [
      "list with duplicate elements : [1, 2, 0, 4, 2, 3, 2, 4, 3, 0]\n",
      "list after removing duplicates : [1, 2, 0, 4, 3]\n"
     ]
    }
   ],
   "source": [
    "# Import the random module\n",
    "import random\n",
    "\n",
    "# Initialize an empty list for holding duplicate elements\n",
    "dup_ele_list = []\n",
    "\n",
    "# Generate a list with random integers, some of which may be duplicates\n",
    "for i in range(1, 11):\n",
    "    dup_ele_list.append(random.randint(0, i))\n",
    "\n",
    "# Print the list containing duplicate elements\n",
    "print('list with duplicate elements:', dup_ele_list)\n",
    "\n",
    "# Initialize an empty list for holding unique elements\n",
    "uni_ele_lis = []\n",
    "\n",
    "# Iterate through elements in the list and add them to the unique list if they are not already present\n",
    "for i in dup_ele_list:\n",
    "    if i not in uni_ele_lis:\n",
    "        uni_ele_lis.append(i)\n",
    "\n",
    "# Print the list after removing duplicate elements\n",
    "print('list after removing duplicates:', uni_ele_lis)"
   ]
  },
  {
   "cell_type": "raw",
   "id": "566046d7",
   "metadata": {},
   "source": [
    "21. Find the common elements between two lists."
   ]
  },
  {
   "cell_type": "code",
   "execution_count": 120,
   "id": "b03980b6",
   "metadata": {},
   "outputs": [
    {
     "name": "stdout",
     "output_type": "stream",
     "text": [
      "list 1: [10, 20, 30, 40, 50]\n",
      "list 2: [20, 40, 60, 80, 70]\n",
      "[40, 20]\n"
     ]
    }
   ],
   "source": [
    "# Define the first list\n",
    "l1 = [10, 20, 30, 40, 50]\n",
    "\n",
    "# Define the second list\n",
    "l2 = [20, 40, 60, 80, 70]\n",
    "\n",
    "# Print the first list\n",
    "print('list 1:', l1)\n",
    "\n",
    "# Print the second list\n",
    "print('list 2:', l2)\n",
    "\n",
    "# Find the common elements between the two lists using the intersection of sets\n",
    "comm_elements = set(l1).intersection(set(l2))\n",
    "\n",
    "# Convert the set of common elements back to a list and print it\n",
    "print(list(comm_elements))"
   ]
  },
  {
   "cell_type": "raw",
   "id": "37ffdc26",
   "metadata": {},
   "source": [
    "22. Find the difference between two lists."
   ]
  },
  {
   "cell_type": "code",
   "execution_count": 121,
   "id": "f78b7f68",
   "metadata": {},
   "outputs": [
    {
     "name": "stdout",
     "output_type": "stream",
     "text": [
      "list 1: [10, 20, 30, 40, 50]\n",
      "list 2: [20, 40, 60, 80, 70]\n",
      "[10, 50, 30]\n"
     ]
    }
   ],
   "source": [
    "# Define the first list\n",
    "l1 = [10, 20, 30, 40, 50]\n",
    "\n",
    "# Define the second list\n",
    "l2 = [20, 40, 60, 80, 70]\n",
    "\n",
    "# Print the first list\n",
    "print('list 1:', l1)\n",
    "\n",
    "# Print the second list\n",
    "print('list 2:', l2)\n",
    "\n",
    "# Find the elements that are in the first list but not in the second list using the difference of sets\n",
    "diff_elements = list(set(l1).difference(set(l2)))\n",
    "\n",
    "# Print the list of elements that are in the first list but not in the second list\n",
    "print(diff_elements)\n"
   ]
  },
  {
   "cell_type": "raw",
   "id": "7bdcd126",
   "metadata": {},
   "source": [
    "23. Merge two lists."
   ]
  },
  {
   "cell_type": "code",
   "execution_count": 122,
   "id": "4b9530b9",
   "metadata": {},
   "outputs": [
    {
     "name": "stdout",
     "output_type": "stream",
     "text": [
      "list 1: [10, 20, 30, 40, 50]\n",
      "list 2: [20, 40, 60, 80, 70]\n",
      "[10, 20, 30, 40, 50, 20, 40, 60, 80, 70]\n"
     ]
    }
   ],
   "source": [
    "# Define the first list\n",
    "l1 = [10, 20, 30, 40, 50]\n",
    "\n",
    "# Define the second list\n",
    "l2 = [20, 40, 60, 80, 70]\n",
    "\n",
    "# Print the first list\n",
    "print('list 1:', l1)\n",
    "\n",
    "# Print the second list\n",
    "print('list 2:', l2)\n",
    "\n",
    "# Concatenate the two lists using the + operator\n",
    "fl = l1 + l2\n",
    "\n",
    "# Print the resulting concatenated list\n",
    "print(fl)"
   ]
  },
  {
   "cell_type": "raw",
   "id": "26630e6d",
   "metadata": {},
   "source": [
    "24. Multiply all elements in a list by 2."
   ]
  },
  {
   "cell_type": "code",
   "execution_count": 80,
   "id": "a42c19a5",
   "metadata": {},
   "outputs": [
    {
     "name": "stdout",
     "output_type": "stream",
     "text": [
      "[20, 40, 60, 80, 100]\n"
     ]
    }
   ],
   "source": [
    "# Define the list\n",
    "l1 = [10, 20, 30, 40, 50]\n",
    "\n",
    "# Using list comprehension to create a new list with each element in l1 multiplied by 2\n",
    "fl = [i * 2 for i in l1]\n",
    "\n",
    "# Print the resulting list\n",
    "print(fl)\n"
   ]
  },
  {
   "cell_type": "raw",
   "id": "ff819e34",
   "metadata": {},
   "source": [
    "25. Filter out all even numbers from a list."
   ]
  },
  {
   "cell_type": "code",
   "execution_count": 81,
   "id": "802ad849",
   "metadata": {},
   "outputs": [
    {
     "name": "stdout",
     "output_type": "stream",
     "text": [
      "[15, 27, 33]\n"
     ]
    }
   ],
   "source": [
    "# Define the list\n",
    "l1 = [10, 15, 20, 27, 30, 33, 40, 50]\n",
    "\n",
    "# Using list comprehension to filter elements that are not divisible by 2 (i.e., odd numbers)\n",
    "fl = [i for i in l1 if i % 2 != 0]\n",
    "\n",
    "# Print the resulting list\n",
    "print(fl)"
   ]
  },
  {
   "cell_type": "raw",
   "id": "11c917e2",
   "metadata": {},
   "source": [
    "26. Convert a list of strings to a list of integers."
   ]
  },
  {
   "cell_type": "code",
   "execution_count": 123,
   "id": "ba8838c4",
   "metadata": {},
   "outputs": [
    {
     "name": "stdout",
     "output_type": "stream",
     "text": [
      "string list: ['10', '20', '30', '50', '70']\n",
      "data type of str_list: <class 'str'>\n",
      "integer list: [10, 20, 30, 50, 70]\n",
      "data type of int_list: <class 'int'>\n"
     ]
    }
   ],
   "source": [
    "# Define a list of strings\n",
    "str_list = ['10', '20', '30', '50', '70']\n",
    "\n",
    "# Print the string list\n",
    "print('string list:', str_list)\n",
    "\n",
    "# Print the data type of the elements in str_list\n",
    "print('data type of str_list:', type(str_list[0]))\n",
    "\n",
    "# Convert the elements in str_list to integers using list comprehension\n",
    "int_list = [int(i) for i in str_list]\n",
    "\n",
    "# Print the resulting list of integers\n",
    "print('integer list:', int_list)\n",
    "\n",
    "# Print the data type of the elements in int_list\n",
    "print('data type of int_list:', type(int_list[0]))\n"
   ]
  },
  {
   "cell_type": "raw",
   "id": "f295098a",
   "metadata": {},
   "source": [
    "27. Convert a list of integers to a list of strings."
   ]
  },
  {
   "cell_type": "code",
   "execution_count": 124,
   "id": "e00d008b",
   "metadata": {},
   "outputs": [
    {
     "name": "stdout",
     "output_type": "stream",
     "text": [
      "integer list: [10, 20, 30, 50, 70]\n",
      "data type of int_list: <class 'int'>\n",
      "string list: ['10', '20', '30', '50', '70']\n",
      "data type of str_list: <class 'str'>\n"
     ]
    }
   ],
   "source": [
    "# Define a list of integers\n",
    "int_list = [10, 20, 30, 50, 70]\n",
    "\n",
    "# Print the list of integers\n",
    "print('integer list:', int_list)\n",
    "\n",
    "# Print the data type of the elements in int_list\n",
    "print('data type of int_list:', type(int_list[0]))\n",
    "\n",
    "# Convert the elements in int_list to strings using list comprehension\n",
    "str_list = [str(i) for i in int_list]\n",
    "\n",
    "# Print the resulting list of strings\n",
    "print('string list:', str_list)\n",
    "\n",
    "# Print the data type of the elements in str_list\n",
    "print('data type of str_list:', type(str_list[0]))"
   ]
  },
  {
   "cell_type": "raw",
   "id": "cfea6017",
   "metadata": {},
   "source": [
    "28. Flatten a nested list.\n",
    "sources:\n",
    "1. https://www.geeksforgeeks.org/python-convert-a-nested-list-into-a-flat-list/"
   ]
  },
  {
   "cell_type": "code",
   "execution_count": 125,
   "id": "838de7cb",
   "metadata": {},
   "outputs": [
    {
     "name": "stdout",
     "output_type": "stream",
     "text": [
      "[1, 2, 3, 4, 5, 6, 7, 8, 9, 10]\n"
     ]
    }
   ],
   "source": [
    "# Define a nested list\n",
    "nest_list = [1, 2, [3, 4, [5, 6]], 7, 8, [9, [10]]]\n",
    "\n",
    "# Initialize an empty list to store the flattened elements\n",
    "flat_list = list()\n",
    "\n",
    "# Define a function to flatten a nested list\n",
    "def flatten_list(nested_list):\n",
    "    for i in nested_list:\n",
    "        if type(i) == list:\n",
    "            flatten_list(i)  # Recursively call flatten_list if an element is a list\n",
    "        else:\n",
    "            flat_list.append(i)  # Append the element to flat_list if it's not a list\n",
    "\n",
    "# Call the flatten_list function with the given nested list\n",
    "flatten_list(nested_list=nest_list)\n",
    "\n",
    "# Print the flattened list\n",
    "print(flat_list)"
   ]
  },
  {
   "cell_type": "raw",
   "id": "35a8f9bc",
   "metadata": {},
   "source": [
    "29. Create a list of the first 10 Fibonacci numbers.\n",
    "Sources:\n",
    "1. https://www.geeksforgeeks.org/python-program-to-print-the-fibonacci-sequence/\n",
    "2. https://www.techtarget.com/whatis/definition/Fibonacci-sequence#:~:text=The%20sequence%20follows%20the%20rule,adheres%20to%20the%20prescribed%20formula."
   ]
  },
  {
   "cell_type": "code",
   "execution_count": 85,
   "id": "fd284be6",
   "metadata": {},
   "outputs": [
    {
     "name": "stdout",
     "output_type": "stream",
     "text": [
      "[0, 1, 1, 2, 3, 5, 8, 13, 21, 34, 55, 89, 144, 233, 377, 610, 987, 1597, 2584, 4181]\n"
     ]
    }
   ],
   "source": [
    "# Initialize an empty list to store the Fibonacci numbers\n",
    "fibonacci_num_list = list()\n",
    "\n",
    "# Calculate the Fibonacci numbers using a loop\n",
    "for i in range(0, 20):\n",
    "    if i == 0:\n",
    "        fibonacci_num_list.append(0)  # Append 0 for the first Fibonacci number\n",
    "    elif 1 <= i <= 2:\n",
    "        fibonacci_num_list.append(1)  # Append 1 for the second and third Fibonacci numbers\n",
    "    else:\n",
    "        # Append the sum of the last two elements for subsequent Fibonacci numbers\n",
    "        fibonacci_num_list.append(fibonacci_num_list[-1] + fibonacci_num_list[-2])\n",
    "\n",
    "# Print the list of Fibonacci numbers\n",
    "print(fibonacci_num_list)    "
   ]
  },
  {
   "cell_type": "raw",
   "id": "c2c05d67",
   "metadata": {},
   "source": [
    "30. Check if a list is sorted."
   ]
  },
  {
   "cell_type": "code",
   "execution_count": 86,
   "id": "c70970b7",
   "metadata": {},
   "outputs": [
    {
     "name": "stdout",
     "output_type": "stream",
     "text": [
      "ascending order check : Yes, the list is sorted in ascending\n",
      "descending order check : Yes, the list is sorted in descending\n"
     ]
    }
   ],
   "source": [
    "def check_list_sorted(in_list, sort_type):\n",
    "    # Initialize an empty string for the message\n",
    "    message = ''\n",
    "    \n",
    "    # Check if the sort_type is 'asc' for ascending order\n",
    "    if sort_type.lower() == 'asc':\n",
    "        for i in range(1, len(in_list)):\n",
    "            if in_list[i] >= in_list[i - 1]:\n",
    "                message = 'Yes, the list is sorted in ascending'\n",
    "            else:\n",
    "                message = 'No, the list is not sorted in ascending'\n",
    "                break\n",
    "    else:\n",
    "        # Check for descending order\n",
    "        for i in range(1, len(in_list)):\n",
    "            if in_list[i] <= in_list[i - 1]:\n",
    "                message = 'Yes, the list is sorted in descending'\n",
    "            else:\n",
    "                message = 'No, the list is not sorted in descending'\n",
    "                break\n",
    "    return message\n",
    "\n",
    "# Test the function with ascending and descending lists\n",
    "print('ascending order check:', check_list_sorted([10, 20, 25, 40], 'asc'))\n",
    "print('descending order check:', check_list_sorted([40, 30, 25, 15], 'desc'))"
   ]
  },
  {
   "cell_type": "raw",
   "id": "e3a23b20",
   "metadata": {},
   "source": [
    "31. Rotate a list to the left by `n` positions\n",
    "Sources:\n",
    "1. https://www.geeksforgeeks.org/python-ways-to-rotate-a-list/"
   ]
  },
  {
   "cell_type": "code",
   "execution_count": 87,
   "id": "cecf80da",
   "metadata": {},
   "outputs": [
    {
     "name": "stdout",
     "output_type": "stream",
     "text": [
      "input list : [10, 30, 20, 35, 25]\n",
      "element position shifted by 2\n",
      "output list : [20, 35, 25, 10, 30]\n"
     ]
    }
   ],
   "source": [
    "def rotate_list_left(in_list, n):\n",
    "    # Print the input list and the number of positions to shift\n",
    "    print('input list:', in_list)\n",
    "    print(f'element position shifted by {n}')\n",
    "\n",
    "    # Rotate the list elements to the left 'n' times\n",
    "    for i in range(n):\n",
    "        in_list.append(in_list.pop(0))\n",
    "\n",
    "    # Print the resulting list after rotation\n",
    "    print('output list:', in_list)\n",
    "\n",
    "# Define a list 'l' and the number of positions to shift 's'\n",
    "l = [10, 30, 20, 35, 25]\n",
    "s = 2\n",
    "\n",
    "# Call the function to rotate the list left by 's' positions\n",
    "rotate_list_left(l, s)"
   ]
  },
  {
   "cell_type": "raw",
   "id": "238db68f",
   "metadata": {},
   "source": [
    "32. Rotate a list to the right by `n` positions.\n",
    "Sources:\n",
    "1. https://www.geeksforgeeks.org/python-ways-to-rotate-a-list/"
   ]
  },
  {
   "cell_type": "code",
   "execution_count": 88,
   "id": "e059b017",
   "metadata": {},
   "outputs": [
    {
     "name": "stdout",
     "output_type": "stream",
     "text": [
      "input list : [10, 30, 20, 35, 25]\n",
      "element position shifted by 2\n",
      "output list : [35, 25, 10, 30, 20]\n"
     ]
    }
   ],
   "source": [
    "def rotate_list_right(in_list, n):\n",
    "    # Print the input list and the number of positions to shift\n",
    "    print('input list:', in_list)\n",
    "    print(f'element position shifted by {n}')\n",
    "\n",
    "    # Rotate the list elements to the right 'n' times\n",
    "    for i in range(n):\n",
    "        p = in_list.pop(-1)\n",
    "        in_list.insert(0, p)\n",
    "\n",
    "    # Print the resulting list after rotation\n",
    "    print('output list:', in_list)\n",
    "\n",
    "# Define a list 'l' and the number of positions to shift 's'\n",
    "l = [10, 30, 20, 35, 25]\n",
    "s = 2\n",
    "\n",
    "# Call the function to rotate the list right by 's' positions\n",
    "rotate_list_right(l, s)"
   ]
  },
  {
   "cell_type": "raw",
   "id": "283d555a",
   "metadata": {},
   "source": [
    "33. Create a list of prime numbers up to 50."
   ]
  },
  {
   "cell_type": "code",
   "execution_count": 126,
   "id": "875cc37f",
   "metadata": {},
   "outputs": [
    {
     "data": {
      "text/plain": [
       "[1, 2, 3, 5, 7, 11, 13, 17, 19, 23, 29, 31, 37, 41, 43, 47]"
      ]
     },
     "execution_count": 126,
     "metadata": {},
     "output_type": "execute_result"
    }
   ],
   "source": [
    "def prim_num_list(num):\n",
    "    # Create a list from 1 to 'num'\n",
    "    list_num = list(range(1, num + 1))\n",
    "\n",
    "    # Initialize lists for non-prime and prime numbers\n",
    "    non_prim_num = list()\n",
    "    prim_num = list()\n",
    "\n",
    "    # Find non-prime numbers\n",
    "    for i in range(2, 10):\n",
    "        for k in range(4, num + 1):\n",
    "            if k != i and k % i == 0:\n",
    "                non_prim_num.append(k)\n",
    "\n",
    "    # Calculate the prime numbers\n",
    "    prim_num = list(set(list_num).difference(set(non_prim_num)))\n",
    "    prim_num.sort(reverse=False)\n",
    "\n",
    "    # Return the list of prime numbers\n",
    "    return prim_num\n",
    "\n",
    "# Call the function with an argument '50' to get the list of prime numbers\n",
    "prim_num_list(50)"
   ]
  },
  {
   "cell_type": "raw",
   "id": "a532151c",
   "metadata": {},
   "source": [
    "34. Split a list into chunks of size `n`.\n",
    "Sources:\n",
    "1. https://www.geeksforgeeks.org/break-list-chunks-size-n-python/"
   ]
  },
  {
   "cell_type": "code",
   "execution_count": 127,
   "id": "31fb5d8d",
   "metadata": {},
   "outputs": [
    {
     "data": {
      "text/plain": [
       "[[1, 2, 3, 4], [5, 6, 7, 8], [9, 10, 11, 12], [13, 14]]"
      ]
     },
     "execution_count": 127,
     "metadata": {},
     "output_type": "execute_result"
    }
   ],
   "source": [
    "def split_lst_chunk(lst, n):\n",
    "    # Initialize an empty list for the output chunks\n",
    "    output_lst = list()\n",
    "\n",
    "    # Split the list 'lst' into chunks of size 'n' and append them to the output list\n",
    "    for i in range(0, len(lst), n):\n",
    "        output_lst.append(lst[i:i + n])\n",
    "\n",
    "    # Return the output list containing chunks of 'n' elements from 'lst'\n",
    "    return output_lst\n",
    "\n",
    "# Call the function with a sample list and chunk size\n",
    "split_lst_chunk([1, 2, 3, 4, 5, 6, 7, 8, 9, 10, 11, 12, 13, 14], 4)"
   ]
  },
  {
   "cell_type": "raw",
   "id": "1048f41c",
   "metadata": {},
   "source": [
    "35. Find the second largest number in a list"
   ]
  },
  {
   "cell_type": "code",
   "execution_count": 91,
   "id": "b4fb1590",
   "metadata": {},
   "outputs": [
    {
     "name": "stdout",
     "output_type": "stream",
     "text": [
      "input list : [78, 65, 50, 45, 25]\n"
     ]
    },
    {
     "data": {
      "text/plain": [
       "('1 lasrget value in the list will be :', 78)"
      ]
     },
     "execution_count": 91,
     "metadata": {},
     "output_type": "execute_result"
    }
   ],
   "source": [
    "def largest_num(lst, n):\n",
    "    # Sort the list in descending order\n",
    "    lst.sort(reverse=True)\n",
    "    \n",
    "    # Print the input list\n",
    "    print('input list:', lst)\n",
    "    \n",
    "    # Get the nth largest value in the list\n",
    "    nth_val = lst[n - 1]\n",
    "    \n",
    "    # Return the nth largest value in the list\n",
    "    return f'{n} largest value in the list will be:', nth_val\n",
    "\n",
    "# Call the function with a list and the desired value of 'n'\n",
    "largest_num([25, 45, 78, 65, 50], 1)   "
   ]
  },
  {
   "cell_type": "raw",
   "id": "14449a19",
   "metadata": {},
   "source": [
    "36. Replace every element in a list with its square."
   ]
  },
  {
   "cell_type": "code",
   "execution_count": 93,
   "id": "ee4410b5",
   "metadata": {},
   "outputs": [
    {
     "name": "stdout",
     "output_type": "stream",
     "text": [
      "[1, 4, 9, 16, 25, 36]\n"
     ]
    }
   ],
   "source": [
    "lst = [1, 2, 3, 4, 5, 6]\n",
    "\n",
    "# Square each element in the list\n",
    "for i in range(0, len(lst)):\n",
    "    lst[i] = lst[i] ** 2\n",
    "\n",
    "# Alternative approach using list comprehension:\n",
    "# squ_lst = [i**2 for i in lst]\n",
    "# print(squ_lst)\n",
    "\n",
    "# Print the updated list\n",
    "print(lst)"
   ]
  },
  {
   "cell_type": "raw",
   "id": "783e7a9d",
   "metadata": {},
   "source": [
    "37. Convert a list to a dictionary where list elements become keys and their indices become values."
   ]
  },
  {
   "cell_type": "code",
   "execution_count": 103,
   "id": "b61b4e5d",
   "metadata": {},
   "outputs": [
    {
     "name": "stdout",
     "output_type": "stream",
     "text": [
      "input list : [1, 2, 3, 4, 5]\n",
      "{1: 0, 2: 1, 3: 2, 4: 3, 5: 4}\n",
      "{1: 0, 2: 1, 3: 2, 4: 3, 5: 4}\n"
     ]
    }
   ],
   "source": [
    "lst = [1, 2, 3, 4, 5]\n",
    "\n",
    "# Convert list to dictionary\n",
    "def lst_to_dict(lst):\n",
    "    # Print the input list\n",
    "    print('input list:', lst)\n",
    "\n",
    "    # Initialize an empty dictionary\n",
    "    out_dict = dict()\n",
    "\n",
    "    # Iterate through the list and add elements as keys and their indices as values in the dictionary\n",
    "    for i in range(0, len(lst)):\n",
    "        out_dict[lst[i]] = i\n",
    "\n",
    "    # Print the resulting dictionary\n",
    "    print(out_dict)\n",
    "\n",
    "# Alternatively, the same task can be accomplished using a dictionary comprehension\n",
    "# my_dict = {v: i for i, v in enumerate(lst)}\n",
    "# print(my_dict)\n",
    "\n",
    "# Call the function with the sample list\n",
    "lst_to_dict(lst)"
   ]
  },
  {
   "cell_type": "raw",
   "id": "e27face2",
   "metadata": {},
   "source": [
    "38. Shuffle the elements of a list randomly.\n",
    "Sources:\n",
    "1. https://www.w3schools.com/python/ref_random_shuffle.asp"
   ]
  },
  {
   "cell_type": "code",
   "execution_count": 111,
   "id": "12ea1863",
   "metadata": {},
   "outputs": [
    {
     "name": "stdout",
     "output_type": "stream",
     "text": [
      "input list (before shuffle) : [1, 2, 3, 4, 5, 6, 7, 8, 9]\n",
      "output list (after shuffle) : [4, 5, 3, 1, 8, 7, 2, 9, 6]\n"
     ]
    }
   ],
   "source": [
    "import random\n",
    "\n",
    "lst = [1, 2, 3, 4, 5, 6, 7, 8, 9]\n",
    "\n",
    "# Print the original list before shuffling\n",
    "print('input list (before shuffle):', lst)\n",
    "\n",
    "# Shuffle the list in place\n",
    "random.shuffle(lst)\n",
    "\n",
    "# Print the shuffled list\n",
    "print('output list (after shuffle):', lst)\n"
   ]
  },
  {
   "cell_type": "raw",
   "id": "0506fed4",
   "metadata": {},
   "source": [
    "39. Create a list of the first 10 factorial numbers."
   ]
  },
  {
   "cell_type": "code",
   "execution_count": 131,
   "id": "f6f1c45d",
   "metadata": {},
   "outputs": [
    {
     "data": {
      "text/plain": [
       "[(1, 1),\n",
       " (2, 2),\n",
       " (3, 6),\n",
       " (4, 24),\n",
       " (5, 120),\n",
       " (6, 720),\n",
       " (7, 5040),\n",
       " (8, 40320),\n",
       " (9, 362880),\n",
       " (10, 3628800)]"
      ]
     },
     "execution_count": 131,
     "metadata": {},
     "output_type": "execute_result"
    }
   ],
   "source": [
    "def fact_num(n):\n",
    "    # Initialize an empty list to store factorial values\n",
    "    fact_val = []\n",
    "\n",
    "    # Loop through numbers from 1 to n (inclusive) and calculate their factorial values\n",
    "    for i in range(1, n + 1):\n",
    "        x = 1\n",
    "        for k in range(1, i + 1):\n",
    "            x *= k\n",
    "        fact_val.append((i, x))  # Append the tuple (number, factorial value) to the list\n",
    "\n",
    "    # Return the list of tuples containing the numbers and their respective factorial values\n",
    "    return fact_val\n",
    "\n",
    "# Call the function with the argument 10 and print the result\n",
    "print(fact_num(10))"
   ]
  },
  {
   "cell_type": "raw",
   "id": "de3dc822",
   "metadata": {},
   "source": [
    "40. Check if two lists have at least one element in common."
   ]
  },
  {
   "cell_type": "code",
   "execution_count": 128,
   "id": "59bdb79c",
   "metadata": {},
   "outputs": [
    {
     "name": "stdout",
     "output_type": "stream",
     "text": [
      "No, two lists don't have common elements\n"
     ]
    }
   ],
   "source": [
    "def check_comm_element(l1, l2):\n",
    "    # Iterate through elements in the second list\n",
    "    for i in l2:\n",
    "        # Check if the element exists in the first list\n",
    "        if i in l1:\n",
    "            # If a common element is found, print the message and break the loop\n",
    "            print('Yes, two lists have common elements')\n",
    "            break\n",
    "    else:\n",
    "        # If no common element is found after the loop, print the message indicating the absence of common elements\n",
    "        print(\"No, two lists don't have common elements\")\n",
    "\n",
    "# Define the lists l1 and l2\n",
    "l1 = [0, 30, 45, 50, 60]\n",
    "l2 = [10, 20, 40, 70]\n",
    "\n",
    "# Call the function to check for common elements in the lists l1 and l2\n",
    "check_comm_element(l1, l2)"
   ]
  },
  {
   "cell_type": "raw",
   "id": "8b1164d5",
   "metadata": {},
   "source": [
    "41. Remove all elements from a list."
   ]
  },
  {
   "cell_type": "code",
   "execution_count": 134,
   "id": "ac0409c9",
   "metadata": {},
   "outputs": [
    {
     "name": "stdout",
     "output_type": "stream",
     "text": [
      "input list : [1, 2, 3, 4, 5, 6, 7]\n",
      "output list : []\n"
     ]
    }
   ],
   "source": [
    "lst = [1, 2, 3, 4, 5, 6, 7]\n",
    "\n",
    "# Print the input list\n",
    "print('input list:', lst)\n",
    "\n",
    "# Clear the list\n",
    "lst.clear()\n",
    "\n",
    "# Print the output list after clearing it\n",
    "print('output list:', lst)"
   ]
  },
  {
   "cell_type": "raw",
   "id": "5a71032b",
   "metadata": {},
   "source": [
    "42. Replace negative numbers in a list with 0."
   ]
  },
  {
   "cell_type": "code",
   "execution_count": 148,
   "id": "863e3151",
   "metadata": {},
   "outputs": [
    {
     "name": "stdout",
     "output_type": "stream",
     "text": [
      "input list : [-1, -10, 2, 3, 0, 30, -26]\n",
      "output list: [0, 0, 2, 3, 0, 30, 0]\n"
     ]
    }
   ],
   "source": [
    "def replace_negative_num(lst):\n",
    "    # Print the input list\n",
    "    print('input list:', lst)\n",
    "\n",
    "    # Iterate through the list elements\n",
    "    for i in range(len(lst)):\n",
    "        # If the element is less than 0, replace it with 0\n",
    "        if lst[i] < 0:\n",
    "            lst[i] = 0\n",
    "\n",
    "    # Print the output list after replacing negative numbers with 0\n",
    "    print('output list:', lst)\n",
    "\n",
    "# Define the list 'lst'\n",
    "lst = [-1, -10, 2, 3, 0, 30, -26]\n",
    "\n",
    "# Call the function 'replace_negative_num' with the list 'lst'\n",
    "replace_negative_num(lst)      "
   ]
  },
  {
   "cell_type": "raw",
   "id": "4cfda5a6",
   "metadata": {},
   "source": [
    "43. Convert a string into a list of words."
   ]
  },
  {
   "cell_type": "code",
   "execution_count": 151,
   "id": "4c9a0545",
   "metadata": {},
   "outputs": [
    {
     "name": "stdout",
     "output_type": "stream",
     "text": [
      "input string: convert a string into a list of words\n",
      "output list of words : ['convert', 'a', 'string', 'into', 'a', 'list', 'of', 'words']\n"
     ]
    }
   ],
   "source": [
    "def str_to_list_words(s):\n",
    "    # Split the string into words\n",
    "    w = s.split()\n",
    "    # Print the input string\n",
    "    print('input string:', s)\n",
    "    # Print the list of words derived from the string\n",
    "    print('output list of words:', w)\n",
    "\n",
    "# Call the function 'str_to_list_words' with the input string\n",
    "str_to_list_words('convert a string into a list of words')"
   ]
  },
  {
   "cell_type": "raw",
   "id": "738ae493",
   "metadata": {},
   "source": [
    "44. Convert a list of words into a string."
   ]
  },
  {
   "cell_type": "code",
   "execution_count": 163,
   "id": "325a8021",
   "metadata": {},
   "outputs": [
    {
     "name": "stdout",
     "output_type": "stream",
     "text": [
      "input list: ['Convert', 'a', 'list', 'of', 'words', 'into', 'a', 'string']\n",
      "output string :  Convert a list of words into a string\n"
     ]
    }
   ],
   "source": [
    "def list_word_to_str(l):\n",
    "    # Print the input list\n",
    "    print('input list:', l)\n",
    "    s = ''\n",
    "    # Iterate through the elements of the list\n",
    "    for i in l:\n",
    "        # Concatenate each element to the string 's' with a space\n",
    "        s += ' ' + i\n",
    "    # Print the output string created from the list\n",
    "    print('output string:', s)\n",
    "\n",
    "# Define the list 'lw'\n",
    "lw = ['Convert', 'a', 'list', 'of', 'words', 'into', 'a', 'string']\n",
    "\n",
    "# Call the function 'list_word_to_str' with the list 'lw'\n",
    "list_word_to_str(l=lw)\n",
    "\n",
    "# An alternate method to achieve the same result using the 'join' method\n",
    "# print(' '.join(lw))"
   ]
  },
  {
   "cell_type": "raw",
   "id": "2ad80f60",
   "metadata": {},
   "source": [
    "45. Create a list of the first `n` powers of 2."
   ]
  },
  {
   "cell_type": "code",
   "execution_count": 171,
   "id": "db5cc989",
   "metadata": {},
   "outputs": [
    {
     "name": "stdout",
     "output_type": "stream",
     "text": [
      "power of first 7 numbers list : [1, 4, 9, 16, 25, 36, 49]\n"
     ]
    }
   ],
   "source": [
    "n = 7\n",
    "\n",
    "# Generating a list of squares of numbers from 1 to n\n",
    "lst = [i ** 2 for i in range(1, n + 1)]\n",
    "\n",
    "# Printing the list of squares\n",
    "print(f'power of first {n} numbers list:', lst)"
   ]
  },
  {
   "cell_type": "raw",
   "id": "f5e82942",
   "metadata": {},
   "source": [
    "46. Find the longest string in a list of strings."
   ]
  },
  {
   "cell_type": "code",
   "execution_count": 129,
   "id": "164e7da6",
   "metadata": {},
   "outputs": [
    {
     "name": "stdout",
     "output_type": "stream",
     "text": [
      "longest\n"
     ]
    }
   ],
   "source": [
    "l = ['find', 'the', 'longest', 'string', 'in', 'a', 'list', 'of', 'strings']\n",
    "\n",
    "# Initialize the variable 'long_str' to store the longest string\n",
    "long_str = ''\n",
    "\n",
    "# Iterate through the elements in the list 'l'\n",
    "for i in l:\n",
    "    \n",
    "    # Check if the length of the current element is greater than the length of 'long_str'\n",
    "    if len(i) > len(long_str):\n",
    "        \n",
    "        # Update 'long_str' if the condition is satisfied\n",
    "        long_str = i\n",
    "\n",
    "# Print the longest string in the list 'l'\n",
    "print(long_str)"
   ]
  },
  {
   "cell_type": "raw",
   "id": "03739c9a",
   "metadata": {},
   "source": [
    "47. Find the shortest string in a list of strings."
   ]
  },
  {
   "cell_type": "code",
   "execution_count": 131,
   "id": "495629cd",
   "metadata": {},
   "outputs": [
    {
     "name": "stdout",
     "output_type": "stream",
     "text": [
      "a\n"
     ]
    }
   ],
   "source": [
    "l = ['find', 'the', 'longest', 'string', 'in', 'a', 'list', 'of', 'strings']\n",
    "# Set the initial longest string as the first element in the list\n",
    "long_str = l[0]\n",
    "# Iterate through the elements in the list 'l'\n",
    "for i in l:\n",
    "    # Check if the length of the current element is greater than the length of 'long_str'\n",
    "    if len(i) < len(long_str):\n",
    "        # Update 'long_str' if the condition is satisfied\n",
    "        long_str = i\n",
    "\n",
    "# Print the shortest string in the list 'l'\n",
    "print(long_str)"
   ]
  },
  {
   "cell_type": "raw",
   "id": "a4803e03",
   "metadata": {},
   "source": [
    "48. Create a list of the first `n` triangular numbers."
   ]
  },
  {
   "cell_type": "code",
   "execution_count": 197,
   "id": "26e588a7",
   "metadata": {},
   "outputs": [
    {
     "name": "stdout",
     "output_type": "stream",
     "text": [
      "first 8 list of triangular numbers: [1, 3, 6, 10, 15, 21, 28, 36]\n"
     ]
    }
   ],
   "source": [
    "n = 8\n",
    "triangular_num = []\n",
    "\n",
    "# Generating the triangular numbers up to n\n",
    "for i in range(1, n+1):\n",
    "     triangular_num.append(int((i**2 + i) / 2))\n",
    "\n",
    "# Alternative method using list comprehension:\n",
    "# triangular_num1 = [int((i**2 + i) / 2) for i in range(1, n+1)]\n",
    "\n",
    "# Printing the list of triangular numbers\n",
    "print(f'first {n} list of triangular numbers:', triangular_num)\n",
    "# print(f'first {n} list of triangular numbers:', triangular_num1)"
   ]
  },
  {
   "cell_type": "raw",
   "id": "94c3d390",
   "metadata": {},
   "source": [
    "49. Check if a list contains another list as a subsequence.\n",
    "sources:\n",
    "    1. https://www.geeksforgeeks.org/python-check-if-one-list-is-subset-of-other/"
   ]
  },
  {
   "cell_type": "code",
   "execution_count": 214,
   "id": "c7188f40",
   "metadata": {},
   "outputs": [
    {
     "name": "stdout",
     "output_type": "stream",
     "text": [
      "[4, 6, 7, 1] is not a subsequence of [2, 3, 4, 5, 6, 7, 9].\n"
     ]
    }
   ],
   "source": [
    "def is_subsequence(lst, sub_lst):\n",
    "    # Count the number of elements in the subsequence list\n",
    "    cnt_sub_lst = len(sub_lst)\n",
    "    \n",
    "    # Initialize counter for elements found in the main list\n",
    "    sub_lst_counter = 0\n",
    "    \n",
    "    # Iterate through elements in the subsequence list\n",
    "    for i in sub_lst:\n",
    "        # Check if the element exists in the main list and increment the counter\n",
    "        if i in lst:\n",
    "            sub_lst_counter += 1\n",
    "            \n",
    "    # Check if the count of elements in the subsequence list is equal to the counter\n",
    "    return cnt_sub_lst == sub_lst_counter\n",
    "    \n",
    "# Define the main list and the subsequence list\n",
    "lst = [2, 3, 4, 5, 6, 7, 9]\n",
    "sub_lst = [4, 6, 7, 1]\n",
    "    \n",
    "# Check if the subsequence list is a subsequence of the main list\n",
    "result = is_subsequence(lst, sub_lst)\n",
    "\n",
    "# Print the result based on whether the subsequence list is a subsequence of the main list\n",
    "if result:\n",
    "    print(f'{sub_lst} is a subsequence of {lst}.')\n",
    "else:\n",
    "    print(f'{sub_lst} is not a subsequence of {lst}.')"
   ]
  },
  {
   "cell_type": "raw",
   "id": "27ead2e3",
   "metadata": {},
   "source": [
    "50. Swap two elements in a list by their indices."
   ]
  },
  {
   "cell_type": "code",
   "execution_count": 226,
   "id": "43a8aef4",
   "metadata": {},
   "outputs": [
    {
     "name": "stdout",
     "output_type": "stream",
     "text": [
      "Input list: [1, 2, 3, 4, 5, 6, 7, 8, 9]\n",
      "Output list: [1, 2, 3, 8, 5, 6, 7, 4, 9]\n"
     ]
    }
   ],
   "source": [
    "def swap_elements(lst, i1, i2):\n",
    "    # Print the input list before the swap\n",
    "    print('Input list:', lst)\n",
    "      \n",
    "    # Swap the elements at the given indices\n",
    "    lst[i1], lst[i2] = lst[i2], lst[i1]\n",
    "    \n",
    "    # Print the output list after the swap\n",
    "    print('Output list:', lst)\n",
    "    \n",
    "# Define the list and the indices for swapping\n",
    "lst = [1, 2, 3, 4, 5, 6, 7, 8, 9]\n",
    "i1 = 3\n",
    "i2 = 7\n",
    "\n",
    "# Call the function to swap elements and print the input and output lists\n",
    "swap_elements(lst, i1, i2)\n"
   ]
  },
  {
   "cell_type": "markdown",
   "id": "20138f24",
   "metadata": {},
   "source": [
    "### Tuple Based Practice Problem :"
   ]
  },
  {
   "cell_type": "raw",
   "id": "19720b66",
   "metadata": {},
   "source": [
    "1. Create a tuple with integers from 1 to 5."
   ]
  },
  {
   "cell_type": "code",
   "execution_count": 203,
   "id": "9d603e9c",
   "metadata": {},
   "outputs": [
    {
     "name": "stdout",
     "output_type": "stream",
     "text": [
      "Tuple : (1, 2, 3, 4, 5)\n",
      "Type : <class 'tuple'>\n"
     ]
    }
   ],
   "source": [
    "# Create a tuple with integers from 1 to 5\n",
    "my_tuple = (1,2,3,4,5)\n",
    "\n",
    "# Print the data from tuple\n",
    "print('Tuple :', my_tuple)\n",
    "\n",
    "# Find the data type of tuple\n",
    "print('Type :', type(my_tuple))"
   ]
  },
  {
   "cell_type": "raw",
   "id": "832ff2e5",
   "metadata": {},
   "source": [
    "2. Access the third element of a tuple."
   ]
  },
  {
   "cell_type": "code",
   "execution_count": 206,
   "id": "a070d551",
   "metadata": {},
   "outputs": [
    {
     "name": "stdout",
     "output_type": "stream",
     "text": [
      "Tuple : (1, 2, 3, 4, 5, 6, 7)\n",
      "Third element in the tuple : 3\n"
     ]
    }
   ],
   "source": [
    "# Create a tuple\n",
    "my_tuple = (1,2,3,4,5,6,7)\n",
    "print('Tuple :', my_tuple)\n",
    "\n",
    "# Select third element of the tuple\n",
    "third_element =  my_tuple[2]\n",
    "print('Third element in the tuple :', third_element )\n"
   ]
  },
  {
   "cell_type": "raw",
   "id": "a4ef5ebb",
   "metadata": {},
   "source": [
    "3. Find the length of a tuple without using the `len()` function."
   ]
  },
  {
   "cell_type": "code",
   "execution_count": 211,
   "id": "b8d2b82e",
   "metadata": {},
   "outputs": [
    {
     "name": "stdout",
     "output_type": "stream",
     "text": [
      "Input Tuple : (1, 2, 3, 4, 5, 6, 7, 8, 9, 10, 11, 12)\n",
      "Length of the tuple : 12\n"
     ]
    }
   ],
   "source": [
    "# Create a tuple with integer values\n",
    "my_tuple = (1,2,3,4,5,6,7,8,9,10,11,12)\n",
    "print('Input Tuple :', my_tuple)\n",
    "\n",
    "# Create a variable to store count\n",
    "len_tuple = 0\n",
    "\n",
    "# Iterate through each element in the tuple \n",
    "for i in my_tuple:\n",
    "    # Increment by 1 \n",
    "    len_tuple += 1\n",
    "\n",
    "# Print the count of elements of tuple\n",
    "print('Length of the tuple :',len_tuple)"
   ]
  },
  {
   "cell_type": "raw",
   "id": "0a838414",
   "metadata": {},
   "source": [
    "4. Count the occurrences of an element in a tuple."
   ]
  },
  {
   "cell_type": "code",
   "execution_count": 218,
   "id": "97b225c5",
   "metadata": {},
   "outputs": [
    {
     "name": "stdout",
     "output_type": "stream",
     "text": [
      "Input tuple : (1, 3, 2, 4, 6, 5, 7, 8, 3, 4, 6, 7, 9, 3)\n",
      "enter a number :7\n",
      "Number of times 7 occurreneces in the tuple : 2\n"
     ]
    }
   ],
   "source": [
    "# Create a tuple with duplicate values\n",
    "my_tuple = (1,3,2,4,6,5,7,8,3,4,6,7,9,3)\n",
    "print('Input tuple :', my_tuple)\n",
    "\n",
    "# User enter the number to find numer of times it occur in the tuple\n",
    "input_element = int(input('enter a number to find the number of times occur :'))\n",
    "\n",
    "# Count the number of times element occured\n",
    "cnt_element = my_tuple.count(input_element)\n",
    "\n",
    "# Print the \n",
    "print(f'Number of times {input_element} occur in the tuple :', cnt_element )\n"
   ]
  },
  {
   "cell_type": "raw",
   "id": "19d937f6",
   "metadata": {},
   "source": [
    "5. Find the index of the first occurrence of an element in a tuple."
   ]
  },
  {
   "cell_type": "code",
   "execution_count": 224,
   "id": "8cbd51d4",
   "metadata": {},
   "outputs": [
    {
     "name": "stdout",
     "output_type": "stream",
     "text": [
      "enter a number to find the number of times occur :6\n",
      "first occurrence of 6 in tuple : 4\n"
     ]
    }
   ],
   "source": [
    "my_tuple = (1, 3, 2, 4, 6, 5, 7, 8, 3, 4, 6, 7, 9, 3)\n",
    "\n",
    "# Allowing the user to input a number to find its occurrences in the tuple\n",
    "input_element = int(input('Enter a number to find the number of times it occurs: '))\n",
    "\n",
    "# Finding the index of the first occurrence of the input element in the tuple\n",
    "first_occurrence = my_tuple.index(input_element)\n",
    "\n",
    "# Printing the first occurrence of the input element in the tuple\n",
    "print(f'First occurrence of {input_element} in the tuple:', first_occurrence)"
   ]
  },
  {
   "cell_type": "raw",
   "id": "bcf2e0d3",
   "metadata": {},
   "source": [
    "6. Check if an element exists in a tuple."
   ]
  },
  {
   "cell_type": "code",
   "execution_count": 229,
   "id": "d829d7a3",
   "metadata": {},
   "outputs": [
    {
     "name": "stdout",
     "output_type": "stream",
     "text": [
      "enter a number to check if an element exists in a tuple or not : 6\n",
      "element 6 exists in the tuple\n"
     ]
    }
   ],
   "source": [
    "my_tuple = (1, 3, 2, 4, 6, 5, 7, 8, 3, 4, 6, 7, 9, 3)\n",
    "\n",
    "# Allowing the user to input a number to check if it exists in the tuple\n",
    "input_element = int(input('Enter a number to check if an element exists in the tuple or not: '))\n",
    "\n",
    "# Counting the occurrences of the input element in the tuple\n",
    "element_is_exists = my_tuple.count(input_element)\n",
    "\n",
    "# Checking if the element exists in the tuple and printing the result\n",
    "if element_is_exists >= 1:\n",
    "    print(f'Element {input_element} exists in the tuple.')\n",
    "else:\n",
    "    print(f'Element {input_element} does not exist in the tuple.')\n"
   ]
  },
  {
   "cell_type": "raw",
   "id": "4e1badb1",
   "metadata": {},
   "source": [
    "7. Convert a tuple to a list."
   ]
  },
  {
   "cell_type": "code",
   "execution_count": 232,
   "id": "31daf892",
   "metadata": {},
   "outputs": [
    {
     "name": "stdout",
     "output_type": "stream",
     "text": [
      "[1, 3, 2, 4, 6, 5, 7, 8, 3, 4, 6, 7, 9, 3]\n"
     ]
    }
   ],
   "source": [
    "# Given tuple\n",
    "my_tuple = (1, 3, 2, 4, 6, 5, 7, 8, 3, 4, 6, 7, 9, 3)\n",
    "\n",
    "# Converting the tuple to a list\n",
    "my_lst = list(my_tuple)\n",
    "\n",
    "# Printing the list\n",
    "print(my_lst)"
   ]
  },
  {
   "cell_type": "raw",
   "id": "8b6704f7",
   "metadata": {},
   "source": [
    "8. Convert a list to a tuple."
   ]
  },
  {
   "cell_type": "code",
   "execution_count": 234,
   "id": "4e77d6ee",
   "metadata": {},
   "outputs": [
    {
     "name": "stdout",
     "output_type": "stream",
     "text": [
      "(1, 3, 2, 4, 6, 5, 7, 8, 3, 4, 6, 7, 9, 3)\n"
     ]
    }
   ],
   "source": [
    "# Given list\n",
    "my_lst = [1, 3, 2, 4, 6, 5, 7, 8, 3, 4, 6, 7, 9, 3]\n",
    "\n",
    "# Converting the list to a tuple\n",
    "my_tuple = tuple(my_lst)\n",
    "\n",
    "# Printing the tuple\n",
    "print(my_tuple)"
   ]
  },
  {
   "cell_type": "raw",
   "id": "bc8cd690",
   "metadata": {},
   "source": [
    "9. Unpack the elements of a tuple into variables."
   ]
  },
  {
   "cell_type": "code",
   "execution_count": 238,
   "id": "e9fa9fb8",
   "metadata": {},
   "outputs": [
    {
     "name": "stdout",
     "output_type": "stream",
     "text": [
      "var1 : 1\n",
      "var2 : 2\n",
      "var3 : 4\n",
      "var4 : 5\n",
      "var5 : 6\n",
      "var6 : 7\n",
      "var7 : 8\n"
     ]
    }
   ],
   "source": [
    "# Given tuple\n",
    "my_tuple = (1, 2, 4, 5, 6, 7, 8)\n",
    "\n",
    "# Unpacking the tuple into separate variables\n",
    "var1, var2, var3, var4, var5, var6, var7 = my_tuple\n",
    "\n",
    "# Printing each variable\n",
    "print('var1 :', var1)\n",
    "print('var2 :', var2)\n",
    "print('var3 :', var3)\n",
    "print('var4 :', var4)\n",
    "print('var5 :', var5)\n",
    "print('var6 :', var6)\n",
    "print('var7 :', var7)\n"
   ]
  },
  {
   "cell_type": "raw",
   "id": "98c474fa",
   "metadata": {},
   "source": [
    "10. Create a tuple of even numbers from 1 to 10."
   ]
  },
  {
   "cell_type": "code",
   "execution_count": 244,
   "id": "1599c4c0",
   "metadata": {},
   "outputs": [
    {
     "name": "stdout",
     "output_type": "stream",
     "text": [
      "Tuple with even numbers : (2, 4, 6, 8, 10)\n"
     ]
    }
   ],
   "source": [
    "# Range of even numbers\n",
    "even_num_range = range(2, 11, 2) \n",
    "\n",
    "# Converting the range into a tuple\n",
    "even_num_tuple = tuple(even_num_range)\n",
    "\n",
    "# Printing the tuple of even numbers\n",
    "print('Tuple with even numbers :', even_num_tuple)"
   ]
  },
  {
   "cell_type": "raw",
   "id": "6802a055",
   "metadata": {},
   "source": [
    "11. Create a tuple of odd numbers from 1 to 10."
   ]
  },
  {
   "cell_type": "code",
   "execution_count": 245,
   "id": "90cdd00e",
   "metadata": {},
   "outputs": [
    {
     "name": "stdout",
     "output_type": "stream",
     "text": [
      "Tuple with even numbers : (1, 3, 5, 7, 9)\n"
     ]
    }
   ],
   "source": [
    "# Range of odd numbers\n",
    "odd_num_range = range(1, 10, 2) \n",
    "\n",
    "# Converting the range into a tuple\n",
    "odd_num_tuple = tuple(odd_num_range)\n",
    "\n",
    "# Printing the tuple of odd numbers\n",
    "print('Tuple with even numbers :', odd_num_tuple)"
   ]
  },
  {
   "cell_type": "raw",
   "id": "e15bf6bd",
   "metadata": {},
   "source": [
    "12. Concatenate two tuples."
   ]
  },
  {
   "cell_type": "code",
   "execution_count": 252,
   "id": "904efcd4",
   "metadata": {},
   "outputs": [
    {
     "name": "stdout",
     "output_type": "stream",
     "text": [
      "my_tup1 + my_tup2 : (1, 2, 3, 4, 5, 7, 6, 8, 9, 2, 4)\n"
     ]
    }
   ],
   "source": [
    "# First tuple\n",
    "my_tup1 = (1, 2, 3, 4, 5, 7)\n",
    "\n",
    "# Second tuple\n",
    "my_tup2 = (6, 8 , 9, 2, 4)\n",
    "\n",
    "# Concatenating the two tuples\n",
    "final_tuple = my_tup1 + my_tup2\n",
    "\n",
    "# Printing the concatenated tuple\n",
    "print('my_tup1 + my_tup2 :', final_tuple)"
   ]
  },
  {
   "cell_type": "raw",
   "id": "4717a1ff",
   "metadata": {},
   "source": [
    "13. Repeat a tuple three times."
   ]
  },
  {
   "cell_type": "code",
   "execution_count": 258,
   "id": "905b6cdb",
   "metadata": {},
   "outputs": [
    {
     "name": "stdout",
     "output_type": "stream",
     "text": [
      "enter a number :3\n",
      "Repeat tuple by 3 (1, 2, 4, 5, 6, 7, 8, 1, 2, 4, 5, 6, 7, 8, 1, 2, 4, 5, 6, 7, 8)\n"
     ]
    }
   ],
   "source": [
    "# Given tuple\n",
    "my_tuple = (1, 3, 5, 7, 6, 4)\n",
    "\n",
    "# Taking user input\n",
    "x = int(input('Enter a number: '))\n",
    "\n",
    "# Repeating the tuple by the given number\n",
    "repeat_my_tuple = my_tuple * x\n",
    "\n",
    "# Printing the repeated tuple\n",
    "print(f'Repeat tuple by {x}', repeat_my_tuple)"
   ]
  },
  {
   "cell_type": "raw",
   "id": "2dd4d1e5",
   "metadata": {},
   "source": [
    "14. Check if a tuple is empty."
   ]
  },
  {
   "cell_type": "code",
   "execution_count": 266,
   "id": "d1069ac1",
   "metadata": {},
   "outputs": [
    {
     "name": "stdout",
     "output_type": "stream",
     "text": [
      "Yes, tuple is empty\n"
     ]
    }
   ],
   "source": [
    "# Given empty tuple\n",
    "my_tuple = ()\n",
    "\n",
    "# Getting the length of the tuple\n",
    "len_my_tuple = len(my_tuple)\n",
    "\n",
    "# Checking if the tuple is empty or not\n",
    "if len_my_tuple == 0:\n",
    "    print('Yes, tuple is empty')\n",
    "else:\n",
    "    print('No, tuple is not empty')"
   ]
  },
  {
   "cell_type": "raw",
   "id": "58a2bb06",
   "metadata": {},
   "source": [
    "15. Create a nested tuple."
   ]
  },
  {
   "cell_type": "code",
   "execution_count": 269,
   "id": "ed6b8163",
   "metadata": {},
   "outputs": [
    {
     "name": "stdout",
     "output_type": "stream",
     "text": [
      "nested tuple : (1, 2, 3, (1, 2, 3, (1, 2, 3)))\n"
     ]
    }
   ],
   "source": [
    "# Given nested tuple\n",
    "my_tuple = (1,2,3,(1,2,3,(1,2,3)))\n",
    "\n",
    "# Printing the nested tuple\n",
    "print('nested tuple :', my_tuple)"
   ]
  },
  {
   "cell_type": "raw",
   "id": "97c6e9a7",
   "metadata": {},
   "source": [
    "16. Access the first element of a nested tuple."
   ]
  },
  {
   "cell_type": "code",
   "execution_count": 272,
   "id": "76083233",
   "metadata": {},
   "outputs": [
    {
     "name": "stdout",
     "output_type": "stream",
     "text": [
      "first element of a nested tuple : 1\n"
     ]
    }
   ],
   "source": [
    "# Given nested tuple\n",
    "my_tuple = ((1,2),(3,4),(4,5))\n",
    "\n",
    "# Accessing the first element of the nested tuple\n",
    "first_element =  my_tuple[0][0]\n",
    "\n",
    "# Printing the first element\n",
    "print('first element of a nested tuple :', first_element)"
   ]
  },
  {
   "cell_type": "raw",
   "id": "83bcc6ea",
   "metadata": {},
   "source": [
    "17. Create a tuple with a single element."
   ]
  },
  {
   "cell_type": "code",
   "execution_count": 274,
   "id": "25db2f5d",
   "metadata": {},
   "outputs": [
    {
     "name": "stdout",
     "output_type": "stream",
     "text": [
      "single element tuple : (1,)\n",
      "length of element : 1\n"
     ]
    }
   ],
   "source": [
    "# Given single element tuple\n",
    "my_tuple = (1,)\n",
    "\n",
    "# Getting the length of the tuple\n",
    "len_tuple = len(my_tuple)\n",
    "\n",
    "# Printing the single element tuple and its length\n",
    "print('single element tuple :', my_tuple)\n",
    "print('length of element :', len_tuple)"
   ]
  },
  {
   "cell_type": "raw",
   "id": "8ebdb428",
   "metadata": {},
   "source": [
    "18. Compare two tuples.\n",
    "sources:\n",
    "1. https://www.geeksforgeeks.org/python-compare-tuples/?ref=gcse"
   ]
  },
  {
   "cell_type": "code",
   "execution_count": 280,
   "id": "1f2807db",
   "metadata": {},
   "outputs": [
    {
     "name": "stdout",
     "output_type": "stream",
     "text": [
      "Both the tuples are not same\n",
      "all elements in tuple 1 is less than tuple 2\n"
     ]
    }
   ],
   "source": [
    "# Given two tuples\n",
    "my_tup1 = (1, 3, 5)\n",
    "my_tup2 = (2, 4, 6)\n",
    "\n",
    "# Comparing if the tuples are equal\n",
    "if my_tup1 == my_tup2:\n",
    "    print('Both the tuples are the same')\n",
    "    \n",
    "# If the tuples are not equal\n",
    "elif my_tup1 != my_tup2:\n",
    "    print('Both the tuples are not the same')\n",
    "\n",
    "# Comparing if the elements in tuple 1 are greater than tuple 2\n",
    "if my_tup1 > my_tup2:\n",
    "    print('All elements in tuple 1 are greater than tuple 2')\n",
    "    \n",
    "# If the elements in tuple 1 are less than tuple 2\n",
    "elif my_tup1 < my_tup2:\n",
    "    print('All elements in tuple 1 are less than tuple 2')"
   ]
  },
  {
   "cell_type": "raw",
   "id": "1c2407cb",
   "metadata": {},
   "source": [
    "19. Delete a tuple."
   ]
  },
  {
   "cell_type": "code",
   "execution_count": 132,
   "id": "f90e0db2",
   "metadata": {},
   "outputs": [
    {
     "ename": "NameError",
     "evalue": "name 'my_tuple' is not defined",
     "output_type": "error",
     "traceback": [
      "\u001b[1;31m---------------------------------------------------------------------------\u001b[0m",
      "\u001b[1;31mNameError\u001b[0m                                 Traceback (most recent call last)",
      "\u001b[1;32m~\\AppData\\Local\\Temp\\ipykernel_20708\\524119656.py\u001b[0m in \u001b[0;36m<module>\u001b[1;34m\u001b[0m\n\u001b[0;32m      6\u001b[0m \u001b[1;33m\u001b[0m\u001b[0m\n\u001b[0;32m      7\u001b[0m \u001b[1;31m# Trying to access the deleted tuple\u001b[0m\u001b[1;33m\u001b[0m\u001b[1;33m\u001b[0m\u001b[0m\n\u001b[1;32m----> 8\u001b[1;33m \u001b[0mprint\u001b[0m\u001b[1;33m(\u001b[0m\u001b[1;34m'Deleted a tuple:'\u001b[0m\u001b[1;33m,\u001b[0m \u001b[0mmy_tuple\u001b[0m\u001b[1;33m)\u001b[0m\u001b[1;33m\u001b[0m\u001b[1;33m\u001b[0m\u001b[0m\n\u001b[0m",
      "\u001b[1;31mNameError\u001b[0m: name 'my_tuple' is not defined"
     ]
    }
   ],
   "source": [
    "# Given a tuple\n",
    "my_tuple = (1, 2, 3, 4, 5, 8)\n",
    "\n",
    "# Deleting the tuple\n",
    "del my_tuple\n",
    "\n",
    "# Trying to access the deleted tuple\n",
    "print('Deleted a tuple:', my_tuple)"
   ]
  },
  {
   "cell_type": "raw",
   "id": "1a8dc895",
   "metadata": {},
   "source": [
    "20. Slice a tuple."
   ]
  },
  {
   "cell_type": "code",
   "execution_count": 291,
   "id": "1258ad8d",
   "metadata": {},
   "outputs": [
    {
     "name": "stdout",
     "output_type": "stream",
     "text": [
      "first element : 1\n",
      "second element : 3\n",
      "last element : 4\n"
     ]
    }
   ],
   "source": [
    "# Given a tuple\n",
    "my_tuple = (1, 3, 5, 6, 4)\n",
    "\n",
    "# Accessing the first element\n",
    "print('first element:', my_tuple[0])\n",
    "\n",
    "# Accessing the second element\n",
    "print('second element:', my_tuple[1])\n",
    "\n",
    "# Accessing the last element\n",
    "print('last element:', my_tuple[-1])"
   ]
  },
  {
   "cell_type": "raw",
   "id": "33687ce9",
   "metadata": {},
   "source": [
    "21. Find the maximum value in a tuple."
   ]
  },
  {
   "cell_type": "code",
   "execution_count": 294,
   "id": "dc8b21e0",
   "metadata": {},
   "outputs": [
    {
     "name": "stdout",
     "output_type": "stream",
     "text": [
      "max value in tuple : 50\n"
     ]
    }
   ],
   "source": [
    "# Given a tuple\n",
    "my_tuple = (10, 20, 30, 40, 50)\n",
    "\n",
    "# Finding the maximum value in the tuple\n",
    "max_value = max(my_tuple)\n",
    "\n",
    "# Printing the maximum value\n",
    "print('max value in tuple:', max_value)"
   ]
  },
  {
   "cell_type": "raw",
   "id": "7f66d412",
   "metadata": {},
   "source": [
    "22. Find the minimum value in a tuple."
   ]
  },
  {
   "cell_type": "code",
   "execution_count": 296,
   "id": "2874abf7",
   "metadata": {},
   "outputs": [
    {
     "name": "stdout",
     "output_type": "stream",
     "text": [
      "min value in tuple : 10\n"
     ]
    }
   ],
   "source": [
    "# Define a tuple\n",
    "my_tuple = (10, 20, 30, 40, 50)\n",
    "\n",
    "# Find the minimum value in the tuple\n",
    "min_value = min(my_tuple)\n",
    "\n",
    "# Print the minimum value found in the tuple\n",
    "print('The minimum value in the tuple is:', min_value)"
   ]
  },
  {
   "cell_type": "raw",
   "id": "23a7d9bb",
   "metadata": {},
   "source": [
    "23. Convert a string to a tuple of characters."
   ]
  },
  {
   "cell_type": "code",
   "execution_count": 227,
   "id": "002fa7ab",
   "metadata": {},
   "outputs": [
    {
     "name": "stdout",
     "output_type": "stream",
     "text": [
      "Enter a string: Convert a string to a tuple of characters\n",
      "String converted to tuple: ('C', 'o', 'n', 'v', 'e', 'r', 't', ' ', 'a', ' ', 's', 't', 'r', 'i', 'n', 'g', ' ', 't', 'o', ' ', 'a', ' ', 't', 'u', 'p', 'l', 'e', ' ', 'o', 'f', ' ', 'c', 'h', 'a', 'r', 'a', 'c', 't', 'e', 'r', 's')\n"
     ]
    }
   ],
   "source": [
    "# Get input from the user\n",
    "string = input('Enter a string: ')\n",
    "\n",
    "# Convert the string to a tuple\n",
    "str_tuple = tuple(string)\n",
    "\n",
    "# Print the converted tuple\n",
    "print('String converted to tuple:', str_tuple)"
   ]
  },
  {
   "cell_type": "raw",
   "id": "36269f18",
   "metadata": {},
   "source": [
    "24. Convert a tuple of characters to a string."
   ]
  },
  {
   "cell_type": "code",
   "execution_count": 228,
   "id": "1f41953f",
   "metadata": {},
   "outputs": [
    {
     "name": "stdout",
     "output_type": "stream",
     "text": [
      "Tuple of characters converted to a string: shaik khadar basha\n"
     ]
    }
   ],
   "source": [
    "# Define a tuple of characters\n",
    "my_tuple = ('s', 'h', 'a', 'i', 'k', ' ', 'k', 'h', 'a', 'd', 'a', 'r', ' ', 'b', 'a', 's', 'h', 'a')\n",
    "\n",
    "# Convert the tuple of characters to a string\n",
    "my_str = ''.join(my_tuple)\n",
    "\n",
    "# Print the resulting string\n",
    "print('Tuple of characters converted to a string:', my_str)    "
   ]
  },
  {
   "cell_type": "raw",
   "id": "6394eae4",
   "metadata": {},
   "source": [
    "25. Create a tuple from multiple data types."
   ]
  },
  {
   "cell_type": "code",
   "execution_count": 229,
   "id": "d9a7033c",
   "metadata": {},
   "outputs": [
    {
     "name": "stdout",
     "output_type": "stream",
     "text": [
      "Value and data type of the first element: 1 , <class 'int'>\n",
      "Value and data type of the second element: a , <class 'str'>\n",
      "Value and data type of the third element: [1, 2, 3] , <class 'list'>\n",
      "Value and data type of the fourth element: 3.14 , <class 'float'>\n",
      "Value and data type of the fifth element: (1+5j) , <class 'complex'>\n"
     ]
    }
   ],
   "source": [
    "# Define a tuple with different data types\n",
    "my_tuple = (1, 'a', [1,2,3], 3.14, 1+5j)\n",
    "\n",
    "# Print the value and data type of the first element\n",
    "print('Value and data type of the first element:', my_tuple[0], ',', type(my_tuple[0]))\n",
    "\n",
    "# Print the value and data type of the second element\n",
    "print('Value and data type of the second element:', my_tuple[1], ',', type(my_tuple[1]))\n",
    "\n",
    "# Print the value and data type of the third element\n",
    "print('Value and data type of the third element:', my_tuple[2], ',', type(my_tuple[2]))\n",
    "\n",
    "# Print the value and data type of the fourth element\n",
    "print('Value and data type of the fourth element:', my_tuple[3], ',', type(my_tuple[3]))\n",
    "\n",
    "# Print the value and data type of the fifth element\n",
    "print('Value and data type of the fifth element:', my_tuple[4], ',', type(my_tuple[4]))\n"
   ]
  },
  {
   "cell_type": "raw",
   "id": "58ff66cb",
   "metadata": {},
   "source": [
    "26. Check if two tuples are identical."
   ]
  },
  {
   "cell_type": "code",
   "execution_count": 230,
   "id": "70e02720",
   "metadata": {},
   "outputs": [
    {
     "name": "stdout",
     "output_type": "stream",
     "text": [
      "Tuple 1 and Tuple 2 are identical\n"
     ]
    }
   ],
   "source": [
    "# Define two tuples with the same elements\n",
    "my_tup1 = (1, 2, 3)\n",
    "my_tup2 = (1, 2, 3)\n",
    "\n",
    "# Check if the two tuples are identical\n",
    "if my_tup1 == my_tup2:\n",
    "    print('Tuple 1 and Tuple 2 are identical')\n",
    "else:\n",
    "    print('Tuple 1 and Tuple 2 are not identical')"
   ]
  },
  {
   "cell_type": "raw",
   "id": "8fadabad",
   "metadata": {},
   "source": [
    "27. Sort the elements of a tuple.\n",
    "sources:\n",
    "1. https://www.geeksforgeeks.org/python-sort-lists-in-tuple/?ref=gcse"
   ]
  },
  {
   "cell_type": "code",
   "execution_count": 231,
   "id": "1c1651c8",
   "metadata": {},
   "outputs": [
    {
     "name": "stdout",
     "output_type": "stream",
     "text": [
      "Input tuple: (10, 30, 15, 25, 45, 35)\n",
      "Sorted elements of the tuple: (10, 15, 25, 30, 35, 45)\n"
     ]
    }
   ],
   "source": [
    "# Define a tuple with integer elements\n",
    "my_tuple = (10, 30, 15, 25, 45, 35)\n",
    "\n",
    "# Print the original tuple\n",
    "print('Input tuple:', my_tuple)\n",
    "\n",
    "# Sort the elements of the tuple and convert it back to a tuple\n",
    "my_tuple = tuple(sorted(my_tuple))\n",
    "\n",
    "# Print the sorted tuple\n",
    "print('Sorted elements of the tuple:', my_tuple)"
   ]
  },
  {
   "cell_type": "raw",
   "id": "fa287ac7",
   "metadata": {},
   "source": [
    "28. Convert a tuple of integers to a tuple of strings.\n",
    "sources:\n",
    "1. https://www.geeksforgeeks.org/python-convert-tuple-string-to-integer-tuple/?ref=gcse"
   ]
  },
  {
   "cell_type": "code",
   "execution_count": 332,
   "id": "98e6aeeb",
   "metadata": {},
   "outputs": [
    {
     "name": "stdout",
     "output_type": "stream",
     "text": [
      "Tuple of integers to string : ('1', '2', '3', '4', '6', '8', '7', '9')\n"
     ]
    }
   ],
   "source": [
    "# Define a tuple of integers\n",
    "my_tuple = (1, 2, 3, 4, 6, 8, 7, 9)\n",
    "\n",
    "# Convert each element of the tuple to a string and create a new tuple\n",
    "str_my_tuple = tuple([str(i) for i in my_tuple])\n",
    "\n",
    "# Print the tuple where the integers have been converted to strings\n",
    "print('Tuple of integers converted to strings:', str_my_tuple)\n"
   ]
  },
  {
   "cell_type": "raw",
   "id": "3a8ce658",
   "metadata": {},
   "source": [
    "29. Convert a tuple of strings to a tuple of integers."
   ]
  },
  {
   "cell_type": "code",
   "execution_count": 232,
   "id": "67a9af08",
   "metadata": {},
   "outputs": [
    {
     "name": "stdout",
     "output_type": "stream",
     "text": [
      "Tuple of strings converted to integers: (1, 2, 3, 4, 6, 8, 7, 9)\n"
     ]
    }
   ],
   "source": [
    "# Define a tuple of strings representing integers\n",
    "my_tuple = ('1', '2', '3', '4', '6', '8', '7', '9')\n",
    "\n",
    "# Convert each element of the tuple to an integer and create a new tuple\n",
    "int_my_tuple = tuple([int(i) for i in my_tuple])\n",
    "\n",
    "# Print the tuple where the strings have been converted to integers\n",
    "print('Tuple of strings converted to integers:', int_my_tuple)"
   ]
  },
  {
   "cell_type": "raw",
   "id": "d73afed8",
   "metadata": {},
   "source": [
    "30. Merge two tuples."
   ]
  },
  {
   "cell_type": "code",
   "execution_count": 335,
   "id": "a54bbe5b",
   "metadata": {},
   "outputs": [
    {
     "name": "stdout",
     "output_type": "stream",
     "text": [
      "(1, 2, 3) + (4, 5, 6) : (1, 2, 3, 4, 5, 6)\n"
     ]
    }
   ],
   "source": [
    "# Define two tuples\n",
    "tup1 = (1, 2, 3)\n",
    "tup2 = (4, 5, 6)\n",
    "\n",
    "# Concatenate the two tuples\n",
    "my_tuple = tup1 + tup2\n",
    "\n",
    "# Print the concatenated tuple\n",
    "print(f'Concatenation of {tup1} and {tup2}:', my_tuple)"
   ]
  },
  {
   "cell_type": "raw",
   "id": "e9b0fd5a",
   "metadata": {},
   "source": [
    "31. Flatten a nested tuple.\n",
    "sources:\n",
    "1. https://www.geeksforgeeks.org/python-flatten-nested-tuples/"
   ]
  },
  {
   "cell_type": "code",
   "execution_count": 233,
   "id": "a3a2f8ac",
   "metadata": {},
   "outputs": [
    {
     "name": "stdout",
     "output_type": "stream",
     "text": [
      "(1, 2, 3, 4, 5, 6, 7)\n"
     ]
    }
   ],
   "source": [
    "# Initialize an empty list\n",
    "lst = list()\n",
    "\n",
    "# Define a function to flatten a tuple\n",
    "def flatten_tuple(t):\n",
    "    for i in t:\n",
    "        if type(i) == tuple:\n",
    "            flatten_tuple(i)\n",
    "        else:\n",
    "            lst.append(i)\n",
    "    return tuple(lst)\n",
    " \n",
    "# Define the tuple to be flattened\n",
    "t = ((1, 2, 3), (4, 5), (6, 7))\n",
    "\n",
    "# Call the function to flatten the tuple and print the result\n",
    "result = flatten_tuple(t)\n",
    "print(result)"
   ]
  },
  {
   "cell_type": "raw",
   "id": "f6fe46fe",
   "metadata": {},
   "source": [
    "32. Create a tuple of the first 5 prime numbers."
   ]
  },
  {
   "cell_type": "code",
   "execution_count": 271,
   "id": "1d0d81d6",
   "metadata": {},
   "outputs": [
    {
     "name": "stdout",
     "output_type": "stream",
     "text": [
      "Enter the number :25\n",
      "(1, 2, 3, 5, 517, 7, 521, 11, 523, 13, 527, 17, 529, 19, 533, 23, 29, 541, 31, 547, 37, 551, 41, 43, 557)\n"
     ]
    }
   ],
   "source": [
    "def first_n_prime(n):\n",
    "    primes = []\n",
    "    num = 2\n",
    "    while len(primes) < n:\n",
    "        if all(num % i != 0 for i in range(2, int(num ** 0.5) + 1)):\n",
    "            primes.append(num)\n",
    "        num += 1\n",
    "    return primes\n",
    "\n",
    "# Get user input for the number of primes to find\n",
    "n = int(input('Enter the number: '))\n",
    "result = first_n_prime(n)\n",
    "print(f\"The first {n} prime numbers are: {result}\")\n"
   ]
  },
  {
   "cell_type": "raw",
   "id": "f210dc08",
   "metadata": {},
   "source": [
    "33. Check if a tuple is a palindrome."
   ]
  },
  {
   "cell_type": "code",
   "execution_count": 234,
   "id": "5d2318fc",
   "metadata": {},
   "outputs": [
    {
     "name": "stdout",
     "output_type": "stream",
     "text": [
      "Yes, the tuple is a palindrome!\n"
     ]
    }
   ],
   "source": [
    "def is_tuple_palindrome(input_tuple):\n",
    "    # Convert the input tuple to a list for comparison\n",
    "    input_list = list(input_tuple)\n",
    "    \n",
    "    # Check if the input list is equal to its reverse\n",
    "    if input_list == input_list[::-1]:\n",
    "        return 'Yes, the tuple is a palindrome!'\n",
    "    else:\n",
    "        return 'No, the tuple is not a palindrome.'\n",
    "\n",
    "# Example usage\n",
    "input_tuple = (1, 2, 3, 2, 1)  # Example tuple\n",
    "result = is_tuple_palindrome(input_tuple)\n",
    "print(result)\n"
   ]
  },
  {
   "cell_type": "raw",
   "id": "9e88f536",
   "metadata": {},
   "source": [
    "34. Create a tuple of squares of numbers from 1 to 5."
   ]
  },
  {
   "cell_type": "code",
   "execution_count": 235,
   "id": "d379a464",
   "metadata": {},
   "outputs": [
    {
     "name": "stdout",
     "output_type": "stream",
     "text": [
      "(1, 4, 9, 16, 25)\n"
     ]
    }
   ],
   "source": [
    "# Define a tuple of numbers\n",
    "my_tuple = (1, 2, 3, 4, 5)\n",
    "\n",
    "# Create a new tuple where each element is the square of the corresponding element in the original tuple\n",
    "square_my_tuple = tuple([i**2 for i in my_tuple])\n",
    "\n",
    "# Print the new tuple with squared elements\n",
    "print(square_my_tuple)"
   ]
  },
  {
   "cell_type": "raw",
   "id": "6ac18d78",
   "metadata": {},
   "source": [
    "35. Filter out all even numbers from a tuple."
   ]
  },
  {
   "cell_type": "code",
   "execution_count": 236,
   "id": "a502c0cf",
   "metadata": {},
   "outputs": [
    {
     "name": "stdout",
     "output_type": "stream",
     "text": [
      "(1, 3, 5, 7, 9)\n"
     ]
    }
   ],
   "source": [
    "# Define a tuple of numbers\n",
    "my_tuple = (1, 2, 3, 4, 5, 6, 7, 8, 9, 10)\n",
    "\n",
    "# Create a new tuple containing only the odd numbers from the original tuple\n",
    "odd_num_tuple = tuple([i for i in my_tuple if i % 2 != 0])\n",
    "\n",
    "# Print the new tuple containing only the odd numbers\n",
    "print(odd_num_tuple)"
   ]
  },
  {
   "cell_type": "raw",
   "id": "2ed781bb",
   "metadata": {},
   "source": [
    "36. Multiply all elements in a tuple by 2."
   ]
  },
  {
   "cell_type": "code",
   "execution_count": 237,
   "id": "e5f0c29b",
   "metadata": {},
   "outputs": [
    {
     "name": "stdout",
     "output_type": "stream",
     "text": [
      "Input tuple: (1, 3, 5, 7, 9)\n",
      "Output tuple: (2, 6, 10, 14, 18)\n"
     ]
    }
   ],
   "source": [
    "# Define an input tuple\n",
    "input_tuple = (1, 3, 5, 7, 9)\n",
    "print('Input tuple:', input_tuple)\n",
    "\n",
    "# Create an output tuple by doubling each element of the input tuple\n",
    "output_tuple = tuple([(i * 2) for i in input_tuple])\n",
    "print('Output tuple:', output_tuple)\n"
   ]
  },
  {
   "cell_type": "raw",
   "id": "cdea8112",
   "metadata": {},
   "source": [
    "37. Create a tuple of random numbers."
   ]
  },
  {
   "cell_type": "code",
   "execution_count": 238,
   "id": "58a4145d",
   "metadata": {},
   "outputs": [
    {
     "name": "stdout",
     "output_type": "stream",
     "text": [
      "Tuple with random numbers: (114, 176, 129, 39, 86, 60, 153, 148, 70, 156)\n"
     ]
    }
   ],
   "source": [
    "# Import the random module\n",
    "import random as rd\n",
    "\n",
    "# Create a tuple of 10 random numbers in the range from 1 to 200\n",
    "tuple_random_num = tuple([rd.randint(1, 200) for i in range(10)])\n",
    "\n",
    "# Print the tuple containing the random numbers\n",
    "print('Tuple with random numbers:', tuple_random_num)"
   ]
  },
  {
   "cell_type": "raw",
   "id": "74310ce4",
   "metadata": {},
   "source": [
    "38. Check if a tuple is sorted."
   ]
  },
  {
   "cell_type": "code",
   "execution_count": 240,
   "id": "396996c9",
   "metadata": {},
   "outputs": [
    {
     "name": "stdout",
     "output_type": "stream",
     "text": [
      "Input tuple: (1, 2, 7, 3, 4, 6, 5)\n",
      "Checking whether the tuple is sorted or not: No, the tuple is not sorted.\n"
     ]
    }
   ],
   "source": [
    "# Define a function to check if a tuple is sorted\n",
    "def is_tuple_sorted(input_tuple):\n",
    "    # Print the input tuple\n",
    "    print('Input tuple:', input_tuple)\n",
    "    \n",
    "    # Convert the tuple to a list, sort it, and convert it back to a tuple\n",
    "    input_list = list(input_tuple)\n",
    "    input_list.sort()\n",
    "    \n",
    "    # Check if the sorted list matches the input tuple\n",
    "    if tuple(input_list) == input_tuple:\n",
    "        return 'Yes, the tuple is sorted.'\n",
    "    else:\n",
    "        return 'No, the tuple is not sorted.'\n",
    "\n",
    "# Define the input tuple\n",
    "input_tuple = (1, 2, 7, 3, 4, 6, 5)\n",
    "\n",
    "# Check if the tuple is sorted and print the result\n",
    "result = is_tuple_sorted(input_tuple)\n",
    "print('Checking whether the tuple is sorted or not:', result)"
   ]
  },
  {
   "cell_type": "raw",
   "id": "2e63dbb9",
   "metadata": {},
   "source": [
    "39. Rotate a tuple to the left by `n` positions."
   ]
  },
  {
   "cell_type": "code",
   "execution_count": 241,
   "id": "1ba0a7af",
   "metadata": {},
   "outputs": [
    {
     "name": "stdout",
     "output_type": "stream",
     "text": [
      "Input tuple: (10, 20, 30, 40, 50)\n",
      "Rotated tuple to the left: (30, 40, 50, 10, 20)\n"
     ]
    }
   ],
   "source": [
    "# Create a function to rotate a tuple to the left by 'n' positions\n",
    "def rotate_tuple_left(input_tuple, shift):\n",
    "    # Print the input tuple\n",
    "    print('Input tuple:', input_tuple)\n",
    "    \n",
    "    # Convert the input tuple to a list\n",
    "    input_lst = list(input_tuple)\n",
    "    \n",
    "    # Perform the rotation 'shift' times\n",
    "    for i in range(shift):        \n",
    "        x = input_lst.pop(0)\n",
    "        input_lst.append(x)\n",
    "            \n",
    "    # Convert the list back to a tuple and return it\n",
    "    return tuple(input_lst)\n",
    "    \n",
    "# Define the input tuple and the number of positions to shift\n",
    "input_tuple = (10, 20, 30, 40, 50) \n",
    "shift = 2\n",
    "\n",
    "# Call the function to rotate the tuple to the left and print the result\n",
    "result_tuple = rotate_tuple_left(input_tuple, shift)\n",
    "print('Rotated tuple to the left:', result_tuple)"
   ]
  },
  {
   "cell_type": "raw",
   "id": "2ff32b9e",
   "metadata": {},
   "source": [
    "40. Rotate a tuple to the right by `n` positions."
   ]
  },
  {
   "cell_type": "code",
   "execution_count": 448,
   "id": "d6ee10a4",
   "metadata": {},
   "outputs": [
    {
     "name": "stdout",
     "output_type": "stream",
     "text": [
      "Input tuple : (10, 20, 30, 40, 50)\n",
      "Rotated tuple to right: (40, 50, 10, 20, 30)\n"
     ]
    }
   ],
   "source": [
    "# Create a function to rotate a tuple to right by 'n' position\n",
    "def rotate_tuple_right(input_tuple,shift):\n",
    "    \n",
    "    # Print the input tuple\n",
    "    print('Input tuple :', input_tuple)\n",
    "    \n",
    "    # Convert the input tuple to a list\n",
    "    input_lst = list(input_tuple)\n",
    "    \n",
    "    # Perform the rotation 'shift' times\n",
    "    for i in range(shift):        \n",
    "        x = input_lst.pop()\n",
    "        input_lst.insert(0,x)\n",
    "    \n",
    "    # Convert the list back to a tuple and return it\n",
    "    return tuple(input_lst)\n",
    "    \n",
    "\n",
    "# user inputs to the function\n",
    "input_tuple = (10, 20, 30, 40 ,50) \n",
    "shift = 2\n",
    "\n",
    "# call the function and print the result\n",
    "result_tuple = rotate_tuple_right(input_tuple, shift)\n",
    "print('Rotated tuple to right:', result_tuple)"
   ]
  },
  {
   "cell_type": "raw",
   "id": "8a43e19f",
   "metadata": {},
   "source": [
    "41. Create a tuple of the first 5 Fibonacci numbers."
   ]
  },
  {
   "cell_type": "code",
   "execution_count": 242,
   "id": "3a9f027e",
   "metadata": {},
   "outputs": [
    {
     "name": "stdout",
     "output_type": "stream",
     "text": [
      "Enter a number: 5\n",
      "First 5 Fibonacci numbers: (0, 1, 1, 2, 3)\n"
     ]
    }
   ],
   "source": [
    "# Define a function to create a tuple of Fibonacci numbers\n",
    "def create_fibonacci_tuple(n):\n",
    "    # Initialize an empty list to store the Fibonacci numbers\n",
    "    lst_fibonacci_num = []\n",
    "    \n",
    "    # Initialize the first two numbers of the Fibonacci sequence\n",
    "    a, b = 0, 1\n",
    "    \n",
    "    # Generate the first 'n' Fibonacci numbers\n",
    "    for i in range(n):\n",
    "        lst_fibonacci_num.append(a)        \n",
    "        a, b = b, a + b\n",
    "        \n",
    "    # Convert the list to a tuple and return it\n",
    "    return tuple(lst_fibonacci_num)\n",
    "\n",
    "# Get user input for the number of Fibonacci numbers to generate\n",
    "n = int(input('Enter a number: '))\n",
    "\n",
    "# Call the function to generate the first 'n' Fibonacci numbers and print the result\n",
    "result = create_fibonacci_tuple(n)\n",
    "print(f'First {n} Fibonacci numbers:', result)"
   ]
  },
  {
   "cell_type": "raw",
   "id": "d3adeb0d",
   "metadata": {},
   "source": [
    "42. Create a tuple from user input."
   ]
  },
  {
   "cell_type": "code",
   "execution_count": 302,
   "id": "480b28a0",
   "metadata": {},
   "outputs": [
    {
     "name": "stdout",
     "output_type": "stream",
     "text": [
      "Enter a numbers with comma seperate (i.e., 2,3,4) :1,2,3,4,5,6\n",
      "string ---> tuple\n",
      "1,2,3,4,5,6 ---> ('1', '2', '3', '4', '5', '6')\n"
     ]
    }
   ],
   "source": [
    "# User input\n",
    "elements = input('Enter a numbers with comma seperate (i.e., 2,3,4) :')\n",
    "\n",
    "# Covert input string values into a list\n",
    "lst = elements.split(',')\n",
    "\n",
    "# Convert the list into tuple\n",
    "my_tuple = tuple(lst)\n",
    "\n",
    "# Print the resulting tuple\n",
    "print('string ---> tuple')\n",
    "print(f'{elements} ---> {my_tuple}')\n"
   ]
  },
  {
   "cell_type": "raw",
   "id": "49b2f595",
   "metadata": {},
   "source": [
    "43. Swap two elements in a tuple."
   ]
  },
  {
   "cell_type": "code",
   "execution_count": 456,
   "id": "dc67c9dc",
   "metadata": {},
   "outputs": [
    {
     "name": "stdout",
     "output_type": "stream",
     "text": [
      "Input tuple : (10, 20, 30, 40, 50)\n",
      "Tuple after swaping two elements : (10, 50, 30, 40, 20)\n"
     ]
    }
   ],
   "source": [
    "# Create a function to swap elements in a tuple\n",
    "def swap_elements(input_tuple,first_ele_ind, second_ele_ind):\n",
    "    \n",
    "    # Print the input tuple\n",
    "    print('Input tuple :', input_tuple)\n",
    "    \n",
    "    # Convert the input tuple to a list\n",
    "    input_lst = list(input_tuple)\n",
    "    \n",
    "    # Swap the elements at the specified indices\n",
    "    input_lst[first_ele_ind], input_lst[second_ele_ind] = input_lst[second_ele_ind], input_lst[first_ele_ind]\n",
    "    \n",
    "    # Convert the list back to a tuple and return it\n",
    "    return tuple(input_lst)\n",
    "\n",
    "# Input tuple and indices for swapping\n",
    "input_tuple = (10, 20, 30, 40, 50)\n",
    "first_ele_ind = 1\n",
    "second_ele_ind = 4\n",
    "\n",
    "# Call the function to swap elements\n",
    "result = swap_elements(input_tuple, first_ele_ind, second_ele_ind)\n",
    "# Print the result after swapping\n",
    "print('Tuple after swaping two elements :', result)\n"
   ]
  },
  {
   "cell_type": "raw",
   "id": "2e8e850c",
   "metadata": {},
   "source": [
    "44. Reverse the elements of a tuple."
   ]
  },
  {
   "cell_type": "code",
   "execution_count": 457,
   "id": "617159e6",
   "metadata": {},
   "outputs": [
    {
     "name": "stdout",
     "output_type": "stream",
     "text": [
      "Input tuple : (10, 20, 30, 40, 50)\n",
      "output tuple : (50, 40, 30, 20, 10)\n"
     ]
    }
   ],
   "source": [
    "# Original tuple\n",
    "original_tuple = (10, 20, 30, 40, 50)\n",
    "print('Input tuple :', original_tuple)\n",
    "\n",
    "# Reverse the tuple using slicing\n",
    "reversed_tuple = original_tuple[::-1]\n",
    "\n",
    "# Print the reversed tuple\n",
    "print('output tuple :',reversed_tuple)\n"
   ]
  },
  {
   "cell_type": "raw",
   "id": "ec3dfd7a",
   "metadata": {},
   "source": [
    "45. Create a tuple of the first `n` powers of 2."
   ]
  },
  {
   "cell_type": "code",
   "execution_count": 275,
   "id": "6ec09f8e",
   "metadata": {},
   "outputs": [
    {
     "name": "stdout",
     "output_type": "stream",
     "text": [
      "Enter the number :5\n",
      "Power of first 5 numbers : (1, 4, 9, 16, 25)\n"
     ]
    }
   ],
   "source": [
    "# Get user input for the number\n",
    "n = int(input('Enter the number: '))\n",
    "\n",
    "# Generate the squares of the first 'n' numbers and store them in a tuple\n",
    "result = tuple([i**2 for i in range(1, n+1)])\n",
    "\n",
    "# Print the resulting tuple\n",
    "print(f'Power of first {n} numbers:', result)\n"
   ]
  },
  {
   "cell_type": "raw",
   "id": "659359d4",
   "metadata": {},
   "source": [
    "46. Find the longest string in a tuple of strings."
   ]
  },
  {
   "cell_type": "code",
   "execution_count": 243,
   "id": "e2c3e274",
   "metadata": {},
   "outputs": [
    {
     "name": "stdout",
     "output_type": "stream",
     "text": [
      "Longest string in the tuple: banana\n"
     ]
    }
   ],
   "source": [
    "def longest_string(input_tuple):\n",
    "    return max(input_tuple, key=len)\n",
    "\n",
    "# Example usage\n",
    "str_tuple = ('mango', 'apple', 'banana', 'orange')\n",
    "longest = longest_string(str_tuple)\n",
    "print(\"Longest string in the tuple:\", longest)\n"
   ]
  },
  {
   "cell_type": "raw",
   "id": "a68ea0e5",
   "metadata": {},
   "source": [
    "47. Find the shortest string in a tuple of strings."
   ]
  },
  {
   "cell_type": "code",
   "execution_count": 276,
   "id": "a889ddb0",
   "metadata": {},
   "outputs": [
    {
     "name": "stdout",
     "output_type": "stream",
     "text": [
      "Longest string in the tuple: mango\n"
     ]
    }
   ],
   "source": [
    "def shortest_string(input_tuple):\n",
    "    return min(input_tuple, key=len)\n",
    "\n",
    "# Example usage\n",
    "str_tuple = ('mango', 'apple', 'banana', 'orange')\n",
    "longest = shortest_string(str_tuple)\n",
    "print(\"Longest string in the tuple:\", longest)"
   ]
  },
  {
   "cell_type": "raw",
   "id": "4a7f20be",
   "metadata": {},
   "source": [
    "48. Create a tuple of the first `n` triangular numbers."
   ]
  },
  {
   "cell_type": "code",
   "execution_count": 282,
   "id": "c2a2cc19",
   "metadata": {},
   "outputs": [
    {
     "name": "stdout",
     "output_type": "stream",
     "text": [
      "Enter the number: 10\n",
      "First 10 Triangular number : (1, 3, 6, 10, 15, 21, 28, 36, 45, 55)\n"
     ]
    }
   ],
   "source": [
    "# Define a function to generate the first 'n' triangular numbers\n",
    "def triangular_number(n):\n",
    "    # Initialize an empty list to store the triangular numbers\n",
    "    triangular_num = []\n",
    "    for i in range(1, n + 1):\n",
    "        num = 0\n",
    "        for k in range(i + 1):\n",
    "            num += k\n",
    "        triangular_num.append(num)\n",
    "    return tuple(triangular_num)\n",
    "\n",
    "# Get user input for the number of triangular numbers to generate\n",
    "n = int(input('Enter the number: '))\n",
    "\n",
    "# Call the function to generate the first 'n' triangular numbers and store them in a tuple\n",
    "result = triangular_number(n)\n",
    "\n",
    "# Print the resulting tuple of triangular numbers\n",
    "print(f'First {n} Triangular numbers:', result)"
   ]
  },
  {
   "cell_type": "raw",
   "id": "58f1ebc0",
   "metadata": {},
   "source": [
    "49. Check if a tuple contains another tuple as a subsequence."
   ]
  },
  {
   "cell_type": "code",
   "execution_count": 293,
   "id": "7ad46cec",
   "metadata": {},
   "outputs": [
    {
     "name": "stdout",
     "output_type": "stream",
     "text": [
      "(2, 4) is a subsequence of (1, 2, 4, 5, 7, 6, 8, 9).\n"
     ]
    }
   ],
   "source": [
    "# Define a function to check if one tuple is a subsequence of another tuple\n",
    "def is_subsequence(main_tuple, sub_tuple):\n",
    "    # Get the length of the sub_tuple\n",
    "    len_sub_tuple = len(sub_tuple)\n",
    "    \n",
    "    # Initialize a counter for the sub_tuple\n",
    "    sub_tuple_counter = 0\n",
    "    \n",
    "    # Check each element in the sub_tuple\n",
    "    for i in sub_tuple:\n",
    "        if i in main_tuple:\n",
    "            sub_tuple_counter += 1\n",
    "            \n",
    "    # Return True if the lengths match, else False\n",
    "    return len_sub_tuple == sub_tuple_counter\n",
    "\n",
    "\n",
    "# Define the main tuple and the sub tuple\n",
    "main_tuple = (1, 2, 4, 5, 7, 6, 8, 9)\n",
    "sub_tuple = (2, 4)\n",
    "\n",
    "# Check if sub_tuple is a subsequence of main_tuple and print the result\n",
    "result = is_subsequence(main_tuple, sub_tuple)\n",
    "\n",
    "if result:\n",
    "    print(f'{sub_tuple} is a subsequence of {main_tuple}.')\n",
    "else:\n",
    "    print(f'{sub_tuple} is not a subsequence of {main_tuple}.')\n"
   ]
  },
  {
   "cell_type": "raw",
   "id": "005842bc",
   "metadata": {},
   "source": [
    "50. Create a tuple of alternating 1s and 0s of length `n`."
   ]
  },
  {
   "cell_type": "code",
   "execution_count": 298,
   "id": "16b3b95f",
   "metadata": {},
   "outputs": [
    {
     "name": "stdout",
     "output_type": "stream",
     "text": [
      "Enter a number: 10\n",
      "Tuple with 1s and 0s of length 10: (0, 1, 0, 1, 0, 1, 0, 1, 0, 1)\n"
     ]
    }
   ],
   "source": [
    "def create_alternating_tuple(n):\n",
    "    # Initialize 1 and 0\n",
    "    one = 1\n",
    "    zero = 0\n",
    "\n",
    "    # Initialize an empty list to store alternating numbers\n",
    "    alternating_num = list()\n",
    "\n",
    "    # Generate alternating 1s and 0s\n",
    "    for i in range(1, n+1):\n",
    "        if i % 2 == 0:\n",
    "            alternating_num.append(one)\n",
    "        else:\n",
    "            alternating_num.append(zero)\n",
    "    \n",
    "    return tuple(alternating_num)\n",
    "\n",
    "# Get user input for the length of the tuple\n",
    "n = int(input('Enter a number: '))\n",
    "\n",
    "# Generate the tuple with alternating 1s and 0s\n",
    "result = create_alternating_tuple(n)\n",
    "\n",
    "# Print the resulting tuple\n",
    "print(f'Tuple with 1s and 0s of length {n}: {result}')\n"
   ]
  },
  {
   "cell_type": "markdown",
   "id": "0e7608db",
   "metadata": {},
   "source": [
    "### Set Based Practice Problem :"
   ]
  },
  {
   "cell_type": "raw",
   "id": "c7e21b37",
   "metadata": {},
   "source": [
    "1. Create a set with integers from 1 to 5."
   ]
  },
  {
   "cell_type": "code",
   "execution_count": 244,
   "id": "da074057",
   "metadata": {},
   "outputs": [
    {
     "name": "stdout",
     "output_type": "stream",
     "text": [
      "Set with integers from 1 to 5: {1, 2, 3, 4, 5}\n"
     ]
    }
   ],
   "source": [
    "# Create a set containing integers from 1 to 5\n",
    "my_set = {1, 2, 3, 4, 5}\n",
    "\n",
    "# Print the resulting set\n",
    "print('Set with integers from 1 to 5:', my_set)"
   ]
  },
  {
   "cell_type": "raw",
   "id": "1fb95f54",
   "metadata": {},
   "source": [
    "2. Add an element to a set."
   ]
  },
  {
   "cell_type": "code",
   "execution_count": 245,
   "id": "15b7f94c",
   "metadata": {},
   "outputs": [
    {
     "name": "stdout",
     "output_type": "stream",
     "text": [
      "Enter a number: 8\n",
      "{2, 4, 5, 6, 7, 8}\n"
     ]
    }
   ],
   "source": [
    "# Create a set\n",
    "my_set = {2, 4, 5, 7, 6}\n",
    "\n",
    "# Get user input for a new number\n",
    "n = int(input('Enter a number: '))\n",
    "\n",
    "# Add the input number to the set\n",
    "my_set.add(n)\n",
    "\n",
    "# Print the updated set\n",
    "print(my_set)"
   ]
  },
  {
   "cell_type": "raw",
   "id": "66b2086e",
   "metadata": {},
   "source": [
    "3. Remove an element from a set."
   ]
  },
  {
   "cell_type": "code",
   "execution_count": 246,
   "id": "4abb674e",
   "metadata": {},
   "outputs": [
    {
     "name": "stdout",
     "output_type": "stream",
     "text": [
      "Enter a number to remove from the set: 2\n",
      "Updated set after removing 2: {1, 3, 6, 7, 8}\n"
     ]
    }
   ],
   "source": [
    "# Create a set\n",
    "my_set = {1, 3, 2, 6, 7, 8}\n",
    "\n",
    "# Get user input for the number to remove\n",
    "n = int(input('Enter a number to remove from the set: '))\n",
    "\n",
    "# Remove the specified element from the set\n",
    "my_set.remove(n)\n",
    "\n",
    "# Print the updated set\n",
    "print(f'Updated set after removing {n}:', my_set)"
   ]
  },
  {
   "cell_type": "raw",
   "id": "045162b1",
   "metadata": {},
   "source": [
    "4. Check if an element exists in a set."
   ]
  },
  {
   "cell_type": "code",
   "execution_count": 247,
   "id": "c8c7f88a",
   "metadata": {},
   "outputs": [
    {
     "name": "stdout",
     "output_type": "stream",
     "text": [
      "Enter a number to verify whether it is part of the set or not: 2\n",
      "Yes, 2 is part of the set elements.\n"
     ]
    }
   ],
   "source": [
    "# Create a set with integer elements\n",
    "my_set = {1, 3, 2, 5, 4, 7, 10, 15}\n",
    "\n",
    "# Get user input to verify whether it is part of the set or not\n",
    "n = int(input('Enter a number to verify whether it is part of the set or not: '))\n",
    "\n",
    "# Check if the input number is part of the set\n",
    "result = n in my_set\n",
    "\n",
    "# Print the result based on whether the number is in the set or not\n",
    "if result:\n",
    "    print(f'Yes, {n} is part of the set elements.')\n",
    "else:\n",
    "    print(f'No, {n} is not part of the set elements.')"
   ]
  },
  {
   "cell_type": "raw",
   "id": "6442bb8c",
   "metadata": {},
   "source": [
    "5. Find the length of a set without using the `len()` function."
   ]
  },
  {
   "cell_type": "code",
   "execution_count": 248,
   "id": "23f14c7a",
   "metadata": {},
   "outputs": [
    {
     "name": "stdout",
     "output_type": "stream",
     "text": [
      "Input set: {1, 3, 'skills', 'pw', 9.456, 250}\n",
      "Length of set: 6\n"
     ]
    }
   ],
   "source": [
    "# Create a set with various elements\n",
    "my_set = {1, 3, 'pw', 'skills', 9.456, 250}\n",
    "print('Input set:', my_set)\n",
    "\n",
    "# Calculate the length of the set\n",
    "len_set = sum([1 for i in my_set])\n",
    "\n",
    "# Print the length of the set\n",
    "print('Length of set:', len_set)\n"
   ]
  },
  {
   "cell_type": "raw",
   "id": "831e5dfa",
   "metadata": {},
   "source": [
    "6. Clear all elements from a set."
   ]
  },
  {
   "cell_type": "code",
   "execution_count": 495,
   "id": "9da66868",
   "metadata": {},
   "outputs": [
    {
     "name": "stdout",
     "output_type": "stream",
     "text": [
      "set()\n"
     ]
    }
   ],
   "source": [
    "# Create a set with few elements\n",
    "my_set = {1, 2, 3, 5, 7, 8, 9, 12}\n",
    "\n",
    "# Remove all elements from the set\n",
    "my_set.clear()\n",
    "\n",
    "# Print the update set\n",
    "print(my_set)"
   ]
  },
  {
   "cell_type": "raw",
   "id": "cd2a6240",
   "metadata": {},
   "source": [
    "7. Create a set of even numbers from 1 to 10."
   ]
  },
  {
   "cell_type": "code",
   "execution_count": 249,
   "id": "4b59a515",
   "metadata": {},
   "outputs": [
    {
     "name": "stdout",
     "output_type": "stream",
     "text": [
      "Set with even numbers: {2, 4, 6, 8, 10}\n"
     ]
    }
   ],
   "source": [
    "# Create a set with even integer numbers\n",
    "my_set = set(range(2, 11, 2))\n",
    "\n",
    "# Print the resulting set\n",
    "print(\"Set with even numbers:\", my_set)"
   ]
  },
  {
   "cell_type": "raw",
   "id": "0c563f41",
   "metadata": {},
   "source": [
    "8. Create a set of odd numbers from 1 to 10."
   ]
  },
  {
   "cell_type": "code",
   "execution_count": 250,
   "id": "8c33b613",
   "metadata": {},
   "outputs": [
    {
     "name": "stdout",
     "output_type": "stream",
     "text": [
      "Set with odd numbers: {1, 3, 5, 7, 9}\n"
     ]
    }
   ],
   "source": [
    "# Create a set with odd integer numbers\n",
    "my_set = set(range(1, 11, 2))\n",
    "\n",
    "# Print the resulting set\n",
    "print('Set with odd numbers:', my_set)"
   ]
  },
  {
   "cell_type": "raw",
   "id": "13e054d0",
   "metadata": {},
   "source": [
    "9. Find the union of two sets."
   ]
  },
  {
   "cell_type": "code",
   "execution_count": 252,
   "id": "80dc542d",
   "metadata": {},
   "outputs": [
    {
     "name": "stdout",
     "output_type": "stream",
     "text": [
      "{40, 10, 12, 15, 50, 20, 23, 25, 30}\n"
     ]
    }
   ],
   "source": [
    "# Create two sets\n",
    "s1 = {10, 20, 30, 40, 50}\n",
    "s2 = {30, 12, 15, 25, 23}\n",
    "\n",
    "# Union of two sets\n",
    "s1 = s1.union(s2)\n",
    "print(s1)"
   ]
  },
  {
   "cell_type": "raw",
   "id": "502cd5ec",
   "metadata": {},
   "source": [
    "10. Find the intersection of two sets."
   ]
  },
  {
   "cell_type": "code",
   "execution_count": 511,
   "id": "9731682b",
   "metadata": {},
   "outputs": [
    {
     "name": "stdout",
     "output_type": "stream",
     "text": [
      "Input set 1 : {1, 2, 3, 4, 5, 7, 8}\n",
      "Input set 2 : {0, 3, 4, 6, 9}\n",
      "common elements between s1 & s2 are : {3, 4}\n"
     ]
    }
   ],
   "source": [
    "# Create two sets\n",
    "s1 = {1, 2, 4, 5, 7, 3, 8}\n",
    "s2 = {9, 3, 4, 6, 0}\n",
    "print('Input set 1 :', s1)\n",
    "print('Input set 2 :', s2)\n",
    "\n",
    "# Finding common elements between two sections\n",
    "result = s1.intersection(s2)\n",
    "\n",
    "# common elements between s1 & s2\n",
    "print('common elements between s1 & s2 are :', result)"
   ]
  },
  {
   "cell_type": "raw",
   "id": "152f4b6b",
   "metadata": {},
   "source": [
    "11. Find the difference between two sets."
   ]
  },
  {
   "cell_type": "code",
   "execution_count": 515,
   "id": "2d76a2bd",
   "metadata": {},
   "outputs": [
    {
     "name": "stdout",
     "output_type": "stream",
     "text": [
      "Input set 1 : {1, 2, 3, 4, 5, 7}\n",
      "Input set 2 : {0, 3, 4, 5, 6, 8, 9}\n",
      "elements in s1 only : {1, 2, 7}\n",
      "elements in s2 only : {0, 8, 6, 9}\n"
     ]
    }
   ],
   "source": [
    "# Create two sets to find the difference between them\n",
    "s1 = {1, 2, 4, 5, 7, 3}\n",
    "s2 = {9, 3, 4, 6, 0, 5, 8}\n",
    "print('Input set 1 :', s1)\n",
    "print('Input set 2 :', s2)\n",
    "\n",
    "# list of elements which are in s1 and not s2\n",
    "only_in_s1 = s1.difference(s2)\n",
    "# List of elements which are in s2 and not s2\n",
    "only_in_s2 = s2.difference(s1)\n",
    "\n",
    "# Difference between two sets\n",
    "print('elements in s1 only :', only_in_s1)\n",
    "print('elements in s2 only :', only_in_s2)"
   ]
  },
  {
   "cell_type": "raw",
   "id": "3a0639ed",
   "metadata": {},
   "source": [
    "12. Check if a set is a subset of another set."
   ]
  },
  {
   "cell_type": "code",
   "execution_count": 527,
   "id": "34ee2732",
   "metadata": {},
   "outputs": [
    {
     "name": "stdout",
     "output_type": "stream",
     "text": [
      "Input set 1: {1, 2, 3, 4, 5, 7, 8}\n",
      "Input set 2: {8, 3, 5, 7}\n",
      "Input set 3: {1, 4, 6}\n",
      "Yes, s2 is a subset of s1\n",
      "No, S3 is not a subset of s1\n"
     ]
    }
   ],
   "source": [
    "# Create two sets to find if a set is a subset of another set or not\n",
    "my_set1 = {1, 3, 2, 5, 7, 8, 4}\n",
    "my_set2 = {3, 5, 7, 8}\n",
    "my_set3 = {1, 4, 6}\n",
    "print('Input set 1:', my_set1)\n",
    "print('Input set 2:', my_set2)\n",
    "print('Input set 3:', my_set3)\n",
    "\n",
    "# find s2 is a subset of s1 or not\n",
    "result  = my_set2.issubset(my_set1)\n",
    "if result:\n",
    "    print('Yes, s2 is a subset of s1')\n",
    "result = my_set3.issubset(my_set1)\n",
    "if not result:\n",
    "    print('No, S3 is not a subset of s1')"
   ]
  },
  {
   "cell_type": "raw",
   "id": "d9edc98b",
   "metadata": {},
   "source": [
    "13. Check if a set is a superset of another set."
   ]
  },
  {
   "cell_type": "code",
   "execution_count": 534,
   "id": "827b744b",
   "metadata": {},
   "outputs": [
    {
     "name": "stdout",
     "output_type": "stream",
     "text": [
      "Input set1 : {1, 2, 3, 4, 5, 6, 7, 8, 9}\n",
      "Input set2 : {2, 5, 7}\n",
      "True\n",
      "Yes, s1 is a super set of s2 \n"
     ]
    }
   ],
   "source": [
    "# Create twwo sets\n",
    "set1 = {1, 2, 3, 4, 5, 6, 7, 8, 9}\n",
    "set2 = {2, 5, 7}\n",
    "print('Input set1 :', set1)\n",
    "print('Input set2 :', set2)\n",
    "\n",
    "# checking s1 is a superset of s2 or not\n",
    "result = set1.issuperset(set2)\n",
    "\n",
    "# check s1 is a superset of s2 or not\n",
    "if result:\n",
    "    print('Yes, s1 is a super set of s2 ')"
   ]
  },
  {
   "cell_type": "raw",
   "id": "7454ff42",
   "metadata": {},
   "source": [
    "14. Create a set from a list."
   ]
  },
  {
   "cell_type": "code",
   "execution_count": 253,
   "id": "c2739386",
   "metadata": {},
   "outputs": [
    {
     "name": "stdout",
     "output_type": "stream",
     "text": [
      "Input set: {1, 2, 3, 4, 5, 6}\n",
      "Output list: [1, 2, 3, 4, 5, 6]\n"
     ]
    }
   ],
   "source": [
    "# Create a set with integer elements\n",
    "my_set = {1, 2, 3, 4, 5, 6}\n",
    "print('Input set:', my_set)\n",
    "\n",
    "# Convert the set to a list\n",
    "my_list = list(my_set)\n",
    "print('Output list:', my_list)"
   ]
  },
  {
   "cell_type": "raw",
   "id": "997123ea",
   "metadata": {},
   "source": [
    "15. Convert a set to a list."
   ]
  },
  {
   "cell_type": "code",
   "execution_count": 254,
   "id": "56043995",
   "metadata": {},
   "outputs": [
    {
     "name": "stdout",
     "output_type": "stream",
     "text": [
      "Input list: [1, 3, 5, 4, 7, 8]\n",
      "Output set: {1, 3, 4, 5, 7, 8}\n"
     ]
    }
   ],
   "source": [
    "# Create a list with integer elements\n",
    "my_lst = [1, 3, 5, 4, 7, 8]\n",
    "print('Input list:', my_lst)\n",
    "\n",
    "# Convert the list to a set\n",
    "my_set = set(my_lst)\n",
    "print('Output set:', my_set)"
   ]
  },
  {
   "cell_type": "raw",
   "id": "b0ce7a3e",
   "metadata": {},
   "source": [
    "16. Remove a random element from a set.\n",
    "sources:\n",
    "1. https://www.geeksforgeeks.org/python-remove-random-element-from-list/?ref=gcse"
   ]
  },
  {
   "cell_type": "code",
   "execution_count": 554,
   "id": "21303b1f",
   "metadata": {},
   "outputs": [
    {
     "name": "stdout",
     "output_type": "stream",
     "text": [
      "Input set : {1, 2, 3, 4, 5, 6, 8}\n",
      "value to remove from set : 5\n",
      "set after removing 5 value from it : {1, 2, 3, 4, 6, 8}\n"
     ]
    }
   ],
   "source": [
    "# Import module\n",
    "import random\n",
    "\n",
    "# Create a set\n",
    "my_set = {1, 3, 2, 4, 5, 6, 8}\n",
    "print('Input set :', my_set)\n",
    "\n",
    "# Select a random value from set\n",
    "n = random.choice(list(my_set))\n",
    "print('value to remove from set :', n)\n",
    "\n",
    "# Remove element from the set\n",
    "my_set.remove(n)\n",
    "\n",
    "# Print updated set\n",
    "print(f'set after removing {n} value from it :', my_set)"
   ]
  },
  {
   "cell_type": "raw",
   "id": "e33e061d",
   "metadata": {},
   "source": [
    "17. Pop an element from a set."
   ]
  },
  {
   "cell_type": "code",
   "execution_count": 571,
   "id": "2a78f341",
   "metadata": {},
   "outputs": [
    {
     "name": "stdout",
     "output_type": "stream",
     "text": [
      "Input set : {2, 3, 4, 5, 6, 8}\n",
      "updated set after removing 2 value : {3, 4, 5, 6, 8}\n"
     ]
    }
   ],
   "source": [
    "# Create a set\n",
    "my_set = {3, 2, 4, 5, 6, 8}\n",
    "print('Input set :', my_set)\n",
    "\n",
    "# Use pop function to remove single element from set\n",
    "n = my_set.pop()\n",
    "\n",
    "# Print updated set\n",
    "print(f'updated set after removing {n} value :', my_set)\n"
   ]
  },
  {
   "cell_type": "raw",
   "id": "d36ebc7d",
   "metadata": {},
   "source": [
    "18. Check if two sets have no elements in common."
   ]
  },
  {
   "cell_type": "code",
   "execution_count": 574,
   "id": "7feebe66",
   "metadata": {},
   "outputs": [
    {
     "name": "stdout",
     "output_type": "stream",
     "text": [
      "input set 1: {40, 10, 20, 30}\n",
      "input set 2: {1, 3, 5, 6, 8}\n",
      "Yes, two sets have no elements in common\n"
     ]
    }
   ],
   "source": [
    "# Create two sets\n",
    "set1 = {10, 20, 30, 40}\n",
    "print('input set 1:', set1)\n",
    "set2 = {1, 3, 5, 6, 8}\n",
    "print('input set 2:', set2)\n",
    "\n",
    "# Checking if sets have common elements\n",
    "is_common = set1.isdisjoint(set2)\n",
    "\n",
    "if is_common:\n",
    "    print('Yes, two sets have no elements in common')\n",
    "else:\n",
    "    print('No, two sets have elements in common')"
   ]
  },
  {
   "cell_type": "raw",
   "id": "a8e8cae4",
   "metadata": {},
   "source": [
    "19. Find the symmetric difference between two sets."
   ]
  },
  {
   "cell_type": "code",
   "execution_count": 576,
   "id": "f856a6f8",
   "metadata": {},
   "outputs": [
    {
     "name": "stdout",
     "output_type": "stream",
     "text": [
      "Input set 1: {1, 2, 3, 4, 5}\n",
      "Input set 2: {3, 4, 5, 6, 7}\n",
      "symmetric difference betwee two sets : {1, 2, 6, 7}\n"
     ]
    }
   ],
   "source": [
    "# Create two sets to find symmetric difference between them\n",
    "set1 = {1, 2, 3, 4, 5}\n",
    "set2 = {3, 4, 5, 6, 7}\n",
    "print('Input set 1:', set1)\n",
    "print('Input set 2:', set2)\n",
    "\n",
    "# finding stmmetric difference between two sets\n",
    "output_set = set1.symmetric_difference(set2)\n",
    "\n",
    "# Print output\n",
    "print(f'symmetric difference betwee two sets :', output_set)"
   ]
  },
  {
   "cell_type": "raw",
   "id": "678f73d5",
   "metadata": {},
   "source": [
    "20. Update a set with elements from another set."
   ]
  },
  {
   "cell_type": "code",
   "execution_count": 586,
   "id": "0e4c156b",
   "metadata": {},
   "outputs": [
    {
     "name": "stdout",
     "output_type": "stream",
     "text": [
      "Input set 1: {1, 2, 3, 4, 5, 6}\n",
      "Input set 2: {7, 8, 9, 10, 11}\n",
      "updated set1: {1, 2, 3, 4, 5, 6, 7, 8, 9, 10, 11}\n"
     ]
    }
   ],
   "source": [
    "# import module\n",
    "import random\n",
    "\n",
    "# Create two sets\n",
    "set1 = {1, 2, 3, 4, 5, 6}\n",
    "set2 = {7, 8, 9, 10, 11}\n",
    "print('Input set 1:', set1)\n",
    "print('Input set 2:', set2)\n",
    "\n",
    "# update a set1 with set2 elements\n",
    "set1.update(set2)\n",
    "print('updated set1:', set1)"
   ]
  },
  {
   "cell_type": "raw",
   "id": "f74034d2",
   "metadata": {},
   "source": [
    "21. Create a set of the first 5 prime numbers."
   ]
  },
  {
   "cell_type": "code",
   "execution_count": 306,
   "id": "679b6ce0",
   "metadata": {},
   "outputs": [
    {
     "name": "stdout",
     "output_type": "stream",
     "text": [
      "Enter the number: 5\n",
      "The first 5 prime numbers are: {2, 3, 5, 7, 11}\n"
     ]
    }
   ],
   "source": [
    "def first_n_prime(n):\n",
    "    primes = []\n",
    "    num = 2\n",
    "    while len(primes) < n:\n",
    "        if all(num % i != 0 for i in range(2, int(num ** 0.5) + 1)):\n",
    "            primes.append(num)\n",
    "        num += 1\n",
    "    return set(primes)\n",
    "\n",
    "# Get user input for the number of primes to find\n",
    "n = int(input('Enter the number: '))\n",
    "result = first_n_prime(n)\n",
    "print(f\"The first {n} prime numbers are: {result}\")\n"
   ]
  },
  {
   "cell_type": "raw",
   "id": "43f60b9b",
   "metadata": {},
   "source": [
    "22. Check if two sets are identical."
   ]
  },
  {
   "cell_type": "code",
   "execution_count": 590,
   "id": "a5cfb116",
   "metadata": {},
   "outputs": [
    {
     "name": "stdout",
     "output_type": "stream",
     "text": [
      "Yes, two sets are identical\n"
     ]
    }
   ],
   "source": [
    "# Create two sets\n",
    "set1 = {1, 2, 3, 4, 5}\n",
    "set2 = {1, 2, 3, 4, 5}\n",
    "\n",
    "# Check two sets are identical\n",
    "if set1 == set2:\n",
    "    print('Yes, two sets are identical')\n",
    "else:\n",
    "    print('No, two sets are not identical')"
   ]
  },
  {
   "cell_type": "raw",
   "id": "62ef9ec8",
   "metadata": {},
   "source": [
    "23. Create a frozen set."
   ]
  },
  {
   "cell_type": "code",
   "execution_count": 593,
   "id": "88f2fd44",
   "metadata": {},
   "outputs": [
    {
     "name": "stdout",
     "output_type": "stream",
     "text": [
      "Input set : {1, 2, 3, 4, 5, 6}\n",
      "Frozen set : frozenset({1, 2, 3, 4, 5, 6})\n"
     ]
    }
   ],
   "source": [
    "# Create a set\n",
    "my_set = {1, 2, 3, 4, 5, 6}\n",
    "print('Input set :', my_set)\n",
    "\n",
    "frozen_set = frozenset(my_set)\n",
    "\n",
    "# print forzen set\n",
    "print('Frozen set :', frozen_set)"
   ]
  },
  {
   "cell_type": "raw",
   "id": "a8888f04",
   "metadata": {},
   "source": [
    "24. Check if a set is disjoint with another set."
   ]
  },
  {
   "cell_type": "code",
   "execution_count": 599,
   "id": "ccd840b3",
   "metadata": {},
   "outputs": [
    {
     "name": "stdout",
     "output_type": "stream",
     "text": [
      "Input set1 : {1, 2, 3, 4, 5}\n",
      "Input set2 : {6, 7, 8, 9, 10}\n",
      "Yes, set1 is disjoint with set2\n"
     ]
    }
   ],
   "source": [
    "# Create two sets\n",
    "set1 = {1, 2, 3, 4, 5}\n",
    "set2 = {6, 7, 8, 9, 10}\n",
    "print('Input set1 :', set1)\n",
    "print('Input set2 :', set2)\n",
    "\n",
    "# Check if set is disjoint with another set \n",
    "is_disjoint = set1.isdisjoint(set2)\n",
    "\n",
    "if is_disjoint :\n",
    "    print('Yes, set1 is disjoint with set2')\n",
    "else:\n",
    "    print('No, set1 is not disjoint with set2')"
   ]
  },
  {
   "cell_type": "raw",
   "id": "1960ca41",
   "metadata": {},
   "source": [
    "25. Create a set of squares of numbers from 1 to 5."
   ]
  },
  {
   "cell_type": "code",
   "execution_count": 606,
   "id": "28ea0227",
   "metadata": {},
   "outputs": [
    {
     "name": "stdout",
     "output_type": "stream",
     "text": [
      "Input : {1, 2, 3, 4, 5}\n",
      "Output : {1, 4, 9, 16, 25}\n"
     ]
    }
   ],
   "source": [
    "# Create a set with numbers from 1 to 5\n",
    "my_set = {1, 2, 3, 4, 5}\n",
    "print('Input :', my_set)\n",
    "\n",
    "# Calculate square of each element in the set\n",
    "square_my_set = set([i **2 for i in my_set])\n",
    "\n",
    "# Print outout\n",
    "print('Output :', square_my_set)"
   ]
  },
  {
   "cell_type": "raw",
   "id": "584e7b01",
   "metadata": {},
   "source": [
    "26. Filter out all even numbers from a set."
   ]
  },
  {
   "cell_type": "code",
   "execution_count": 610,
   "id": "c03b1a81",
   "metadata": {},
   "outputs": [
    {
     "name": "stdout",
     "output_type": "stream",
     "text": [
      "Input : {1, 2, 3, 4, 5, 6, 7, 8, 9, 10, 11}\n",
      "set after filtering even numbers : {1, 3, 5, 7, 9, 11}\n"
     ]
    }
   ],
   "source": [
    "# Create a set with numbers from 1 to 11\n",
    "my_set = {1, 2, 3, 4, 5, 6, 7, 8, 9, 10, 11}\n",
    "print('Input :', my_set)\n",
    "\n",
    "# Remove even numbers from set\n",
    "odd_num_set = set([i for i in my_set if i % 2 != 0])\n",
    "\n",
    "# Print the output\n",
    "print('set after filtering even numbers :', odd_num_set)\n"
   ]
  },
  {
   "cell_type": "raw",
   "id": "3c16a750",
   "metadata": {},
   "source": [
    "27. Multiply all elements in a set by 2."
   ]
  },
  {
   "cell_type": "code",
   "execution_count": 614,
   "id": "797047aa",
   "metadata": {},
   "outputs": [
    {
     "name": "stdout",
     "output_type": "stream",
     "text": [
      "Input : {1, 2, 3, 4, 5, 6, 7, 8, 9, 10, 11}\n",
      "set after multiply with 2 : {2, 4, 6, 8, 10, 12, 14, 16, 18, 20, 22}\n"
     ]
    }
   ],
   "source": [
    "# Create a set with numbers from 1 to 10\n",
    "my_set = {1, 2, 3, 4, 5, 6, 7, 8, 9, 10, 11}\n",
    "print('Input :', my_set)\n",
    "\n",
    "# Multiply all element by 2\n",
    "mul_my_set = set([i * 2 for i in my_set])\n",
    "\n",
    "# Print output\n",
    "print('set after multiply with 2 :', mul_my_set)"
   ]
  },
  {
   "cell_type": "raw",
   "id": "6cd25e0e",
   "metadata": {},
   "source": [
    "28. Create a set of random numbers."
   ]
  },
  {
   "cell_type": "code",
   "execution_count": 621,
   "id": "0d9cc4fa",
   "metadata": {},
   "outputs": [
    {
     "name": "stdout",
     "output_type": "stream",
     "text": [
      "Output : {97, 65, 98, 6, 78, 17, 24, 90, 95, 63}\n"
     ]
    }
   ],
   "source": [
    "# import module\n",
    "import random \n",
    "\n",
    "# Create a empty set\n",
    "my_set = set()\n",
    "\n",
    "# Generate 10 random numbers and add to set\n",
    "for i in range(10):\n",
    "    r = random.random()\n",
    "    my_set.add(int(r*100))\n",
    "    \n",
    "# print output\n",
    "print('Output :', my_set)"
   ]
  },
  {
   "cell_type": "raw",
   "id": "e03f5367",
   "metadata": {},
   "source": [
    "29. Check if a set is empty."
   ]
  },
  {
   "cell_type": "code",
   "execution_count": 626,
   "id": "4c986bf7",
   "metadata": {},
   "outputs": [
    {
     "name": "stdout",
     "output_type": "stream",
     "text": [
      "Yes, set is empty\n"
     ]
    }
   ],
   "source": [
    "# Create a set\n",
    "my_set = set()\n",
    "\n",
    "# Checking set is empty or not\n",
    "if len(my_set) == 0:\n",
    "    print('Yes, set is empty')\n",
    "else:\n",
    "    print('No, set is not empty')"
   ]
  },
  {
   "cell_type": "raw",
   "id": "5a2d299f",
   "metadata": {},
   "source": [
    "30. Create a nested set (hint: use frozenset)."
   ]
  },
  {
   "cell_type": "code",
   "execution_count": 632,
   "id": "f474ebbf",
   "metadata": {},
   "outputs": [
    {
     "name": "stdout",
     "output_type": "stream",
     "text": [
      "nested set : {1, 2, 6, frozenset({3, 4, 5}), frozenset({8, 9, 7})}\n"
     ]
    }
   ],
   "source": [
    "# Create a nested set\n",
    "set1 =  {1, 2, frozenset({3, 4, 5}), 6, frozenset({7, 8, 9})}\n",
    "\n",
    "# Print output\n",
    "print('nested set :', set1)"
   ]
  },
  {
   "cell_type": "raw",
   "id": "c88f60f5",
   "metadata": {},
   "source": [
    "31. Remove an element from a set using the discard method."
   ]
  },
  {
   "cell_type": "code",
   "execution_count": 636,
   "id": "b6ab1460",
   "metadata": {},
   "outputs": [
    {
     "name": "stdout",
     "output_type": "stream",
     "text": [
      "set after removing 5 value : {1, 2, 3, 7}\n"
     ]
    }
   ],
   "source": [
    "# Create a set\n",
    "my_set = {1, 3, 2, 5, 7}\n",
    "\n",
    "# Remove element using discard method\n",
    "my_set.discard(5)\n",
    "\n",
    "# Print updated set\n",
    "print('set after removing 5 value :', my_set )"
   ]
  },
  {
   "cell_type": "raw",
   "id": "4c4dea0d",
   "metadata": {},
   "source": [
    "32. Compare two sets."
   ]
  },
  {
   "cell_type": "code",
   "execution_count": 10,
   "id": "26d46943",
   "metadata": {},
   "outputs": [
    {
     "name": "stdout",
     "output_type": "stream",
     "text": [
      "Elements are not same in  set\n"
     ]
    }
   ],
   "source": [
    "# Create two sets\n",
    "my_set1 = {1, 2, 3, 4, 5}\n",
    "my_set2 = {6, 7, 8, 4, 2}\n",
    "\n",
    "## Comparing two sets\n",
    "if my_set1 == my_set2:\n",
    "    print('All elements are same in bothe the setse')\n",
    "else:\n",
    "    print('Elements are not same in  set')"
   ]
  },
  {
   "cell_type": "raw",
   "id": "d3671f3d",
   "metadata": {},
   "source": [
    "33. Create a set from a string."
   ]
  },
  {
   "cell_type": "code",
   "execution_count": 14,
   "id": "b43bf6ab",
   "metadata": {},
   "outputs": [
    {
     "name": "stdout",
     "output_type": "stream",
     "text": [
      "Input string : pwskills\n",
      "string to sets : {'p', 'k', 'w', 'l', 's', 'i'}\n"
     ]
    }
   ],
   "source": [
    "# Create a variable with string value\n",
    "string = 'pwskills'\n",
    "print('Input string :', string)\n",
    "\n",
    "# Create a set from string\n",
    "set_string = set(string)\n",
    "\n",
    "# Print the result\n",
    "print('string to sets :', set_string)"
   ]
  },
  {
   "cell_type": "raw",
   "id": "6d637fba",
   "metadata": {},
   "source": [
    "34. Convert a set of strings to a set of integers."
   ]
  },
  {
   "cell_type": "code",
   "execution_count": 17,
   "id": "5cf3ed8b",
   "metadata": {},
   "outputs": [
    {
     "name": "stdout",
     "output_type": "stream",
     "text": [
      "Input string set : {'3', '1', '4', '2', '5'}\n",
      "set of string to set of integer : {1, 2, 3, 4, 5}\n"
     ]
    }
   ],
   "source": [
    "# Create a set with string value\n",
    "set_str = {'1', '2', '3', '4', '5'}\n",
    "print('Input string set :', set_str)\n",
    "\n",
    "# Conevrt string values to integres\n",
    "set_int = set([int(i) for i in str_set])\n",
    "\n",
    "# Print output\n",
    "print('set of string to set of integer :', set_int)\n"
   ]
  },
  {
   "cell_type": "raw",
   "id": "89253f6d",
   "metadata": {},
   "source": [
    "35. Convert a set of integers to a set of strings."
   ]
  },
  {
   "cell_type": "code",
   "execution_count": 20,
   "id": "248d3770",
   "metadata": {},
   "outputs": [
    {
     "name": "stdout",
     "output_type": "stream",
     "text": [
      "Input set of integres : {1, 3, 4, 5, 7}\n",
      "set of integers to set of strings : ['1', '3', '4', '5', '7']\n"
     ]
    }
   ],
   "source": [
    "# Create a set with integer values\n",
    "set_int = {1, 3, 5, 4, 7}\n",
    "print('Input set of integres :', set_int)\n",
    "\n",
    "# Convert set of integers to set of strings\n",
    "set_str = [str(i) for i in set_int]\n",
    "\n",
    "# Print output\n",
    "print('set of integers to set of strings :', set_str)"
   ]
  },
  {
   "cell_type": "raw",
   "id": "f32d7d7f",
   "metadata": {},
   "source": [
    "36. Create a set from a tuple."
   ]
  },
  {
   "cell_type": "code",
   "execution_count": 23,
   "id": "ec358d52",
   "metadata": {},
   "outputs": [
    {
     "name": "stdout",
     "output_type": "stream",
     "text": [
      "Input tuple : (1, 2, 4, 5, 2, 1, 'a', 'b')\n",
      "set from tuple : {1, 2, 4, 5, 'b', 'a'}\n"
     ]
    }
   ],
   "source": [
    "# Create tuple \n",
    "t = (1, 2, 4, 5, 2, 1, 'a', 'b')\n",
    "print('Input tuple :', t)\n",
    "\n",
    "# Convert tuple to set\n",
    "s  = set(t)\n",
    "\n",
    "# Print output\n",
    "print('set from tuple :', s)"
   ]
  },
  {
   "cell_type": "raw",
   "id": "e8b07b35",
   "metadata": {},
   "source": [
    "37. Convert a set to a tuple."
   ]
  },
  {
   "cell_type": "code",
   "execution_count": 25,
   "id": "9a7f43e3",
   "metadata": {},
   "outputs": [
    {
     "name": "stdout",
     "output_type": "stream",
     "text": [
      "Tuple from set : (1, 2, 4, 's', 'h')\n"
     ]
    }
   ],
   "source": [
    "# Create a set\n",
    "s = {1, 4, 2, 's', 'h'}\n",
    "\n",
    "# Convert set to tuple\n",
    "t = tuple(s)\n",
    "\n",
    "# Print output\n",
    "print('Tuple from set :', t)"
   ]
  },
  {
   "cell_type": "raw",
   "id": "0bcc110e",
   "metadata": {},
   "source": [
    "38. Find the maximum value in a set."
   ]
  },
  {
   "cell_type": "code",
   "execution_count": 28,
   "id": "9bb35105",
   "metadata": {},
   "outputs": [
    {
     "name": "stdout",
     "output_type": "stream",
     "text": [
      "Given set : {65, 20, 10, 45, 30}\n",
      "Maximum value in the give set : 65\n"
     ]
    }
   ],
   "source": [
    "# Create a set with integer values\n",
    "s = {10, 30, 45, 65, 20}\n",
    "print('Given set :', s)\n",
    "\n",
    "# Find the maximum value in the set\n",
    "max_s = max(s)\n",
    "\n",
    "# Print the result\n",
    "print('Maximum value in the give set :', max_s)\n"
   ]
  },
  {
   "cell_type": "raw",
   "id": "69240d69",
   "metadata": {},
   "source": [
    "39. Find the minimum value in a set."
   ]
  },
  {
   "cell_type": "code",
   "execution_count": 29,
   "id": "b037f42b",
   "metadata": {},
   "outputs": [
    {
     "name": "stdout",
     "output_type": "stream",
     "text": [
      "Given set : {65, 20, 10, 45, 30}\n",
      "Minimum value in the give set : 10\n"
     ]
    }
   ],
   "source": [
    "# Create a set with integer values\n",
    "s = {10, 30, 45, 65, 20}\n",
    "print('Given set :', s)\n",
    "\n",
    "# Find the minimum value in the set\n",
    "min_s = min(s)\n",
    "\n",
    "# Print the result\n",
    "print('Minimum value in the give set :', min_s)\n"
   ]
  },
  {
   "cell_type": "raw",
   "id": "7e4409e5",
   "metadata": {},
   "source": [
    "40. Create a set from user input."
   ]
  },
  {
   "cell_type": "code",
   "execution_count": 33,
   "id": "6abf22f6",
   "metadata": {},
   "outputs": [
    {
     "name": "stdout",
     "output_type": "stream",
     "text": [
      "Enter the number of elements in the set :5\n",
      "Set after adding elements : {0, 1, 4, 9, 16}\n"
     ]
    }
   ],
   "source": [
    "# Initialize an empty set\n",
    "set1 = set()\n",
    "\n",
    "# Get the number of elements in the set from the user\n",
    "n = int(input('Enter the number of elements in the set :'))\n",
    "\n",
    "# Add elements to the set based on user input\n",
    "for i in range(n):\n",
    "    k = i ** 2    \n",
    "    set1.add(k)\n",
    "    \n",
    "# Print the set\n",
    "print('Set after adding elements :', set1)"
   ]
  },
  {
   "cell_type": "raw",
   "id": "3454f3e7",
   "metadata": {},
   "source": [
    "41. Check if the intersection of two sets is empty."
   ]
  },
  {
   "cell_type": "code",
   "execution_count": 43,
   "id": "0353467c",
   "metadata": {},
   "outputs": [
    {
     "name": "stdout",
     "output_type": "stream",
     "text": [
      "set 1 : {1, 2, 3, 5, 7}\n",
      "set 2 : {1, 4, 6, 8, 9}\n",
      "We do have common elements between two sets\n"
     ]
    }
   ],
   "source": [
    "# Create two sets\n",
    "s1 = {1, 3, 2, 5, 7}\n",
    "s2 = {1, 4, 8, 9, 6}\n",
    "print('set 1 :', s1)\n",
    "print('set 2 :', s2)\n",
    "\n",
    "# Check the intersection between set-1 and set-2\n",
    "if not s1.intersection(s2):\n",
    "    print(\"we don't have common elements between two sets\")\n",
    "else:\n",
    "    print(\"We do have common elements between two sets\")"
   ]
  },
  {
   "cell_type": "raw",
   "id": "07109513",
   "metadata": {},
   "source": [
    "42. Create a set of the first 5 Fibonacci numbers."
   ]
  },
  {
   "cell_type": "code",
   "execution_count": 55,
   "id": "115f2bae",
   "metadata": {},
   "outputs": [
    {
     "name": "stdout",
     "output_type": "stream",
     "text": [
      "Enter number to create fibonacci numbers :5\n",
      "First 5 fibonacci numers : {0, 1, 2, 3}\n"
     ]
    }
   ],
   "source": [
    "# Create a empty set\n",
    "fib = set()\n",
    "\n",
    "# User Input to create number of fibonacci numbers\n",
    "n = int(input('Enter number to create fibonacci numbers :'))\n",
    "\n",
    "# Create number of fibonacci values based on input \n",
    "a = 0\n",
    "b = 1\n",
    "    \n",
    "for i in range(n):\n",
    "    fib.add(a)\n",
    "    a, b = b, a + b\n",
    "    \n",
    "# Print the set\n",
    "print(f'First {n} fibonacci numers :', fib)"
   ]
  },
  {
   "cell_type": "raw",
   "id": "4e4924f9",
   "metadata": {},
   "source": [
    "43. Remove duplicates from a list using sets."
   ]
  },
  {
   "cell_type": "code",
   "execution_count": 63,
   "id": "a08d804a",
   "metadata": {},
   "outputs": [
    {
     "name": "stdout",
     "output_type": "stream",
     "text": [
      "Input list with duplicate elements : [10, 20, 25, 10, 20, 45, 30]\n",
      "List after removing duplicate elements : [10, 45, 20, 25, 30]\n"
     ]
    }
   ],
   "source": [
    "# Create a list with duplicate values\n",
    "lst = [10, 20, 25, 10, 20, 45, 30]\n",
    "print('Input list with duplicate elements :', lst)\n",
    "\n",
    "# Remove duplicates from list\n",
    "lst1 = list(set(lst))\n",
    "\n",
    "# Updated list after removing duplicate elements\n",
    "print('List after removing duplicate elements :', lst1)"
   ]
  },
  {
   "cell_type": "raw",
   "id": "df8fffaf",
   "metadata": {},
   "source": [
    "44. Check if two sets have the same elements, regardless of their count."
   ]
  },
  {
   "cell_type": "code",
   "execution_count": 64,
   "id": "80afe480",
   "metadata": {},
   "outputs": [
    {
     "name": "stdout",
     "output_type": "stream",
     "text": [
      "The sets have the same elements.\n"
     ]
    }
   ],
   "source": [
    "# Example sets to compare\n",
    "set1 = {1, 2, 3, 4, 5}\n",
    "set2 = {3, 2, 5, 4, 1}\n",
    "\n",
    "# Check if both sets have the same elements\n",
    "if set1 == set2:\n",
    "    print(\"The sets have the same elements.\")\n",
    "else:\n",
    "    print(\"The sets do not have the same elements.\")"
   ]
  },
  {
   "cell_type": "raw",
   "id": "7cde702a",
   "metadata": {},
   "source": [
    "45. Create a set of the first `n` powers of 2."
   ]
  },
  {
   "cell_type": "code",
   "execution_count": 67,
   "id": "4508a68c",
   "metadata": {},
   "outputs": [
    {
     "name": "stdout",
     "output_type": "stream",
     "text": [
      "Enter a number to create first n powers :10\n",
      "power of first 10 numbers set : {64, 1, 4, 36, 100, 9, 16, 49, 81, 25}\n"
     ]
    }
   ],
   "source": [
    "# User Input to create a set \n",
    "n = int(input('Enter a number to create first n powers :'))\n",
    "\n",
    "# Iterate through range of values based on input\n",
    "s1 = set([i**2 for i in range(1,n+1)])\n",
    "print(f'power of first {n} numbers set :', s1)"
   ]
  },
  {
   "cell_type": "raw",
   "id": "eeb9533a",
   "metadata": {},
   "source": [
    "46. Find the common elements between a set and a list."
   ]
  },
  {
   "cell_type": "code",
   "execution_count": 69,
   "id": "65a1ac2e",
   "metadata": {},
   "outputs": [
    {
     "name": "stdout",
     "output_type": "stream",
     "text": [
      "Input set : {1, 2, 3, 4, 5, 7}\n",
      "Input list : [3, 6, 2]\n",
      "common elements between set and list : {2, 3}\n"
     ]
    }
   ],
   "source": [
    "# Create a set and list\n",
    "s = {1, 2, 3, 4, 5, 7}\n",
    "l = [3, 6, 2]\n",
    "print('Input set :', s)\n",
    "print('Input list :', l)\n",
    "\n",
    "# Find the common elements between set and list\n",
    "result = s.intersection(set(l))\n",
    "\n",
    "# Print the result \n",
    "print('common elements between set and list :', result)\n"
   ]
  },
  {
   "cell_type": "raw",
   "id": "53c05c33",
   "metadata": {},
   "source": [
    "47. Create a set of the first `n` triangular numbers."
   ]
  },
  {
   "cell_type": "code",
   "execution_count": 71,
   "id": "51b786c9",
   "metadata": {},
   "outputs": [
    {
     "name": "stdout",
     "output_type": "stream",
     "text": [
      "Enter a number :5\n",
      "first 5 list of triangular numbers: {1, 3, 6, 10, 15}\n"
     ]
    }
   ],
   "source": [
    "# user Input number\n",
    "n = int(input('Enter a number :'))\n",
    "\n",
    "# Initialize empty set\n",
    "triangular_num = set()\n",
    "\n",
    "# Iterate through the range of values based on user input\n",
    "for i in range(1,n+1):\n",
    "     triangular_num.add((int((i**2+i)/2)))\n",
    "        \n",
    "print(f'first {n} list of triangular numbers:', triangular_num)"
   ]
  },
  {
   "cell_type": "raw",
   "id": "d84cd2e9",
   "metadata": {},
   "source": [
    "48. Check if a set contains another set as a subset."
   ]
  },
  {
   "cell_type": "code",
   "execution_count": 76,
   "id": "58f02e56",
   "metadata": {},
   "outputs": [
    {
     "name": "stdout",
     "output_type": "stream",
     "text": [
      "set-1 : {1, 2, 3, 5, 6, 7, 8}\n",
      "set-2 : {3, 6, 7}\n",
      "Yes, s2 is subset of s1\n"
     ]
    }
   ],
   "source": [
    "# Create two sets with integer values\n",
    "s1 = {1, 2, 3, 5, 6, 7, 8}\n",
    "s2 = {3, 6, 7}\n",
    "\n",
    "print('set-1 :', s1)\n",
    "print('set-2 :', s2)\n",
    "\n",
    "# Check s2 is subset of s1 or not\n",
    "if s2.issubset(s1):\n",
    "    print('Yes, s2 is subset of s1')\n",
    "else:\n",
    "    print('No, s2 is not subset of s1')\n"
   ]
  },
  {
   "cell_type": "raw",
   "id": "3a88a8f1",
   "metadata": {},
   "source": [
    "49. Create a set of alternating 1s and 0s of length `n`."
   ]
  },
  {
   "cell_type": "code",
   "execution_count": 84,
   "id": "4fd8ddd4",
   "metadata": {},
   "outputs": [
    {
     "name": "stdout",
     "output_type": "stream",
     "text": [
      "Set of alternating 1s and 0s of length 10: {0, 1}\n"
     ]
    }
   ],
   "source": [
    "# Function to generate a set of alternating 1s and 0s of length n\n",
    "def generate_alternating_set(n):\n",
    "    alternating_set = set()\n",
    "    for i in range(n):\n",
    "        alternating_set.add(i % 2)\n",
    "    return alternating_set\n",
    "\n",
    "# Specify the length of the set\n",
    "n = 10\n",
    "\n",
    "# Generate the set of alternating 1s and 0s\n",
    "result_set = generate_alternating_set(n)\n",
    "\n",
    "# Print the resulting set\n",
    "print(f\"Set of alternating 1s and 0s of length {n}: {result_set}\")\n"
   ]
  },
  {
   "cell_type": "raw",
   "id": "2510d4ae",
   "metadata": {},
   "source": [
    "50. Merge multiple sets into one."
   ]
  },
  {
   "cell_type": "code",
   "execution_count": 79,
   "id": "9ec82431",
   "metadata": {},
   "outputs": [
    {
     "name": "stdout",
     "output_type": "stream",
     "text": [
      "set-1 : {1, 2, 3, 4, 5}\n",
      "set-2 : {4, 6, 7}\n",
      "set-3 : {1, 8, 9, 10, 11}\n",
      "set-1 after merging with multiple sets : {1, 2, 3, 4, 5, 6, 7, 8, 9, 10, 11}\n"
     ]
    }
   ],
   "source": [
    "# Create multiple sets\n",
    "s1 = {1, 2, 3, 4, 5}\n",
    "s2 = {4, 6, 7}\n",
    "s3 = {1, 8, 9, 10, 11}\n",
    "\n",
    "print('set-1 :', s1)\n",
    "print('set-2 :', s2)\n",
    "print('set-3 :', s3)\n",
    "\n",
    "# Merge multiple sets into one\n",
    "s1 = s1.union(s2, s3)\n",
    "\n",
    "# Print result\n",
    "print('set-1 after merging with multiple sets :', s1)\n"
   ]
  },
  {
   "cell_type": "code",
   "execution_count": 294,
   "id": "7fe8467a",
   "metadata": {},
   "outputs": [],
   "source": []
  }
 ],
 "metadata": {
  "kernelspec": {
   "display_name": "Python 3 (ipykernel)",
   "language": "python",
   "name": "python3"
  },
  "language_info": {
   "codemirror_mode": {
    "name": "ipython",
    "version": 3
   },
   "file_extension": ".py",
   "mimetype": "text/x-python",
   "name": "python",
   "nbconvert_exporter": "python",
   "pygments_lexer": "ipython3",
   "version": "3.9.13"
  }
 },
 "nbformat": 4,
 "nbformat_minor": 5
}
